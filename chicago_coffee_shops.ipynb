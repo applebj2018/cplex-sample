{
 "cells": [
  {
   "cell_type": "markdown",
   "metadata": {
    "render": false
   },
   "source": [
    "# Finding optimal locations of new stores\n",
    "\n",
    "This tutorial includes everything you need to set up IBM Decision Optimization CPLEX Modeling for Python (DOcplex), build a Mathematical Programming model, and get its solution by solving the model on the cloud with IBM ILOG CPLEX Optimizer.\n",
    "\n",
    "When you finish this tutorial, you'll have a foundational knowledge of _Prescriptive Analytics_.\n",
    "\n",
    ">This notebook is part of [Prescriptive Analytics for Python](http://ibmdecisionoptimization.github.io/docplex-doc/).\n",
    "\n",
    ">It requires an [installation of CPLEX Optimizers](http://ibmdecisionoptimization.github.io/docplex-doc/getting_started.html)\n",
    "\n",
    "Discover us [here](https://developer.ibm.com/docloud)\n",
    "\n",
    "\n",
    "Table of contents:\n",
    "\n",
    "-  [Describe the business problem](#Describe-the-business-problem)\n",
    "*  [How decision optimization (prescriptive analytics) can help](#How--decision-optimization-can-help)\n",
    "*  [Use decision optimization](#Use-decision-optimization)\n",
    "    *  [Step 1: Import the library](#Step-1:-Import-the-library)\n",
    "    -  [Step 2: Model the data](#Step-2:-Model-the-data)\n",
    "    *  [Step 3: Prepare the data](#Step-3:-Prepare-the-data)\n",
    "    -  [Step 4: Set up the prescriptive model](#Step-5=4:-Set-up-the-prescriptive-model)\n",
    "        * [Define the decision variables](#Define-the-decision-variables)\n",
    "        * [Express the business constraints](#Express-the-business-constraints)\n",
    "        * [Express the objective](#Express-the-objective)\n",
    "        * [Solve with Decision Optimization](#Solve-with-Decision-Optimization)\n",
    "    *  [Step 5: Investigate the solution and run an example analysis](#Step-5:-Investigate-the-solution-and-then-run-an-example-analysis)\n",
    "*  [Summary](#Summary)\n",
    "\n",
    "****"
   ]
  },
  {
   "cell_type": "markdown",
   "metadata": {
    "render": false
   },
   "source": [
    "## Describe the business problem\n",
    "\n",
    "* A fictional Coffee Company plans to open N shops in the near future and needs to determine where they should be located knowing the following:\n",
    "    * Most of the customers of this coffee brewer enjoy reading and borrowing books, so the goal is to locate those shops in such a way that all the city public libraries are within minimal walking distance.\n",
    "* We use [Chicago open data](https://data.cityofchicago.org) for this example.\n",
    "* We implement a [K-Median model](https://en.wikipedia.org/wiki/K-medians_clustering) to get the optimal location of our future shops.\n",
    "\n",
    "### 描述业务问题\n",
    "\n",
    "* 一家虚构的咖啡公司计划在不久的将来开设N家咖啡店，需要在了解以下信息的情况下确定它们的位置：\n",
    "\n",
    "+ 这家咖啡店的大多数顾客都喜欢阅读和借书，所以我们的目标是将这些商店的位置设置成所有城市公共图书馆都在最短步行距离内的地方。\n",
    "\n",
    "我们在这个例子中使用芝加哥公开数据。\n",
    "\n",
    "我们实施了一个K-中值模型，以获得我们未来商店的最佳位置。"
   ]
  },
  {
   "cell_type": "markdown",
   "metadata": {
    "render": false
   },
   "source": [
    "## How  decision optimization can help\n",
    "\n",
    "* Prescriptive analytics (decision optimization) technology recommends actions that are based on desired outcomes.  It takes into account specific scenarios, resources, and knowledge of past and current events. With this insight, your organization can make better decisions and have greater control of business outcomes.  \n",
    "\n",
    "* Prescriptive analytics is the next step on the path to insight-based actions. It creates value through synergy with predictive analytics, which analyzes data to predict future outcomes.  \n",
    "\n",
    "* Prescriptive analytics takes that insight to the next level by suggesting the optimal way to handle that future situation. Organizations that can act fast in dynamic conditions and make superior decisions in uncertain environments gain a strong competitive advantage.  \n",
    "<br/>\n",
    "\n",
    "<u>With prescriptive analytics, you can:</u> \n",
    "\n",
    "* Automate the complex decisions and trade-offs to better manage your limited resources.\n",
    "* Take advantage of a future opportunity or mitigate a future risk.\n",
    "* Proactively update recommendations based on changing events.\n",
    "* Meet operational goals, increase customer loyalty, prevent threats and fraud, and optimize business processes."
   ]
  },
  {
   "cell_type": "markdown",
   "metadata": {},
   "source": [
    "## Use decision optimization"
   ]
  },
  {
   "cell_type": "markdown",
   "metadata": {},
   "source": [
    "### Step 1: Import the library\n",
    "\n",
    "Run the following code to import the Decision Optimization CPLEX Modeling library.  The *DOcplex* library contains the two modeling packages, Mathematical Programming and Constraint Programming, referred to earlier."
   ]
  },
  {
   "cell_type": "code",
   "execution_count": 99,
   "metadata": {},
   "outputs": [],
   "source": [
    "import sys\n",
    "try:\n",
    "    import docplex.mp\n",
    "except:\n",
    "    raise Exception('Please install docplex. See https://pypi.org/project/docplex/')      "
   ]
  },
  {
   "cell_type": "markdown",
   "metadata": {},
   "source": [
    "<i>Note that the more global package docplex contains another subpackage docplex.cp that is dedicated to Constraint Programming, another branch of optimization.</i>"
   ]
  },
  {
   "cell_type": "markdown",
   "metadata": {
    "render": false
   },
   "source": [
    "### Step 2: Model the data\n",
    "\n",
    "- The data for this problem is quite simple: it is composed of the list of public libraries and their geographical locations.\n",
    "- The data is acquired from [Chicago open data](https://data.cityofchicago.org) as a JSON file, which is in the following format:\n",
    "<code>\n",
    "data\" : [ [ 1, \"13BFA4C7-78CE-4D83-B53D-B57C60B701CF\", 1, 1441918880, \"885709\", 1441918880, \"885709\", null, \"Albany Park\", \"M, W: 10AM-6PM;  TU, TH: 12PM-8PM; F, SA: 9AM-5PM; SU: Closed\", \"Yes\", \"Yes \", \"3401 W. Foster Avenue\", \"CHICAGO\", \"IL\", \"60625\", \"(773) 539-5450\", [ \"http://www.chipublib.org/locations/1/\", null ], [ null, \"41.975456\", \"-87.71409\", null, false ] ]\n",
    "</code>\n",
    "This code snippet represents library \"**3401 W. Foster Avenue**\" located at **41.975456, -87.71409**\n"
   ]
  },
  {
   "cell_type": "markdown",
   "metadata": {},
   "source": [
    "Disclaimer:\n",
    "This site provides applications using data that has been modified for use from its original source, www.cityofchicago.org, the official website of the City of Chicago.  The City of Chicago makes no claims as to the content, accuracy, timeliness, or completeness of any of the data provided at this site.  The data provided at this site is subject to change at any time.  It is understood that the data provided at this site is being used at one’s own risk."
   ]
  },
  {
   "cell_type": "markdown",
   "metadata": {
    "render": false
   },
   "source": [
    "### Step 3: Prepare the data\n",
    "We need to collect the list of public libraries locations and keep their names, latitudes, and longitudes."
   ]
  },
  {
   "cell_type": "code",
   "execution_count": 100,
   "metadata": {},
   "outputs": [],
   "source": [
    "# Store longitude, latitude and street crossing name of each public library location.\n",
    "class XPoint(object):\n",
    "    def __init__(self, x, y):\n",
    "        self.x = x\n",
    "        self.y = y\n",
    "    def __str__(self):\n",
    "        return \"P(%g_%g)\" % (self.x, self.y)\n",
    "\n",
    "class NamedPoint(XPoint):\n",
    "    def __init__(self, name, x, y):\n",
    "        XPoint.__init__(self, x, y)\n",
    "        self.name = name\n",
    "    def __str__(self):\n",
    "        return self.name"
   ]
  },
  {
   "cell_type": "markdown",
   "metadata": {
    "render": false
   },
   "source": [
    "#### Define how to compute the earth distance between 2 points\n",
    "To easily compute distance between 2 points, we use the Python package [geopy](https://pypi.python.org/pypi/geopy)"
   ]
  },
  {
   "cell_type": "code",
   "execution_count": 101,
   "metadata": {},
   "outputs": [],
   "source": [
    "try:\n",
    "    import geopy.distance\n",
    "except:\n",
    "    if hasattr(sys, 'real_prefix'):\n",
    "        #we are in a virtual env.\n",
    "        !pip install geopy \n",
    "    else:\n",
    "        !pip install --user geopy"
   ]
  },
  {
   "cell_type": "code",
   "execution_count": 102,
   "metadata": {},
   "outputs": [],
   "source": [
    "# Simple distance computation between 2 locations.\n",
    "from geopy.distance import great_circle\n",
    " \n",
    "def get_distance(p1, p2):\n",
    "    return great_circle((p1.y, p1.x), (p2.y, p2.x)).miles"
   ]
  },
  {
   "cell_type": "markdown",
   "metadata": {
    "render": false
   },
   "source": [
    "#### Declare the list of libraries\n",
    "Parse the JSON file to get the list of libraries and store them as Python elements."
   ]
  },
  {
   "cell_type": "code",
   "execution_count": 103,
   "metadata": {
    "render": false
   },
   "outputs": [],
   "source": [
    "def build_libraries_from_url(url, name_pos, lat_long_pos):\n",
    "    import requests\n",
    "    import json\n",
    "\n",
    "    r = requests.get(url)\n",
    "    myjson = json.loads(r.text, parse_constant='utf-8')\n",
    "    myjson = myjson['data']    \n",
    "    #print(myjson)\n",
    "    libraries = []\n",
    "    k = 1\n",
    "    for location in myjson:\n",
    "        #uname = location[name_pos]\n",
    "        #print(uname)\n",
    "        try:\n",
    "            #print(location)\n",
    "            latitude = float(location[lat_long_pos][1])\n",
    "            longitude = float(location[lat_long_pos][2])\n",
    "                      \n",
    "        except TypeError:\n",
    "            latitude = longitude = None\n",
    "        try:\n",
    "            name = str(uname)\n",
    "        except:\n",
    "            name = \"???\"\n",
    "        name = \"P_%s_%d\" % (name, k)\n",
    "        if latitude and longitude:\n",
    "            cp = NamedPoint(name, longitude, latitude)\n",
    "            libraries.append(cp)\n",
    "            k += 1\n",
    "    return libraries"
   ]
  },
  {
   "cell_type": "markdown",
   "metadata": {},
   "source": [
    "a locaion record looks like this one： \n",
    "['row-3h4s~qusi-pja5', '00000000-0000-0000-10B3-597CCA778E82', 0, 1566177885, None, 1566177886, None, '{ }', 'Vodak-East Side', 'Sun., Closed; Mon. & Wed., Noon-8; Tue. & Thu., 10-6; Fri. & Sat., 9-5', '3710 E. 106th St.', 'Chicago', 'IL', '60617', '(312) 747-5281', ['https://www.chipublib.org/locations/71/', None], [None, '41.70302747819179', '-87.53350318470449', None, False], '25', '49', '21202', '715', '47']"
   ]
  },
  {
   "cell_type": "markdown",
   "metadata": {},
   "source": [
    "lat_long_pos position in the [] is 16, NOT 18. spent a hour to debug this error, "
   ]
  },
  {
   "cell_type": "code",
   "execution_count": 104,
   "metadata": {},
   "outputs": [],
   "source": [
    "libraries = build_libraries_from_url('https://data.cityofchicago.org/api/views/x8fc-8rcq/rows.json?accessType=DOWNLOAD',\n",
    "                                   name_pos=12,\n",
    "                                   lat_long_pos=16)"
   ]
  },
  {
   "cell_type": "code",
   "execution_count": 105,
   "metadata": {
    "render": false
   },
   "outputs": [
    {
     "name": "stdout",
     "output_type": "stream",
     "text": [
      "There are 81 public libraries in Chicago\n"
     ]
    }
   ],
   "source": [
    "print(\"There are %d public libraries in Chicago\" % (len(libraries)))"
   ]
  },
  {
   "cell_type": "markdown",
   "metadata": {},
   "source": [
    "#### Define number of shops to open\n",
    "Create a constant that indicates how many coffee shops we would like to open."
   ]
  },
  {
   "cell_type": "code",
   "execution_count": 106,
   "metadata": {
    "render": false
   },
   "outputs": [
    {
     "name": "stdout",
     "output_type": "stream",
     "text": [
      "We would like to open 5 coffee shops\n"
     ]
    }
   ],
   "source": [
    "nb_shops = 5\n",
    "print(\"We would like to open %d coffee shops\" % nb_shops)"
   ]
  },
  {
   "cell_type": "markdown",
   "metadata": {
    "render": false
   },
   "source": [
    "#### Validate the data by displaying them\n",
    "We will use the [folium](https://folium.readthedocs.org/en/latest/quickstart.html#getting-started) library to display a map with markers."
   ]
  },
  {
   "cell_type": "code",
   "execution_count": 107,
   "metadata": {},
   "outputs": [],
   "source": [
    "try:\n",
    "    import folium\n",
    "except:\n",
    "    if hasattr(sys, 'real_prefix'):\n",
    "        #we are in a virtual env.\n",
    "        !pip install folium \n",
    "    else:\n",
    "        !pip install --user folium"
   ]
  },
  {
   "cell_type": "code",
   "execution_count": 108,
   "metadata": {
    "scrolled": true
   },
   "outputs": [
    {
     "data": {
      "text/html": [
       "<div style=\"width:100%;\"><div style=\"position:relative;width:100%;height:0;padding-bottom:60%;\"><span style=\"color:#565656\">Make this Notebook Trusted to load map: File -> Trust Notebook</span><iframe src=\"about:blank\" style=\"position:absolute;width:100%;height:100%;left:0;top:0;border:none !important;\" data-html=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 onload=\"this.contentDocument.open();this.contentDocument.write(atob(this.getAttribute('data-html')));this.contentDocument.close();\" allowfullscreen webkitallowfullscreen mozallowfullscreen></iframe></div></div>"
      ],
      "text/plain": [
       "<folium.folium.Map at 0x233c68a4d08>"
      ]
     },
     "execution_count": 108,
     "metadata": {},
     "output_type": "execute_result"
    }
   ],
   "source": [
    "import folium\n",
    "map_osm = folium.Map(location=[41.878, -87.629], zoom_start=11)\n",
    "for library in libraries:\n",
    "    lt = library.y\n",
    "    lg = library.x\n",
    "    folium.Marker([lt, lg]).add_to(map_osm)\n",
    "map_osm"
   ]
  },
  {
   "cell_type": "markdown",
   "metadata": {},
   "source": [
    "After running the above code, the data is displayed but it is impossible to determine where to ideally open the coffee shops by just looking at the map.\n",
    "\n",
    "Let's set up DOcplex to write and solve an optimization model that will help us determine where to locate the coffee shops in an optimal way."
   ]
  },
  {
   "cell_type": "markdown",
   "metadata": {},
   "source": [
    "### Step 4: Set up the prescriptive model"
   ]
  },
  {
   "cell_type": "code",
   "execution_count": 109,
   "metadata": {},
   "outputs": [
    {
     "name": "stdout",
     "output_type": "stream",
     "text": [
      "* system is: Windows 64bit\n",
      "* Python is present, version is 3.7.7\n",
      "* docplex is present, version is (2, 9, 133)\n",
      "* CPLEX wrapper is present, version is 12.9.0.0, located at: C:\\Users\\ShengLiLiu\\anaconda3\\lib\\site-packages\n"
     ]
    }
   ],
   "source": [
    "from docplex.mp.environment import Environment\n",
    "env = Environment()\n",
    "env.print_information()"
   ]
  },
  {
   "cell_type": "markdown",
   "metadata": {},
   "source": [
    "#### Create the DOcplex model\n",
    "The model contains all the business constraints and defines the objective."
   ]
  },
  {
   "cell_type": "code",
   "execution_count": 110,
   "metadata": {},
   "outputs": [],
   "source": [
    "from docplex.mp.model import Model\n",
    "\n",
    "mdl = Model(\"coffee shops\")"
   ]
  },
  {
   "cell_type": "markdown",
   "metadata": {},
   "source": [
    "#### Define the decision variables"
   ]
  },
  {
   "cell_type": "code",
   "execution_count": 111,
   "metadata": {},
   "outputs": [],
   "source": [
    "BIGNUM = 999999999\n",
    "\n",
    "# Ensure unique points\n",
    "libraries = set(libraries)\n",
    "# For simplicity, let's consider that coffee shops candidate locations are the same as libraries locations.\n",
    "# That is: any library location can also be selected as a coffee shop.\n",
    "coffeeshop_locations = libraries\n",
    "\n",
    "# Decision vars\n",
    "# Binary vars indicating which coffee shop locations will be actually selected\n",
    "coffeeshop_vars = mdl.binary_var_dict(coffeeshop_locations, name=\"is_coffeeshop\")\n",
    "#\n",
    "# Binary vars representing the \"assigned\" libraries for each coffee shop\n",
    "link_vars = mdl.binary_var_matrix(coffeeshop_locations, libraries, \"link\")"
   ]
  },
  {
   "cell_type": "markdown",
   "metadata": {},
   "source": [
    "#### Express the business constraints\n",
    "First constraint: if the distance is suspect, it needs to be excluded from the problem."
   ]
  },
  {
   "cell_type": "code",
   "execution_count": 112,
   "metadata": {},
   "outputs": [],
   "source": [
    "for c_loc in coffeeshop_locations:\n",
    "    for b in libraries:\n",
    "        if get_distance(c_loc, b) >= BIGNUM:\n",
    "            mdl.add_constraint(link_vars[c_loc, b] == 0, \"ct_forbid_{0!s}_{1!s}\".format(c_loc, b))"
   ]
  },
  {
   "cell_type": "markdown",
   "metadata": {},
   "source": [
    "Second constraint: each library must be linked to a coffee shop that is open."
   ]
  },
  {
   "cell_type": "code",
   "execution_count": 113,
   "metadata": {},
   "outputs": [
    {
     "name": "stdout",
     "output_type": "stream",
     "text": [
      "Model: coffee shops\n",
      " - number of variables: 6642\n",
      "   - binary=6642, integer=0, continuous=0\n",
      " - number of constraints: 6561\n",
      "   - linear=6561\n",
      " - parameters: defaults\n"
     ]
    }
   ],
   "source": [
    "mdl.add_constraints(link_vars[c_loc, b] <= coffeeshop_vars[c_loc]\n",
    "                   for b in libraries\n",
    "                   for c_loc in coffeeshop_locations)\n",
    "mdl.print_information()"
   ]
  },
  {
   "cell_type": "markdown",
   "metadata": {},
   "source": [
    "Third constraint: each library is linked to exactly one coffee shop."
   ]
  },
  {
   "cell_type": "code",
   "execution_count": 114,
   "metadata": {},
   "outputs": [
    {
     "name": "stdout",
     "output_type": "stream",
     "text": [
      "Model: coffee shops\n",
      " - number of variables: 6642\n",
      "   - binary=6642, integer=0, continuous=0\n",
      " - number of constraints: 6642\n",
      "   - linear=6642\n",
      " - parameters: defaults\n"
     ]
    }
   ],
   "source": [
    "mdl.add_constraints(mdl.sum(link_vars[c_loc, b] for c_loc in coffeeshop_locations) == 1\n",
    "                   for b in libraries)\n",
    "mdl.print_information()"
   ]
  },
  {
   "cell_type": "markdown",
   "metadata": {},
   "source": [
    "Fourth constraint: there is a fixed number of coffee shops to open."
   ]
  },
  {
   "cell_type": "code",
   "execution_count": 115,
   "metadata": {},
   "outputs": [
    {
     "name": "stdout",
     "output_type": "stream",
     "text": [
      "Model: coffee shops\n",
      " - number of variables: 6642\n",
      "   - binary=6642, integer=0, continuous=0\n",
      " - number of constraints: 6643\n",
      "   - linear=6643\n",
      " - parameters: defaults\n"
     ]
    }
   ],
   "source": [
    "# Total nb of open coffee shops\n",
    "mdl.add_constraint(mdl.sum(coffeeshop_vars[c_loc] for c_loc in coffeeshop_locations) == nb_shops)\n",
    "\n",
    "# Print model information\n",
    "mdl.print_information()"
   ]
  },
  {
   "cell_type": "markdown",
   "metadata": {},
   "source": [
    "#### Express the objective\n",
    "\n",
    "The objective is to minimize the total distance from libraries to coffee shops so that a book reader always gets to our coffee shop easily.\n"
   ]
  },
  {
   "cell_type": "code",
   "execution_count": 116,
   "metadata": {},
   "outputs": [],
   "source": [
    "# Minimize total distance from points to hubs\n",
    "total_distance = mdl.sum(link_vars[c_loc, b] * get_distance(c_loc, b) for c_loc in coffeeshop_locations for b in libraries)\n",
    "mdl.minimize(total_distance)"
   ]
  },
  {
   "cell_type": "markdown",
   "metadata": {},
   "source": [
    "#### Solve with Decision Optimization\n",
    "\n",
    "Solve the model on the cloud. "
   ]
  },
  {
   "cell_type": "code",
   "execution_count": 117,
   "metadata": {},
   "outputs": [
    {
     "name": "stdout",
     "output_type": "stream",
     "text": [
      "# coffee shops locations = 81\n",
      "# coffee shops           = 5\n"
     ]
    }
   ],
   "source": [
    "print(\"# coffee shops locations = %d\" % len(coffeeshop_locations))\n",
    "print(\"# coffee shops           = %d\" % nb_shops)\n",
    "\n",
    "assert mdl.solve(), \"!!! Solve of the model fails\""
   ]
  },
  {
   "cell_type": "markdown",
   "metadata": {
    "render": false
   },
   "source": [
    "### Step 6: Investigate the solution and then run an example analysis\n",
    "\n",
    "The solution can be analyzed by displaying the location of the coffee shops on a map."
   ]
  },
  {
   "cell_type": "code",
   "execution_count": 118,
   "metadata": {
    "render": false
   },
   "outputs": [
    {
     "name": "stdout",
     "output_type": "stream",
     "text": [
      "Total distance = 210.894\n",
      "# coffee shops  = 5\n",
      "new coffee shop: P_???_13\n",
      "new coffee shop: P_???_76\n",
      "new coffee shop: P_???_20\n",
      "new coffee shop: P_???_77\n",
      "new coffee shop: P_???_27\n"
     ]
    }
   ],
   "source": [
    "total_distance = mdl.objective_value\n",
    "open_coffeeshops = [c_loc for c_loc in coffeeshop_locations if coffeeshop_vars[c_loc].solution_value == 1]\n",
    "not_coffeeshops = [c_loc for c_loc in coffeeshop_locations if c_loc not in open_coffeeshops]\n",
    "edges = [(c_loc, b) for b in libraries for c_loc in coffeeshop_locations if int(link_vars[c_loc, b]) == 1]\n",
    "\n",
    "print(\"Total distance = %g\" % total_distance)\n",
    "print(\"# coffee shops  = {0}\".format(len(open_coffeeshops)))\n",
    "for c in open_coffeeshops:\n",
    "    print(\"new coffee shop: {0!s}\".format(c))"
   ]
  },
  {
   "cell_type": "markdown",
   "metadata": {},
   "source": [
    "#### Displaying the solution\n",
    "Coffee shops are highlighted in red."
   ]
  },
  {
   "cell_type": "code",
   "execution_count": 119,
   "metadata": {},
   "outputs": [
    {
     "data": {
      "text/html": [
       "<div style=\"width:100%;\"><div style=\"position:relative;width:100%;height:0;padding-bottom:60%;\"><span style=\"color:#565656\">Make this Notebook Trusted to load map: File -> Trust Notebook</span><iframe src=\"about:blank\" style=\"position:absolute;width:100%;height:100%;left:0;top:0;border:none !important;\" data-html=PCFET0NUWVBFIGh0bWw+CjxoZWFkPiAgICAKICAgIDxtZXRhIGh0dHAtZXF1aXY9ImNvbnRlbnQtdHlwZSIgY29udGVudD0idGV4dC9odG1sOyBjaGFyc2V0PVVURi04IiAvPgogICAgCiAgICAgICAgPHNjcmlwdD4KICAgICAgICAgICAgTF9OT19UT1VDSCA9IGZhbHNlOwogICAgICAgICAgICBMX0RJU0FCTEVfM0QgPSBmYWxzZTsKICAgICAgICA8L3NjcmlwdD4KICAgIAogICAgPHNjcmlwdCBzcmM9Imh0dHBzOi8vY2RuLmpzZGVsaXZyLm5ldC9ucG0vbGVhZmxldEAxLjYuMC9kaXN0L2xlYWZsZXQuanMiPjwvc2NyaXB0PgogICAgPHNjcmlwdCBzcmM9Imh0dHBzOi8vY29kZS5qcXVlcnkuY29tL2pxdWVyeS0xLjEyLjQubWluLmpzIj48L3NjcmlwdD4KICAgIDxzY3JpcHQgc3JjPSJodHRwczovL21heGNkbi5ib290c3RyYXBjZG4uY29tL2Jvb3RzdHJhcC8zLjIuMC9qcy9ib290c3RyYXAubWluLmpzIj48L3NjcmlwdD4KICAgIDxzY3JpcHQgc3JjPSJodHRwczovL2NkbmpzLmNsb3VkZmxhcmUuY29tL2FqYXgvbGlicy9MZWFmbGV0LmF3ZXNvbWUtbWFya2Vycy8yLjAuMi9sZWFmbGV0LmF3ZXNvbWUtbWFya2Vycy5qcyI+PC9zY3JpcHQ+CiAgICA8bGluayByZWw9InN0eWxlc2hlZXQiIGhyZWY9Imh0dHBzOi8vY2RuLmpzZGVsaXZyLm5ldC9ucG0vbGVhZmxldEAxLjYuMC9kaXN0L2xlYWZsZXQuY3NzIi8+CiAgICA8bGluayByZWw9InN0eWxlc2hlZXQiIGhyZWY9Imh0dHBzOi8vbWF4Y2RuLmJvb3RzdHJhcGNkbi5jb20vYm9vdHN0cmFwLzMuMi4wL2Nzcy9ib290c3RyYXAubWluLmNzcyIvPgogICAgPGxpbmsgcmVsPSJzdHlsZXNoZWV0IiBocmVmPSJodHRwczovL21heGNkbi5ib290c3RyYXBjZG4uY29tL2Jvb3RzdHJhcC8zLjIuMC9jc3MvYm9vdHN0cmFwLXRoZW1lLm1pbi5jc3MiLz4KICAgIDxsaW5rIHJlbD0ic3R5bGVzaGVldCIgaHJlZj0iaHR0cHM6Ly9tYXhjZG4uYm9vdHN0cmFwY2RuLmNvbS9mb250LWF3ZXNvbWUvNC42LjMvY3NzL2ZvbnQtYXdlc29tZS5taW4uY3NzIi8+CiAgICA8bGluayByZWw9InN0eWxlc2hlZXQiIGhyZWY9Imh0dHBzOi8vY2RuanMuY2xvdWRmbGFyZS5jb20vYWpheC9saWJzL0xlYWZsZXQuYXdlc29tZS1tYXJrZXJzLzIuMC4yL2xlYWZsZXQuYXdlc29tZS1tYXJrZXJzLmNzcyIvPgogICAgPGxpbmsgcmVsPSJzdHlsZXNoZWV0IiBocmVmPSJodHRwczovL3Jhd2Nkbi5naXRoYWNrLmNvbS9weXRob24tdmlzdWFsaXphdGlvbi9mb2xpdW0vbWFzdGVyL2ZvbGl1bS90ZW1wbGF0ZXMvbGVhZmxldC5hd2Vzb21lLnJvdGF0ZS5jc3MiLz4KICAgIDxzdHlsZT5odG1sLCBib2R5IHt3aWR0aDogMTAwJTtoZWlnaHQ6IDEwMCU7bWFyZ2luOiAwO3BhZGRpbmc6IDA7fTwvc3R5bGU+CiAgICA8c3R5bGU+I21hcCB7cG9zaXRpb246YWJzb2x1dGU7dG9wOjA7Ym90dG9tOjA7cmlnaHQ6MDtsZWZ0OjA7fTwvc3R5bGU+CiAgICAKICAgICAgICAgICAgPG1ldGEgbmFtZT0idmlld3BvcnQiIGNvbnRlbnQ9IndpZHRoPWRldmljZS13aWR0aCwKICAgICAgICAgICAgICAgIGluaXRpYWwtc2NhbGU9MS4wLCBtYXhpbXVtLXNjYWxlPTEuMCwgdXNlci1zY2FsYWJsZT1ubyIgLz4KICAgICAgICAgICAgPHN0eWxlPgogICAgICAgICAgICAgICAgI21hcF9jYmFkYmY0YjNlNDY0NjAyOWU1Nzg4Mjk3ZGE5YzBkZiB7CiAgICAgICAgICAgICAgICAgICAgcG9zaXRpb246IHJlbGF0aXZlOwogICAgICAgICAgICAgICAgICAgIHdpZHRoOiAxMDAuMCU7CiAgICAgICAgICAgICAgICAgICAgaGVpZ2h0OiAxMDAuMCU7CiAgICAgICAgICAgICAgICAgICAgbGVmdDogMC4wJTsKICAgICAgICAgICAgICAgICAgICB0b3A6IDAuMCU7CiAgICAgICAgICAgICAgICB9CiAgICAgICAgICAgIDwvc3R5bGU+CiAgICAgICAgCjwvaGVhZD4KPGJvZHk+ICAgIAogICAgCiAgICAgICAgICAgIDxkaXYgY2xhc3M9ImZvbGl1bS1tYXAiIGlkPSJtYXBfY2JhZGJmNGIzZTQ2NDYwMjllNTc4ODI5N2RhOWMwZGYiID48L2Rpdj4KICAgICAgICAKPC9ib2R5Pgo8c2NyaXB0PiAgICAKICAgIAogICAgICAgICAgICB2YXIgbWFwX2NiYWRiZjRiM2U0NjQ2MDI5ZTU3ODgyOTdkYTljMGRmID0gTC5tYXAoCiAgICAgICAgICAgICAgICAibWFwX2NiYWRiZjRiM2U0NjQ2MDI5ZTU3ODgyOTdkYTljMGRmIiwKICAgICAgICAgICAgICAgIHsKICAgICAgICAgICAgICAgICAgICBjZW50ZXI6IFs0MS44NzgsIC04Ny42MjldLAogICAgICAgICAgICAgICAgICAgIGNyczogTC5DUlMuRVBTRzM4NTcsCiAgICAgICAgICAgICAgICAgICAgem9vbTogMTEsCiAgICAgICAgICAgICAgICAgICAgem9vbUNvbnRyb2w6IHRydWUsCiAgICAgICAgICAgICAgICAgICAgcHJlZmVyQ2FudmFzOiBmYWxzZSwKICAgICAgICAgICAgICAgIH0KICAgICAgICAgICAgKTsKCiAgICAgICAgICAgIAoKICAgICAgICAKICAgIAogICAgICAgICAgICB2YXIgdGlsZV9sYXllcl8zMmE4ZDBkYThiMTY0NzQ3OTAyZjNmMWI0ZDcxMGJkZCA9IEwudGlsZUxheWVyKAogICAgICAgICAgICAgICAgImh0dHBzOi8ve3N9LnRpbGUub3BlbnN0cmVldG1hcC5vcmcve3p9L3t4fS97eX0ucG5nIiwKICAgICAgICAgICAgICAgIHsiYXR0cmlidXRpb24iOiAiRGF0YSBieSBcdTAwMjZjb3B5OyBcdTAwM2NhIGhyZWY9XCJodHRwOi8vb3BlbnN0cmVldG1hcC5vcmdcIlx1MDAzZU9wZW5TdHJlZXRNYXBcdTAwM2MvYVx1MDAzZSwgdW5kZXIgXHUwMDNjYSBocmVmPVwiaHR0cDovL3d3dy5vcGVuc3RyZWV0bWFwLm9yZy9jb3B5cmlnaHRcIlx1MDAzZU9EYkxcdTAwM2MvYVx1MDAzZS4iLCAiZGV0ZWN0UmV0aW5hIjogZmFsc2UsICJtYXhOYXRpdmVab29tIjogMTgsICJtYXhab29tIjogMTgsICJtaW5ab29tIjogMCwgIm5vV3JhcCI6IGZhbHNlLCAib3BhY2l0eSI6IDEsICJzdWJkb21haW5zIjogImFiYyIsICJ0bXMiOiBmYWxzZX0KICAgICAgICAgICAgKS5hZGRUbyhtYXBfY2JhZGJmNGIzZTQ2NDYwMjllNTc4ODI5N2RhOWMwZGYpOwogICAgICAgIAogICAgCiAgICAgICAgICAgIHZhciBtYXJrZXJfOTc4NzFlOGI0NGI3NDIyNjhiOTVkOTJjZDRhOTBkNDYgPSBMLm1hcmtlcigKICAgICAgICAgICAgICAgIFs0MS44ODExODU3MDQxNTE4NywgLTg3LjY3OTE0MjExMTExNzc2XSwKICAgICAgICAgICAgICAgIHt9CiAgICAgICAgICAgICkuYWRkVG8obWFwX2NiYWRiZjRiM2U0NjQ2MDI5ZTU3ODgyOTdkYTljMGRmKTsKICAgICAgICAKICAgIAogICAgICAgICAgICB2YXIgaWNvbl85NjJlMjE5Nzg2NjA0NzBjODIxNTczNGY5MGZlYzVhNCA9IEwuQXdlc29tZU1hcmtlcnMuaWNvbigKICAgICAgICAgICAgICAgIHsiZXh0cmFDbGFzc2VzIjogImZhLXJvdGF0ZS0wIiwgImljb24iOiAiaW5mby1zaWduIiwgImljb25Db2xvciI6ICJ3aGl0ZSIsICJtYXJrZXJDb2xvciI6ICJyZWQiLCAicHJlZml4IjogImdseXBoaWNvbiJ9CiAgICAgICAgICAgICk7CiAgICAgICAgICAgIG1hcmtlcl85Nzg3MWU4YjQ0Yjc0MjI2OGI5NWQ5MmNkNGE5MGQ0Ni5zZXRJY29uKGljb25fOTYyZTIxOTc4NjYwNDcwYzgyMTU3MzRmOTBmZWM1YTQpOwogICAgICAgIAogICAgCiAgICAgICAgICAgIHZhciBtYXJrZXJfZTlhZWExYjZlNGMyNDlhMDkwMWMzMzM3YjJmM2RiOGYgPSBMLm1hcmtlcigKICAgICAgICAgICAgICAgIFs0MS45NTMxNzM5MDA2NDE1OCwgLTg3Ljc3OTM4NjgyMDczNTQxXSwKICAgICAgICAgICAgICAgIHt9CiAgICAgICAgICAgICkuYWRkVG8obWFwX2NiYWRiZjRiM2U0NjQ2MDI5ZTU3ODgyOTdkYTljMGRmKTsKICAgICAgICAKICAgIAogICAgICAgICAgICB2YXIgaWNvbl80NGViMGNlOTAyOGY0YjY4ODM0MDM4MDNkODJlMzgxNSA9IEwuQXdlc29tZU1hcmtlcnMuaWNvbigKICAgICAgICAgICAgICAgIHsiZXh0cmFDbGFzc2VzIjogImZhLXJvdGF0ZS0wIiwgImljb24iOiAiaW5mby1zaWduIiwgImljb25Db2xvciI6ICJ3aGl0ZSIsICJtYXJrZXJDb2xvciI6ICJyZWQiLCAicHJlZml4IjogImdseXBoaWNvbiJ9CiAgICAgICAgICAgICk7CiAgICAgICAgICAgIG1hcmtlcl9lOWFlYTFiNmU0YzI0OWEwOTAxYzMzMzdiMmYzZGI4Zi5zZXRJY29uKGljb25fNDRlYjBjZTkwMjhmNGI2ODgzNDAzODAzZDgyZTM4MTUpOwogICAgICAgIAogICAgCiAgICAgICAgICAgIHZhciBtYXJrZXJfMjY4YTNmZGY2YzM4NDcyNDg4YTBkNDEzZmJkZDBlOGYgPSBMLm1hcmtlcigKICAgICAgICAgICAgICAgIFs0MS44MDgzODQ0MjM2NjYzNTQsIC04Ny42Nzc1Njk2Mzg3NDE5Nl0sCiAgICAgICAgICAgICAgICB7fQogICAgICAgICAgICApLmFkZFRvKG1hcF9jYmFkYmY0YjNlNDY0NjAyOWU1Nzg4Mjk3ZGE5YzBkZik7CiAgICAgICAgCiAgICAKICAgICAgICAgICAgdmFyIGljb25fYzVkMGEwMzUwMTkwNDQ4MGIyZTVkZjg0NjQ2Mzk2OTEgPSBMLkF3ZXNvbWVNYXJrZXJzLmljb24oCiAgICAgICAgICAgICAgICB7ImV4dHJhQ2xhc3NlcyI6ICJmYS1yb3RhdGUtMCIsICJpY29uIjogImluZm8tc2lnbiIsICJpY29uQ29sb3IiOiAid2hpdGUiLCAibWFya2VyQ29sb3IiOiAicmVkIiwgInByZWZpeCI6ICJnbHlwaGljb24ifQogICAgICAgICAgICApOwogICAgICAgICAgICBtYXJrZXJfMjY4YTNmZGY2YzM4NDcyNDg4YTBkNDEzZmJkZDBlOGYuc2V0SWNvbihpY29uX2M1ZDBhMDM1MDE5MDQ0ODBiMmU1ZGY4NDY0NjM5NjkxKTsKICAgICAgICAKICAgIAogICAgICAgICAgICB2YXIgbWFya2VyXzE1MDkwN2U1NTlmMDQ2NThhZjA4ZTZlMWYwODM0ZjkzID0gTC5tYXJrZXIoCiAgICAgICAgICAgICAgICBbNDEuNzIwOTM0ODEyODY3MzYsIC04Ny42NDMwOTM5NTIxNjU0Ml0sCiAgICAgICAgICAgICAgICB7fQogICAgICAgICAgICApLmFkZFRvKG1hcF9jYmFkYmY0YjNlNDY0NjAyOWU1Nzg4Mjk3ZGE5YzBkZik7CiAgICAgICAgCiAgICAKICAgICAgICAgICAgdmFyIGljb25fM2NiZWYwMmExNjQzNDc1N2JjNDFjM2U4MTBjYzU3NTAgPSBMLkF3ZXNvbWVNYXJrZXJzLmljb24oCiAgICAgICAgICAgICAgICB7ImV4dHJhQ2xhc3NlcyI6ICJmYS1yb3RhdGUtMCIsICJpY29uIjogImluZm8tc2lnbiIsICJpY29uQ29sb3IiOiAid2hpdGUiLCAibWFya2VyQ29sb3IiOiAicmVkIiwgInByZWZpeCI6ICJnbHlwaGljb24ifQogICAgICAgICAgICApOwogICAgICAgICAgICBtYXJrZXJfMTUwOTA3ZTU1OWYwNDY1OGFmMDhlNmUxZjA4MzRmOTMuc2V0SWNvbihpY29uXzNjYmVmMDJhMTY0MzQ3NTdiYzQxYzNlODEwY2M1NzUwKTsKICAgICAgICAKICAgIAogICAgICAgICAgICB2YXIgbWFya2VyXzZmYmIxMmZkNWNmODQzZjBhZmUzOTQ0Zjg3MDkwMzNhID0gTC5tYXJrZXIoCiAgICAgICAgICAgICAgICBbNDEuOTYyNDAzNTgxMDgxNjksIC04Ny42ODQ0MTY4NDk0NjUzMV0sCiAgICAgICAgICAgICAgICB7fQogICAgICAgICAgICApLmFkZFRvKG1hcF9jYmFkYmY0YjNlNDY0NjAyOWU1Nzg4Mjk3ZGE5YzBkZik7CiAgICAgICAgCiAgICAKICAgICAgICAgICAgdmFyIGljb25fNjNmNjBkM2YzZDFjNGE5ZDljYmI0ZDdhM2U1MWMzMTAgPSBMLkF3ZXNvbWVNYXJrZXJzLmljb24oCiAgICAgICAgICAgICAgICB7ImV4dHJhQ2xhc3NlcyI6ICJmYS1yb3RhdGUtMCIsICJpY29uIjogImluZm8tc2lnbiIsICJpY29uQ29sb3IiOiAid2hpdGUiLCAibWFya2VyQ29sb3IiOiAicmVkIiwgInByZWZpeCI6ICJnbHlwaGljb24ifQogICAgICAgICAgICApOwogICAgICAgICAgICBtYXJrZXJfNmZiYjEyZmQ1Y2Y4NDNmMGFmZTM5NDRmODcwOTAzM2Euc2V0SWNvbihpY29uXzYzZjYwZDNmM2QxYzRhOWQ5Y2JiNGQ3YTNlNTFjMzEwKTsKICAgICAgICAKICAgIAogICAgICAgICAgICB2YXIgbWFya2VyXzAwMWYxY2MzYWM2NTQwNmY5ZWVmYWY3ZjdiMTY3ZmMxID0gTC5tYXJrZXIoCiAgICAgICAgICAgICAgICBbNDEuOTM4Nzc2NzUwMzk5NzIsIC04Ny43NTQ0OTI5Mzc2NTE2M10sCiAgICAgICAgICAgICAgICB7fQogICAgICAgICAgICApLmFkZFRvKG1hcF9jYmFkYmY0YjNlNDY0NjAyOWU1Nzg4Mjk3ZGE5YzBkZik7CiAgICAgICAgCiAgICAKICAgICAgICAgICAgdmFyIG1hcmtlcl8zOWU2YjQ5ZmI4NGU0NGIwYjg3NTNjOWY0ZDk4ZDE5NyA9IEwubWFya2VyKAogICAgICAgICAgICAgICAgWzQxLjk5ODMzOTAyOTA0MjkyLCAtODcuNjk5NjUwMDUxNDQ1Ml0sCiAgICAgICAgICAgICAgICB7fQogICAgICAgICAgICApLmFkZFRvKG1hcF9jYmFkYmY0YjNlNDY0NjAyOWU1Nzg4Mjk3ZGE5YzBkZik7CiAgICAgICAgCiAgICAKICAgICAgICAgICAgdmFyIG1hcmtlcl9hMTcyZjU2YzNmOTY0MGFhOTQyNTU5M2M3N2U0MzgyOCA9IEwubWFya2VyKAogICAgICAgICAgICAgICAgWzQxLjg3NjI5OTg1MzU3NzAyLCAtODcuNjI4MTkyODAxMTY5NDldLAogICAgICAgICAgICAgICAge30KICAgICAgICAgICAgKS5hZGRUbyhtYXBfY2JhZGJmNGIzZTQ2NDYwMjllNTc4ODI5N2RhOWMwZGYpOwogICAgICAgIAogICAgCiAgICAgICAgICAgIHZhciBtYXJrZXJfNWY2ZmRlZGZlY2UyNDNiNzk2ZTJmYjIxZjJmZGZlNzIgPSBMLm1hcmtlcigKICAgICAgICAgICAgICAgIFs0MS45MjExMTQ3MjQ5NDMzODYsIC04Ny43OTcyNDEwMjA3MDI5OF0sCiAgICAgICAgICAgICAgICB7fQogICAgICAgICAgICApLmFkZFRvKG1hcF9jYmFkYmY0YjNlNDY0NjAyOWU1Nzg4Mjk3ZGE5YzBkZik7CiAgICAgICAgCiAgICAKICAgICAgICAgICAgdmFyIG1hcmtlcl80YWM1MWMxMmJlMGE0N2ExYjljNWUyNjE0NTFiNmM0YyA9IEwubWFya2VyKAogICAgICAgICAgICAgICAgWzQxLjk2NzU5NzM5MTgyOTc4LCAtODcuNzYxNTU0MjYyMzI3MjFdLAogICAgICAgICAgICAgICAge30KICAgICAgICAgICAgKS5hZGRUbyhtYXBfY2JhZGJmNGIzZTQ2NDYwMjllNTc4ODI5N2RhOWMwZGYpOwogICAgICAgIAogICAgCiAgICAgICAgICAgIHZhciBtYXJrZXJfMWU2NzQ3OTU5MzA3NGVjNDgwNWVhNWUwOWJiYmQ1NzYgPSBMLm1hcmtlcigKICAgICAgICAgICAgICAgIFs0MS44MTUxMzg3ODkzMjgyNjYsIC04Ny43MDI2NTQzMTYxNDkwN10sCiAgICAgICAgICAgICAgICB7fQogICAgICAgICAgICApLmFkZFRvKG1hcF9jYmFkYmY0YjNlNDY0NjAyOWU1Nzg4Mjk3ZGE5YzBkZik7CiAgICAgICAgCiAgICAKICAgICAgICAgICAgdmFyIG1hcmtlcl80ZWYxYmMxYmQ2Mzc0ZTNmODQzMjU5YzJmMjc0MGQ1ZiA9IEwubWFya2VyKAogICAgICAgICAgICAgICAgWzQxLjkzNjY2MjExODY5MzE1LCAtODcuNzg1ODkxNDUwMDYzOTZdLAogICAgICAgICAgICAgICAge30KICAgICAgICAgICAgKS5hZGRUbyhtYXBfY2JhZGJmNGIzZTQ2NDYwMjllNTc4ODI5N2RhOWMwZGYpOwogICAgICAgIAogICAgCiAgICAgICAgICAgIHZhciBtYXJrZXJfZTliNTc5ODgxMTkzNGQ4ZWE3OGVkYTgzZGRiOTAzMzcgPSBMLm1hcmtlcigKICAgICAgICAgICAgICAgIFs0MS44MzIyODcwMzM0NjMwOCwgLTg3LjY0NjQ4NTAxMTI0NTQ1XSwKICAgICAgICAgICAgICAgIHt9CiAgICAgICAgICAgICkuYWRkVG8obWFwX2NiYWRiZjRiM2U0NjQ2MDI5ZTU3ODgyOTdkYTljMGRmKTsKICAgICAgICAKICAgIAogICAgICAgICAgICB2YXIgbWFya2VyXzhjYjI4M2JmYmVjYTRjNGU4ZDM4YWM4NDM2Mzg4YWNlID0gTC5tYXJrZXIoCiAgICAgICAgICAgICAgICBbNDEuODk1MDQ2NTA4NzkwODM0LCAtODcuNzQ3MzI5NTQwMDA4NDFdLAogICAgICAgICAgICAgICAge30KICAgICAgICAgICAgKS5hZGRUbyhtYXBfY2JhZGJmNGIzZTQ2NDYwMjllNTc4ODI5N2RhOWMwZGYpOwogICAgICAgIAogICAgCiAgICAgICAgICAgIHZhciBtYXJrZXJfZDY2ZGIxOGEzNWNlNDFhNWExOWRmOWQwMGEyOTZjZjEgPSBMLm1hcmtlcigKICAgICAgICAgICAgICAgIFs0MS44MTU1MDU2ODQzOTYzMzUsIC04Ny42NDI1MDEwMTQ2NTU2NV0sCiAgICAgICAgICAgICAgICB7fQogICAgICAgICAgICApLmFkZFRvKG1hcF9jYmFkYmY0YjNlNDY0NjAyOWU1Nzg4Mjk3ZGE5YzBkZik7CiAgICAgICAgCiAgICAKICAgICAgICAgICAgdmFyIG1hcmtlcl80Y2RhMWNmZjg4ZjU0ZmE4YjQ2MWY3YjliMTg2ODU3YiA9IEwubWFya2VyKAogICAgICAgICAgICAgICAgWzQxLjg0OTUzMzEsIC04Ny43MDUxMjE1XSwKICAgICAgICAgICAgICAgIHt9CiAgICAgICAgICAgICkuYWRkVG8obWFwX2NiYWRiZjRiM2U0NjQ2MDI5ZTU3ODgyOTdkYTljMGRmKTsKICAgICAgICAKICAgIAogICAgICAgICAgICB2YXIgbWFya2VyX2I2NDVjOWEwMmYwYzQ2NGFhZjRkOWQ2OTNmOWM5ODBkID0gTC5tYXJrZXIoCiAgICAgICAgICAgICAgICBbNDEuOTkxOTE3NTI0OTQyMzIsIC04Ny43OTgzMDE4OTg2NDU4M10sCiAgICAgICAgICAgICAgICB7fQogICAgICAgICAgICApLmFkZFRvKG1hcF9jYmFkYmY0YjNlNDY0NjAyOWU1Nzg4Mjk3ZGE5YzBkZik7CiAgICAgICAgCiAgICAKICAgICAgICAgICAgdmFyIG1hcmtlcl80NDNmNmZkNTg1ZTk0Y2Q0YjYwYTNhZjk0ODk0ODVhYiA9IEwubWFya2VyKAogICAgICAgICAgICAgICAgWzQxLjk0MDMxMzU5NTYyMjU5LCAtODcuNjcwNzU3NzEyODE2MjVdLAogICAgICAgICAgICAgICAge30KICAgICAgICAgICAgKS5hZGRUbyhtYXBfY2JhZGJmNGIzZTQ2NDYwMjllNTc4ODI5N2RhOWMwZGYpOwogICAgICAgIAogICAgCiAgICAgICAgICAgIHZhciBtYXJrZXJfOGFiMjhhNDk0MjY0NDg2OWJiZDZiOWQyMDdlNDZkNWMgPSBMLm1hcmtlcigKICAgICAgICAgICAgICAgIFs0MS45MDk0MjkxOTc5ODQyOCwgLTg3Ljc2ODc5ODk4ODg4MjY1XSwKICAgICAgICAgICAgICAgIHt9CiAgICAgICAgICAgICkuYWRkVG8obWFwX2NiYWRiZjRiM2U0NjQ2MDI5ZTU3ODgyOTdkYTljMGRmKTsKICAgICAgICAKICAgIAogICAgICAgICAgICB2YXIgbWFya2VyXzc0YjQwMjI5MzRlNTQ5MjJhMzA0MTA5ZWJiZjFmNjJiID0gTC5tYXJrZXIoCiAgICAgICAgICAgICAgICBbNDEuOTI1MDUyMTAwNzg1MzcsIC04Ny43MDMzOTQxMDkyNTk1NV0sCiAgICAgICAgICAgICAgICB7fQogICAgICAgICAgICApLmFkZFRvKG1hcF9jYmFkYmY0YjNlNDY0NjAyOWU1Nzg4Mjk3ZGE5YzBkZik7CiAgICAgICAgCiAgICAKICAgICAgICAgICAgdmFyIG1hcmtlcl9lOWJmNjc1YWQ1OGI0ZmU1OTdkZmI3ZDQyZGY3NjVkZCA9IEwubWFya2VyKAogICAgICAgICAgICAgICAgWzQxLjY3Nzg1MDg3MTc4OTgyLCAtODcuNjQyOTk5NjgzMjYxOTNdLAogICAgICAgICAgICAgICAge30KICAgICAgICAgICAgKS5hZGRUbyhtYXBfY2JhZGJmNGIzZTQ2NDYwMjllNTc4ODI5N2RhOWMwZGYpOwogICAgICAgIAogICAgCiAgICAgICAgICAgIHZhciBtYXJrZXJfNDQ1NDJhMGY5ZGFiNDQzYjk4ZDUxMDQ5MmVhYTZhN2EgPSBMLm1hcmtlcigKICAgICAgICAgICAgICAgIFs0MS43OTM2OTcyMzI3MTM4MiwgLTg3LjY5NDA0NjQ1NDYyODk1XSwKICAgICAgICAgICAgICAgIHt9CiAgICAgICAgICAgICkuYWRkVG8obWFwX2NiYWRiZjRiM2U0NjQ2MDI5ZTU3ODgyOTdkYTljMGRmKTsKICAgICAgICAKICAgIAogICAgICAgICAgICB2YXIgbWFya2VyX2FlOTM4NTU3YThkZTQ1ZDliZmQ5ZTUzZDE0MTYwNTUxID0gTC5tYXJrZXIoCiAgICAgICAgICAgICAgICBbNDEuOTkwOTk2LCAtODcuNjYwNzU3XSwKICAgICAgICAgICAgICAgIHt9CiAgICAgICAgICAgICkuYWRkVG8obWFwX2NiYWRiZjRiM2U0NjQ2MDI5ZTU3ODgyOTdkYTljMGRmKTsKICAgICAgICAKICAgIAogICAgICAgICAgICB2YXIgbWFya2VyX2ZhOGYyZTlhZDY1NzQ5YTRiZTg4OGQ1ZWZiNmM5OGM1ID0gTC5tYXJrZXIoCiAgICAgICAgICAgICAgICBbNDEuODY0NTAwNzU5NzQyNjA0LCAtODcuNzA5Njg1NDg5MzM5OTZdLAogICAgICAgICAgICAgICAge30KICAgICAgICAgICAgKS5hZGRUbyhtYXBfY2JhZGJmNGIzZTQ2NDYwMjllNTc4ODI5N2RhOWMwZGYpOwogICAgICAgIAogICAgCiAgICAgICAgICAgIHZhciBtYXJrZXJfZjgyNWU4NWUwYzA2NDBiYWFkMTM3NDE0Nzg3ZTYwZDYgPSBMLm1hcmtlcigKICAgICAgICAgICAgICAgIFs0MS45NDAwODQyMDg2MTMyMTQsIC04Ny42NDYxNDMyMjY5NjQ1NF0sCiAgICAgICAgICAgICAgICB7fQogICAgICAgICAgICApLmFkZFRvKG1hcF9jYmFkYmY0YjNlNDY0NjAyOWU1Nzg4Mjk3ZGE5YzBkZik7CiAgICAgICAgCiAgICAKICAgICAgICAgICAgdmFyIG1hcmtlcl82NTBjYzExNzc2YjA0NTczYWE3MjlkNTgxNjQ5NDYyNCA9IEwubWFya2VyKAogICAgICAgICAgICAgICAgWzQxLjk3Nzk2MTE0MDE1NjI5NiwgLTg3LjgxMzIwOTEwOTM0NTFdLAogICAgICAgICAgICAgICAge30KICAgICAgICAgICAgKS5hZGRUbyhtYXBfY2JhZGJmNGIzZTQ2NDYwMjllNTc4ODI5N2RhOWMwZGYpOwogICAgICAgIAogICAgCiAgICAgICAgICAgIHZhciBtYXJrZXJfNjJjZjViZmVhY2NjNDNmMGI5MzhjMWNhY2E5OWEzNDEgPSBMLm1hcmtlcigKICAgICAgICAgICAgICAgIFs0MS43ODIxNzE2MzMxNTY1MywgLTg3LjYzNzQwNzg2NTMyMTE3XSwKICAgICAgICAgICAgICAgIHt9CiAgICAgICAgICAgICkuYWRkVG8obWFwX2NiYWRiZjRiM2U0NjQ2MDI5ZTU3ODgyOTdkYTljMGRmKTsKICAgICAgICAKICAgIAogICAgICAgICAgICB2YXIgbWFya2VyXzA5NDhhMTUxYzI5MTRlMzA4ZDRlNjdiOTgxMDc0YzJlID0gTC5tYXJrZXIoCiAgICAgICAgICAgICAgICBbNDEuODU0MTIwNzQxNzM0MzgsIC04Ny42MzE5NTc5MjI0NjI0Nl0sCiAgICAgICAgICAgICAgICB7fQogICAgICAgICAgICApLmFkZFRvKG1hcF9jYmFkYmY0YjNlNDY0NjAyOWU1Nzg4Mjk3ZGE5YzBkZik7CiAgICAgICAgCiAgICAKICAgICAgICAgICAgdmFyIG1hcmtlcl85NTNlYTdkYzE5Y2Q0OTM4OWU0YTYzZDIxZGJhYjI5MCA9IEwubWFya2VyKAogICAgICAgICAgICAgICAgWzQxLjk0MzMwOCwgLTg3LjgxNzQ5N10sCiAgICAgICAgICAgICAgICB7fQogICAgICAgICAgICApLmFkZFRvKG1hcF9jYmFkYmY0YjNlNDY0NjAyOWU1Nzg4Mjk3ZGE5YzBkZik7CiAgICAgICAgCiAgICAKICAgICAgICAgICAgdmFyIG1hcmtlcl8zNzBlNDgxYjk5OGI0NTZlOTBjZjgzZDhlYmZmZWUzNSA9IEwubWFya2VyKAogICAgICAgICAgICAgICAgWzQxLjk5Njk3MDg4MzQ2ODUsIC04Ny43NjIwNDc4OTIwMTA1XSwKICAgICAgICAgICAgICAgIHt9CiAgICAgICAgICAgICkuYWRkVG8obWFwX2NiYWRiZjRiM2U0NjQ2MDI5ZTU3ODgyOTdkYTljMGRmKTsKICAgICAgICAKICAgIAogICAgICAgICAgICB2YXIgbWFya2VyX2YzNGJlOTg4M2U1ZTQ3ZTFhZTg3ZWRiM2NkMzFkODRiID0gTC5tYXJrZXIoCiAgICAgICAgICAgICAgICBbNDEuNzYxNTU1MzU1ODU4NjQsIC04Ny41NjIwODM2Mzg3OTU2NF0sCiAgICAgICAgICAgICAgICB7fQogICAgICAgICAgICApLmFkZFRvKG1hcF9jYmFkYmY0YjNlNDY0NjAyOWU1Nzg4Mjk3ZGE5YzBkZik7CiAgICAgICAgCiAgICAKICAgICAgICAgICAgdmFyIG1hcmtlcl9kOGFjODIyZDBhN2I0OTQ1YjVkMWVkZWVlZTA2MGNjMSA9IEwubWFya2VyKAogICAgICAgICAgICAgICAgWzQxLjk3MTY4MTk0ODAwNDU4LCAtODcuNjYwNzMwMjcyMTg5NTddLAogICAgICAgICAgICAgICAge30KICAgICAgICAgICAgKS5hZGRUbyhtYXBfY2JhZGJmNGIzZTQ2NDYwMjllNTc4ODI5N2RhOWMwZGYpOwogICAgICAgIAogICAgCiAgICAgICAgICAgIHZhciBtYXJrZXJfNmJlNDcwNTExYzU2NGI4ZDg0Y2FiYmE0YjYyYTg3MTAgPSBMLm1hcmtlcigKICAgICAgICAgICAgICAgIFs0MS44NjcxNjYsIC04Ny42NjA2MTNdLAogICAgICAgICAgICAgICAge30KICAgICAgICAgICAgKS5hZGRUbyhtYXBfY2JhZGJmNGIzZTQ2NDYwMjllNTc4ODI5N2RhOWMwZGYpOwogICAgICAgIAogICAgCiAgICAgICAgICAgIHZhciBtYXJrZXJfMTc3ZTI4NzU2YTFmNDQ0MzkxMzAyZTQ1NzAzYmQ1NTcgPSBMLm1hcmtlcigKICAgICAgICAgICAgICAgIFs0MS44NTc1MjIwMDk2MDUyNCwgLTg3LjY2MDkzNzExNjI1NjNdLAogICAgICAgICAgICAgICAge30KICAgICAgICAgICAgKS5hZGRUbyhtYXBfY2JhZGJmNGIzZTQ2NDYwMjllNTc4ODI5N2RhOWMwZGYpOwogICAgICAgIAogICAgCiAgICAgICAgICAgIHZhciBtYXJrZXJfMDQ3ZDA0NzI5N2QxNDVmOThiMzY5MDgyYTQyNzA0MzggPSBMLm1hcmtlcigKICAgICAgICAgICAgICAgIFs0MS44ODQyMzIsIC04Ny42NTQzMjRdLAogICAgICAgICAgICAgICAge30KICAgICAgICAgICAgKS5hZGRUbyhtYXBfY2JhZGJmNGIzZTQ2NDYwMjllNTc4ODI5N2RhOWMwZGYpOwogICAgICAgIAogICAgCiAgICAgICAgICAgIHZhciBtYXJrZXJfZTJkNGQxNDE3Zjk2NGM4ZTkyY2QwZjZiODUwMDRlYzIgPSBMLm1hcmtlcigKICAgICAgICAgICAgICAgIFs0MS44OTc1ODQzNTM5OTcyNiwgLTg3LjYyMzE0ODc3MTEwMDczXSwKICAgICAgICAgICAgICAgIHt9CiAgICAgICAgICAgICkuYWRkVG8obWFwX2NiYWRiZjRiM2U0NjQ2MDI5ZTU3ODgyOTdkYTljMGRmKTsKICAgICAgICAKICAgIAogICAgICAgICAgICB2YXIgbWFya2VyX2UxYWQ0YTBmNDg4ZjQ1ZDBhZjU1Y2Q5Y2RhZjFmYmY3ID0gTC5tYXJrZXIoCiAgICAgICAgICAgICAgICBbNDEuOTUzOTAzNzIwNzI5OTI2LCAtODcuNzE2OTQyNTUwNDI2NDRdLAogICAgICAgICAgICAgICAge30KICAgICAgICAgICAgKS5hZGRUbyhtYXBfY2JhZGJmNGIzZTQ2NDYwMjllNTc4ODI5N2RhOWMwZGYpOwogICAgICAgIAogICAgCiAgICAgICAgICAgIHZhciBtYXJrZXJfOTgzN2YyMmUwN2MwNDQzNjkxODU3ZmFhY2NlM2JmYjAgPSBMLm1hcmtlcigKICAgICAgICAgICAgICAgIFs0MS45MTI3MjIzOTU3NjM2NywgLTg3LjY4MDU4NzMwMjU5NjVdLAogICAgICAgICAgICAgICAge30KICAgICAgICAgICAgKS5hZGRUbyhtYXBfY2JhZGJmNGIzZTQ2NDYwMjllNTc4ODI5N2RhOWMwZGYpOwogICAgICAgIAogICAgCiAgICAgICAgICAgIHZhciBtYXJrZXJfZDUwYzY3NzE0OGU4NGNjNThjMDJkNDJjNWQzNzVjZWYgPSBMLm1hcmtlcigKICAgICAgICAgICAgICAgIFs0MS43MzIzMTY3NTcwOTcwNDUsIC04Ny42NTcyMzQ1MTU4MTgzNV0sCiAgICAgICAgICAgICAgICB7fQogICAgICAgICAgICApLmFkZFRvKG1hcF9jYmFkYmY0YjNlNDY0NjAyOWU1Nzg4Mjk3ZGE5YzBkZik7CiAgICAgICAgCiAgICAKICAgICAgICAgICAgdmFyIG1hcmtlcl84MDc0ODM0NGI4OTM0OWJlODJjNTFlMGE1ZWM2YjUzYSA9IEwubWFya2VyKAogICAgICAgICAgICAgICAgWzQxLjY5NDQwNjQwOTAxNzk1LCAtODcuNjE4MjYwNjYyMjYzNThdLAogICAgICAgICAgICAgICAge30KICAgICAgICAgICAgKS5hZGRUbyhtYXBfY2JhZGJmNGIzZTQ2NDYwMjllNTc4ODI5N2RhOWMwZGYpOwogICAgICAgIAogICAgCiAgICAgICAgICAgIHZhciBtYXJrZXJfYTUyMmVjN2NlMzJkNDcwYjg4M2JiYmRhZTYwMjMxZGIgPSBMLm1hcmtlcigKICAgICAgICAgICAgICAgIFs0MS42NTkxNzg4NzAzMzU0MiwgLTg3LjU0ODI0MTMyNzI3NDExXSwKICAgICAgICAgICAgICAgIHt9CiAgICAgICAgICAgICkuYWRkVG8obWFwX2NiYWRiZjRiM2U0NjQ2MDI5ZTU3ODgyOTdkYTljMGRmKTsKICAgICAgICAKICAgIAogICAgICAgICAgICB2YXIgbWFya2VyX2JiNjMwMWRmNmE5NjQwNThiYjM4MGIyMjA5YjEyOTFlID0gTC5tYXJrZXIoCiAgICAgICAgICAgICAgICBbNDEuOTc1NDU2LCAtODcuNzE0MDldLAogICAgICAgICAgICAgICAge30KICAgICAgICAgICAgKS5hZGRUbyhtYXBfY2JhZGJmNGIzZTQ2NDYwMjllNTc4ODI5N2RhOWMwZGYpOwogICAgICAgIAogICAgCiAgICAgICAgICAgIHZhciBtYXJrZXJfYzVjZGJlNjVmNGNhNDczOGFiZTg4MzAyMGNlOWQ0NTIgPSBMLm1hcmtlcigKICAgICAgICAgICAgICAgIFs0MS43MTMyNjE3NjI4ODUyMiwgLTg3LjU2NTQ5MjA2OTI4NjY5XSwKICAgICAgICAgICAgICAgIHt9CiAgICAgICAgICAgICkuYWRkVG8obWFwX2NiYWRiZjRiM2U0NjQ2MDI5ZTU3ODgyOTdkYTljMGRmKTsKICAgICAgICAKICAgIAogICAgICAgICAgICB2YXIgbWFya2VyXzY5OTdkMTc3OThlNDQzOTdiZjNmNzFmZTU2MDc5NmI4ID0gTC5tYXJrZXIoCiAgICAgICAgICAgICAgICBbNDEuODAxMjEzNjU5OTMzNSwgLTg3LjcyNjQ5MDcxNDMxNDQxXSwKICAgICAgICAgICAgICAgIHt9CiAgICAgICAgICAgICkuYWRkVG8obWFwX2NiYWRiZjRiM2U0NjQ2MDI5ZTU3ODgyOTdkYTljMGRmKTsKICAgICAgICAKICAgIAogICAgICAgICAgICB2YXIgbWFya2VyXzVhZGI5YTc4YTVhMzQzOWE4MDJmZmU0NGY0YjJkMGEzID0gTC5tYXJrZXIoCiAgICAgICAgICAgICAgICBbNDEuNzQ2NzE3MjIxNjAxOTksIC04Ny41ODUzOTY1ODcxOTAwMl0sCiAgICAgICAgICAgICAgICB7fQogICAgICAgICAgICApLmFkZFRvKG1hcF9jYmFkYmY0YjNlNDY0NjAyOWU1Nzg4Mjk3ZGE5YzBkZik7CiAgICAgICAgCiAgICAKICAgICAgICAgICAgdmFyIG1hcmtlcl9iOGI5NGU5ZDE2YWQ0ZTIyOWRmNWRmODlhYzk4YjkwYSA9IEwubWFya2VyKAogICAgICAgICAgICAgICAgWzQxLjgwNzQzMjk4MjgwOTc0LCAtODcuNjIyNzM5ODE5MzY4MTVdLAogICAgICAgICAgICAgICAge30KICAgICAgICAgICAgKS5hZGRUbyhtYXBfY2JhZGJmNGIzZTQ2NDYwMjllNTc4ODI5N2RhOWMwZGYpOwogICAgICAgIAogICAgCiAgICAgICAgICAgIHZhciBtYXJrZXJfMjVlMzkxMWRmOTkwNDhlMjgzZGMwNWQ2ODVjYmRmNzQgPSBMLm1hcmtlcigKICAgICAgICAgICAgICAgIFs0MS43NzkzMzQzNTg4MTMxOTUsIC04Ny42NjgxMjE1OTA5MDc1NV0sCiAgICAgICAgICAgICAgICB7fQogICAgICAgICAgICApLmFkZFRvKG1hcF9jYmFkYmY0YjNlNDY0NjAyOWU1Nzg4Mjk3ZGE5YzBkZik7CiAgICAgICAgCiAgICAKICAgICAgICAgICAgdmFyIG1hcmtlcl82MDExMWRkNDRlMjg0YzgwOTdlNTZhZGFjNGY4YzNiMiA9IEwubWFya2VyKAogICAgICAgICAgICAgICAgWzQxLjcwMzAyNzQ3ODE5MTc5LCAtODcuNTMzNTAzMTg0NzA0NDldLAogICAgICAgICAgICAgICAge30KICAgICAgICAgICAgKS5hZGRUbyhtYXBfY2JhZGJmNGIzZTQ2NDYwMjllNTc4ODI5N2RhOWMwZGYpOwogICAgICAgIAogICAgCiAgICAgICAgICAgIHZhciBtYXJrZXJfMjYyODc2OTllZDUyNDZkMGEzYzc3ZjYwMjU1YjcxZGUgPSBMLm1hcmtlcigKICAgICAgICAgICAgICAgIFs0MS45MDM4NjkzODc1NjMwOSwgLTg3LjYzNjQ4OTc5NzkwODk4XSwKICAgICAgICAgICAgICAgIHt9CiAgICAgICAgICAgICkuYWRkVG8obWFwX2NiYWRiZjRiM2U0NjQ2MDI5ZTU3ODgyOTdkYTljMGRmKTsKICAgICAgICAKICAgIAogICAgICAgICAgICB2YXIgbWFya2VyXzRiOGZjMDFmYTg1OTQ2ZGNhNTI2YzdjMTZiMjRlMTA2ID0gTC5tYXJrZXIoCiAgICAgICAgICAgICAgICBbNDEuOTI1NTkxNjk0MDAyOTU0LCAtODcuNjU4MTEzMjQ1MDg0M10sCiAgICAgICAgICAgICAgICB7fQogICAgICAgICAgICApLmFkZFRvKG1hcF9jYmFkYmY0YjNlNDY0NjAyOWU1Nzg4Mjk3ZGE5YzBkZik7CiAgICAgICAgCiAgICAKICAgICAgICAgICAgdmFyIG1hcmtlcl82MjBjZDc1ZTY4OWY0MDNjYTkxM2UxODU2YjZmODIzZSA9IEwubWFya2VyKAogICAgICAgICAgICAgICAgWzQxLjc4MDM3MzAxMDk1NDEyLCAtODcuNjA3MTU3MjQyODAwMTRdLAogICAgICAgICAgICAgICAge30KICAgICAgICAgICAgKS5hZGRUbyhtYXBfY2JhZGJmNGIzZTQ2NDYwMjllNTc4ODI5N2RhOWMwZGYpOwogICAgICAgIAogICAgCiAgICAgICAgICAgIHZhciBtYXJrZXJfNjQ1N2JiYmU0YjM0NDFiYjkzNTcwODljMDMyM2EzNzcgPSBMLm1hcmtlcigKICAgICAgICAgICAgICAgIFs0MS45ODQ1NzIyNjQzNzI3NSwgLTg3LjY5NzczNDQ5MjM2NzEyXSwKICAgICAgICAgICAgICAgIHt9CiAgICAgICAgICAgICkuYWRkVG8obWFwX2NiYWRiZjRiM2U0NjQ2MDI5ZTU3ODgyOTdkYTljMGRmKTsKICAgICAgICAKICAgIAogICAgICAgICAgICB2YXIgbWFya2VyX2Y5NWM3YmJmYjk2NTQ3YjhiNGI0ZWM4MmEyYmE1MGNiID0gTC5tYXJrZXIoCiAgICAgICAgICAgICAgICBbNDEuNzc4NjYyMjE5NTU5Nzg0LCAtODcuNzIzNTM4NTcwNTA1Nl0sCiAgICAgICAgICAgICAgICB7fQogICAgICAgICAgICApLmFkZFRvKG1hcF9jYmFkYmY0YjNlNDY0NjAyOWU1Nzg4Mjk3ZGE5YzBkZik7CiAgICAgICAgCiAgICAKICAgICAgICAgICAgdmFyIG1hcmtlcl9mYzkzZmEyYTk5NWM0ZmMxYTVhOGE3MjZiNjhlNmUxYiA9IEwubWFya2VyKAogICAgICAgICAgICAgICAgWzQxLjk2ODM1NDQ1NjQ5NjE2NSwgLTg3LjczODE2MTg5ODkxMjNdLAogICAgICAgICAgICAgICAge30KICAgICAgICAgICAgKS5hZGRUbyhtYXBfY2JhZGJmNGIzZTQ2NDYwMjllNTc4ODI5N2RhOWMwZGYpOwogICAgICAgIAogICAgCiAgICAgICAgICAgIHZhciBtYXJrZXJfYjI0OWQ0YWE4NzBjNGMxNGJjMjFjMTdhNjY0MTg0ZWEgPSBMLm1hcmtlcigKICAgICAgICAgICAgICAgIFs0MS42NTQ3MzAyMTgzNzc3NiwgLTg3LjYwMjIzMDI2MDk4MzVdLAogICAgICAgICAgICAgICAge30KICAgICAgICAgICAgKS5hZGRUbyhtYXBfY2JhZGJmNGIzZTQ2NDYwMjllNTc4ODI5N2RhOWMwZGYpOwogICAgICAgIAogICAgCiAgICAgICAgICAgIHZhciBtYXJrZXJfZWQ2YWNiMWEzOTNjNDA4YWFmMTE2YjJmYzg3YTgwN2UgPSBMLm1hcmtlcigKICAgICAgICAgICAgICAgIFs0MS44Mjg0MjY4Njk4OTg4LCAtODcuNjI2NDAyMjE2NDQ3MTldLAogICAgICAgICAgICAgICAge30KICAgICAgICAgICAgKS5hZGRUbyhtYXBfY2JhZGJmNGIzZTQ2NDYwMjllNTc4ODI5N2RhOWMwZGYpOwogICAgICAgIAogICAgCiAgICAgICAgICAgIHZhciBtYXJrZXJfNzc2ZGI0YjJkZDc2NDg2YzliYmE4NjA4OTY5OGU1MzUgPSBMLm1hcmtlcigKICAgICAgICAgICAgICAgIFs0MS43NDkzNjE2ODM0MTA3NTQsIC04Ny43MjQzOTU1NzU3MDQ0Ml0sCiAgICAgICAgICAgICAgICB7fQogICAgICAgICAgICApLmFkZFRvKG1hcF9jYmFkYmY0YjNlNDY0NjAyOWU1Nzg4Mjk3ZGE5YzBkZik7CiAgICAgICAgCiAgICAKICAgICAgICAgICAgdmFyIG1hcmtlcl8wODM2ODA2NTM1Yzk0NTkyYTBmMjk2MGQwM2QxNzFjZiA9IEwubWFya2VyKAogICAgICAgICAgICAgICAgWzQxLjk1ODQ0NTIwNzUxNDI5NSwgLTg3LjY1MzUxMDEyMjY4OTM4XSwKICAgICAgICAgICAgICAgIHt9CiAgICAgICAgICAgICkuYWRkVG8obWFwX2NiYWRiZjRiM2U0NjQ2MDI5ZTU3ODgyOTdkYTljMGRmKTsKICAgICAgICAKICAgIAogICAgICAgICAgICB2YXIgbWFya2VyXzcxMGJmNGQzMDNhNjRkMzU5NjRlYTc2YjYwYmZjNmI5ID0gTC5tYXJrZXIoCiAgICAgICAgICAgICAgICBbNDEuNzUxMDYzNjA5NzM2MzEsIC04Ny42MTQ5NTA2NTM2MTkzM10sCiAgICAgICAgICAgICAgICB7fQogICAgICAgICAgICApLmFkZFRvKG1hcF9jYmFkYmY0YjNlNDY0NjAyOWU1Nzg4Mjk3ZGE5YzBkZik7CiAgICAgICAgCiAgICAKICAgICAgICAgICAgdmFyIG1hcmtlcl8wZGQ3Mzc0MzVkNDk0YzA1ODZjNmVhNDM0NTQwMGU4MCA9IEwubWFya2VyKAogICAgICAgICAgICAgICAgWzQxLjc5NTI3OTQyMTIxNDg4NiwgLTg3LjY1NDkyMDcxOTMwMTE1XSwKICAgICAgICAgICAgICAgIHt9CiAgICAgICAgICAgICkuYWRkVG8obWFwX2NiYWRiZjRiM2U0NjQ2MDI5ZTU3ODgyOTdkYTljMGRmKTsKICAgICAgICAKICAgIAogICAgICAgICAgICB2YXIgbWFya2VyXzY0ODU0NDRkYTAxOTQ0YjZhZDBlNGZiNjc3Mzc1Y2NlID0gTC5tYXJrZXIoCiAgICAgICAgICAgICAgICBbNDEuNzYyMywgLTg3LjYwMDVdLAogICAgICAgICAgICAgICAge30KICAgICAgICAgICAgKS5hZGRUbyhtYXBfY2JhZGJmNGIzZTQ2NDYwMjllNTc4ODI5N2RhOWMwZGYpOwogICAgICAgIAogICAgCiAgICAgICAgICAgIHZhciBtYXJrZXJfMTk2NWM4NGZlMTI4NGY2YWEwNDFhY2U5NWViZDliZGQgPSBMLm1hcmtlcigKICAgICAgICAgICAgICAgIFs0MS44MzE4MDEzOTk1NjcyNiwgLTg3LjYxNzc2MDY2NTYyOTZdLAogICAgICAgICAgICAgICAge30KICAgICAgICAgICAgKS5hZGRUbyhtYXBfY2JhZGJmNGIzZTQ2NDYwMjllNTc4ODI5N2RhOWMwZGYpOwogICAgICAgIAogICAgCiAgICAgICAgICAgIHZhciBtYXJrZXJfMjg1OTE2MGU4NmZhNGQyNzgzNWYxM2RhMjgxMmJiYjQgPSBMLm1hcmtlcigKICAgICAgICAgICAgICAgIFs0MS43OTI5ODY2NjA3ODI2NywgLTg3Ljc4MDEzMzI1ODAxOTcyXSwKICAgICAgICAgICAgICAgIHt9CiAgICAgICAgICAgICkuYWRkVG8obWFwX2NiYWRiZjRiM2U0NjQ2MDI5ZTU3ODgyOTdkYTljMGRmKTsKICAgICAgICAKICAgIAogICAgICAgICAgICB2YXIgbWFya2VyX2E3YjA3ZDAwZjM5NjRmOTQ5YTAyZjU0ODY4NzdkNzZkID0gTC5tYXJrZXIoCiAgICAgICAgICAgICAgICBbNDIuMDA2NzA3NjM2NTY5NzYsIC04Ny42NzM0MDc2NzI2ODUzOV0sCiAgICAgICAgICAgICAgICB7fQogICAgICAgICAgICApLmFkZFRvKG1hcF9jYmFkYmY0YjNlNDY0NjAyOWU1Nzg4Mjk3ZGE5YzBkZik7CiAgICAgICAgCiAgICAKICAgICAgICAgICAgdmFyIG1hcmtlcl8xZTY2ZmM4ZjY5ZmE0YWU2YWM4NTUxYWM2MDBiZTcxZSA9IEwubWFya2VyKAogICAgICAgICAgICAgICAgWzQxLjg5NDM3MDcsIC04Ny43MDY0NjA3XSwKICAgICAgICAgICAgICAgIHt9CiAgICAgICAgICAgICkuYWRkVG8obWFwX2NiYWRiZjRiM2U0NjQ2MDI5ZTU3ODgyOTdkYTljMGRmKTsKICAgICAgICAKICAgIAogICAgICAgICAgICB2YXIgbWFya2VyX2JhZTYyMjhlMmI3NzQwMWU4MDc5YTMwMzg0ZDY3MWZlID0gTC5tYXJrZXIoCiAgICAgICAgICAgICAgICBbNDEuNjkyNDQxNjkyNDI1ODksIC04Ny42NzQxMzI4NjU1NTcxOF0sCiAgICAgICAgICAgICAgICB7fQogICAgICAgICAgICApLmFkZFRvKG1hcF9jYmFkYmY0YjNlNDY0NjAyOWU1Nzg4Mjk3ZGE5YzBkZik7CiAgICAgICAgCiAgICAKICAgICAgICAgICAgdmFyIG1hcmtlcl8xODU3MzBiYjJiODk0NDNkYjQzMmEwYjdlODdmZjYxNCA9IEwubWFya2VyKAogICAgICAgICAgICAgICAgWzQxLjczODMyMzk5NzkxMDY0LCAtODcuNzAyMTMwMTA1NjE5MjNdLAogICAgICAgICAgICAgICAge30KICAgICAgICAgICAgKS5hZGRUbyhtYXBfY2JhZGJmNGIzZTQ2NDYwMjllNTc4ODI5N2RhOWMwZGYpOwogICAgICAgIAogICAgCiAgICAgICAgICAgIHZhciBtYXJrZXJfMGE2NTY2N2FmZDg5NGMyNjk3Y2Q5NjE2NjI4MWEzMWQgPSBMLm1hcmtlcigKICAgICAgICAgICAgICAgIFs0MS44MzA0NDc1MDAxNzA4NTUsIC04Ny42NzMzOTE2NTQzMDI1NV0sCiAgICAgICAgICAgICAgICB7fQogICAgICAgICAgICApLmFkZFRvKG1hcF9jYmFkYmY0YjNlNDY0NjAyOWU1Nzg4Mjk3ZGE5YzBkZik7CiAgICAgICAgCiAgICAKICAgICAgICAgICAgdmFyIG1hcmtlcl85YjZjMTdiM2M5NTY0YTZjYTNmNWJiNDExN2Q4YWRjNCA9IEwubWFya2VyKAogICAgICAgICAgICAgICAgWzQxLjgwNTg0MDMwOTg1MDMsIC04Ny41ODkzNDE4MjIxMjU5Ml0sCiAgICAgICAgICAgICAgICB7fQogICAgICAgICAgICApLmFkZFRvKG1hcF9jYmFkYmY0YjNlNDY0NjAyOWU1Nzg4Mjk3ZGE5YzBkZik7CiAgICAgICAgCiAgICAKICAgICAgICAgICAgdmFyIG1hcmtlcl9hNjczNTRjNmEyYzQ0MDc2OGVlZTgzODdhYmJmZmI0MyA9IEwubWFya2VyKAogICAgICAgICAgICAgICAgWzQxLjc3Njc4MjA1NjIxNjQ2LCAtODcuNzgxODE5Nzg3NTUxMTZdLAogICAgICAgICAgICAgICAge30KICAgICAgICAgICAgKS5hZGRUbyhtYXBfY2JhZGJmNGIzZTQ2NDYwMjllNTc4ODI5N2RhOWMwZGYpOwogICAgICAgIAogICAgCiAgICAgICAgICAgIHZhciBtYXJrZXJfODEzMmFiODQzNmY0NDUwODk2YjUyZDZlNTA3NzY1N2EgPSBMLm1hcmtlcigKICAgICAgICAgICAgICAgIFs0MS45MTAzMjgsIC04Ny43MDU0MjddLAogICAgICAgICAgICAgICAge30KICAgICAgICAgICAgKS5hZGRUbyhtYXBfY2JhZGJmNGIzZTQ2NDYwMjllNTc4ODI5N2RhOWMwZGYpOwogICAgICAgIAogICAgCiAgICAgICAgICAgIHZhciBtYXJrZXJfMjI5MWM3ZWI2ZDNmNGMxZDg2NDkxMDc1ZmNhMmExN2QgPSBMLm1hcmtlcigKICAgICAgICAgICAgICAgIFs0MS42OTI5MTkwOTg1ODI0NiwgLTg3LjcwMTAzNzg4NTU0Mjc5XSwKICAgICAgICAgICAgICAgIHt9CiAgICAgICAgICAgICkuYWRkVG8obWFwX2NiYWRiZjRiM2U0NjQ2MDI5ZTU3ODgyOTdkYTljMGRmKTsKICAgICAgICAKICAgIAogICAgICAgICAgICB2YXIgbWFya2VyXzNlMjAwZWQ3OWZjZTQzODBhNjAwZWJlNDIzZmE5YzlkID0gTC5tYXJrZXIoCiAgICAgICAgICAgICAgICBbNDEuODk1NzUyMTg5MDcwNzg0LCAtODcuNjY4MjY2NTkwNzk1MV0sCiAgICAgICAgICAgICAgICB7fQogICAgICAgICAgICApLmFkZFRvKG1hcF9jYmFkYmY0YjNlNDY0NjAyOWU1Nzg4Mjk3ZGE5YzBkZik7CiAgICAgICAgCiAgICAKICAgICAgICAgICAgdmFyIG1hcmtlcl8wZmFiMmE3ZGEzOGY0YmI2YWFkMjgzMWVhMmRlYjI5ZSA9IEwubWFya2VyKAogICAgICAgICAgICAgICAgWzQxLjg0MjA1MzY3MDcwMTI4LCAtODcuNzI0OTY4ODQ0NzQyNDZdLAogICAgICAgICAgICAgICAge30KICAgICAgICAgICAgKS5hZGRUbyhtYXBfY2JhZGJmNGIzZTQ2NDYwMjllNTc4ODI5N2RhOWMwZGYpOwogICAgICAgIAogICAgCiAgICAgICAgICAgIHZhciBtYXJrZXJfM2YxZTZhZGU4YWZiNDEzNmJhMWJiMzM4ZDU1OThiY2YgPSBMLm1hcmtlcigKICAgICAgICAgICAgICAgIFs0MS45MTAwNDI0MTYxMTYzNiwgLTg3LjczMzkyNjA5MjE1NDI5XSwKICAgICAgICAgICAgICAgIHt9CiAgICAgICAgICAgICkuYWRkVG8obWFwX2NiYWRiZjRiM2U0NjQ2MDI5ZTU3ODgyOTdkYTljMGRmKTsKICAgICAgICAKICAgIAogICAgICAgICAgICB2YXIgbWFya2VyX2FkODNhOTRmNTU2MzRkMTY4MmVkNGRkYWJiOGFkZDliID0gTC5tYXJrZXIoCiAgICAgICAgICAgICAgICBbNDEuNzgxODA3ODc3ODcyODIsIC04Ny43MDMyNjE2MjIxMTc1OF0sCiAgICAgICAgICAgICAgICB7fQogICAgICAgICAgICApLmFkZFRvKG1hcF9jYmFkYmY0YjNlNDY0NjAyOWU1Nzg4Mjk3ZGE5YzBkZik7CiAgICAgICAgCiAgICAKICAgICAgICAgICAgdmFyIG1hcmtlcl8wZTY0OThkZTM1NGI0OTA0YjU0ZWNkNWQ2MTIyOWE5YiA9IEwubWFya2VyKAogICAgICAgICAgICAgICAgWzQxLjczMDU3NDgzNDYwOTM4LCAtODcuNTQ5ODA2OTQwMDM5MTldLAogICAgICAgICAgICAgICAge30KICAgICAgICAgICAgKS5hZGRUbyhtYXBfY2JhZGJmNGIzZTQ2NDYwMjllNTc4ODI5N2RhOWMwZGYpOwogICAgICAgIAogICAgCiAgICAgICAgICAgIHZhciBtYXJrZXJfYTAxYjExMDRiMGJiNGE2OTlmZGEzNGU0OWY4NTMxZTAgPSBMLm1hcmtlcigKICAgICAgICAgICAgICAgIFs0MS44NzkzMzg2NTg0OTA3OSwgLTg3LjcyNTU2MDM0NjIwMDc0XSwKICAgICAgICAgICAgICAgIHt9CiAgICAgICAgICAgICkuYWRkVG8obWFwX2NiYWRiZjRiM2U0NjQ2MDI5ZTU3ODgyOTdkYTljMGRmKTsKICAgICAgICAKICAgIAogICAgICAgICAgICB2YXIgbWFya2VyXzMxOTU5Zjg5YzZmZDQyMjk4ZDEwYTdlMTcxYWZkYzQ3ID0gTC5tYXJrZXIoCiAgICAgICAgICAgICAgICBbNDEuNzU3ODAxNzUxNjI4NzU1LCAtODcuNjUzOTgxNTUzMDk4NjJdLAogICAgICAgICAgICAgICAge30KICAgICAgICAgICAgKS5hZGRUbyhtYXBfY2JhZGJmNGIzZTQ2NDYwMjllNTc4ODI5N2RhOWMwZGYpOwogICAgICAgIAogICAgCiAgICAgICAgICAgIHZhciBtYXJrZXJfY2NiZjNlYzMzODJhNGI4ZmI2NWJkMWZiMDg0Y2QzNjEgPSBMLm1hcmtlcigKICAgICAgICAgICAgICAgIFs0MS43MjExODA1MDU0NTY0OTUsIC04Ny42NzE5NDY0NjEzODg4XSwKICAgICAgICAgICAgICAgIHt9CiAgICAgICAgICAgICkuYWRkVG8obWFwX2NiYWRiZjRiM2U0NjQ2MDI5ZTU3ODgyOTdkYTljMGRmKTsKICAgICAgICAKICAgIAogICAgICAgICAgICB2YXIgbWFya2VyXzEyODAyNTY5ZDYxMzRlODNiOWNkNzA0YWQ0ZTc3ZWY0ID0gTC5tYXJrZXIoCiAgICAgICAgICAgICAgICBbNDEuODg5MjcyMTUzNTE0NTI2LCAtODcuNzY1NzExODY3MjI4MThdLAogICAgICAgICAgICAgICAge30KICAgICAgICAgICAgKS5hZGRUbyhtYXBfY2JhZGJmNGIzZTQ2NDYwMjllNTc4ODI5N2RhOWMwZGYpOwogICAgICAgIAogICAgCiAgICAgICAgICAgIHZhciBwb2x5X2xpbmVfNTk1NDI2ZGZkOGU4NGVjOWExM2JkNDUzY2U5ODc0NDQgPSBMLnBvbHlsaW5lKAogICAgICAgICAgICAgICAgW1s0MS45NTMxNzM5MDA2NDE1OCwgLTg3Ljc3OTM4NjgyMDczNTQxXSwgWzQxLjkzODc3Njc1MDM5OTcyLCAtODcuNzU0NDkyOTM3NjUxNjNdXSwKICAgICAgICAgICAgICAgIHsiYnViYmxpbmdNb3VzZUV2ZW50cyI6IHRydWUsICJjb2xvciI6ICIjRkYwMDAwIiwgImRhc2hBcnJheSI6IG51bGwsICJkYXNoT2Zmc2V0IjogbnVsbCwgImZpbGwiOiBmYWxzZSwgImZpbGxDb2xvciI6ICIjRkYwMDAwIiwgImZpbGxPcGFjaXR5IjogMC4yLCAiZmlsbFJ1bGUiOiAiZXZlbm9kZCIsICJsaW5lQ2FwIjogInJvdW5kIiwgImxpbmVKb2luIjogInJvdW5kIiwgIm5vQ2xpcCI6IGZhbHNlLCAib3BhY2l0eSI6IDEuMCwgInNtb290aEZhY3RvciI6IDEuMCwgInN0cm9rZSI6IHRydWUsICJ3ZWlnaHQiOiA1fQogICAgICAgICAgICApLmFkZFRvKG1hcF9jYmFkYmY0YjNlNDY0NjAyOWU1Nzg4Mjk3ZGE5YzBkZik7CiAgICAgICAgCiAgICAKICAgICAgICAgICAgdmFyIHBvbHlfbGluZV9hZmZjMTYyYTRjNWU0MjlmYjE0MzUyNzUyY2Y2YTFjYSA9IEwucG9seWxpbmUoCiAgICAgICAgICAgICAgICBbWzQxLjk2MjQwMzU4MTA4MTY5LCAtODcuNjg0NDE2ODQ5NDY1MzFdLCBbNDEuOTk4MzM5MDI5MDQyOTIsIC04Ny42OTk2NTAwNTE0NDUyXV0sCiAgICAgICAgICAgICAgICB7ImJ1YmJsaW5nTW91c2VFdmVudHMiOiB0cnVlLCAiY29sb3IiOiAiI0ZGMDAwMCIsICJkYXNoQXJyYXkiOiBudWxsLCAiZGFzaE9mZnNldCI6IG51bGwsICJmaWxsIjogZmFsc2UsICJmaWxsQ29sb3IiOiAiI0ZGMDAwMCIsICJmaWxsT3BhY2l0eSI6IDAuMiwgImZpbGxSdWxlIjogImV2ZW5vZGQiLCAibGluZUNhcCI6ICJyb3VuZCIsICJsaW5lSm9pbiI6ICJyb3VuZCIsICJub0NsaXAiOiBmYWxzZSwgIm9wYWNpdHkiOiAxLjAsICJzbW9vdGhGYWN0b3IiOiAxLjAsICJzdHJva2UiOiB0cnVlLCAid2VpZ2h0IjogNX0KICAgICAgICAgICAgKS5hZGRUbyhtYXBfY2JhZGJmNGIzZTQ2NDYwMjllNTc4ODI5N2RhOWMwZGYpOwogICAgICAgIAogICAgCiAgICAgICAgICAgIHZhciBwb2x5X2xpbmVfZTBmOTgxNTIzNjJiNDUxMDhiNzZlNTI0NzBjMjc4ZWQgPSBMLnBvbHlsaW5lKAogICAgICAgICAgICAgICAgW1s0MS44ODExODU3MDQxNTE4NywgLTg3LjY3OTE0MjExMTExNzc2XSwgWzQxLjg3NjI5OTg1MzU3NzAyLCAtODcuNjI4MTkyODAxMTY5NDldXSwKICAgICAgICAgICAgICAgIHsiYnViYmxpbmdNb3VzZUV2ZW50cyI6IHRydWUsICJjb2xvciI6ICIjRkYwMDAwIiwgImRhc2hBcnJheSI6IG51bGwsICJkYXNoT2Zmc2V0IjogbnVsbCwgImZpbGwiOiBmYWxzZSwgImZpbGxDb2xvciI6ICIjRkYwMDAwIiwgImZpbGxPcGFjaXR5IjogMC4yLCAiZmlsbFJ1bGUiOiAiZXZlbm9kZCIsICJsaW5lQ2FwIjogInJvdW5kIiwgImxpbmVKb2luIjogInJvdW5kIiwgIm5vQ2xpcCI6IGZhbHNlLCAib3BhY2l0eSI6IDEuMCwgInNtb290aEZhY3RvciI6IDEuMCwgInN0cm9rZSI6IHRydWUsICJ3ZWlnaHQiOiA1fQogICAgICAgICAgICApLmFkZFRvKG1hcF9jYmFkYmY0YjNlNDY0NjAyOWU1Nzg4Mjk3ZGE5YzBkZik7CiAgICAgICAgCiAgICAKICAgICAgICAgICAgdmFyIHBvbHlfbGluZV9lNGQyYjQ1YjcwNmE0ODIxOTY3YmEyMGFjMzE1MWM0OCA9IEwucG9seWxpbmUoCiAgICAgICAgICAgICAgICBbWzQxLjk1MzE3MzkwMDY0MTU4LCAtODcuNzc5Mzg2ODIwNzM1NDFdLCBbNDEuOTIxMTE0NzI0OTQzMzg2LCAtODcuNzk3MjQxMDIwNzAyOThdXSwKICAgICAgICAgICAgICAgIHsiYnViYmxpbmdNb3VzZUV2ZW50cyI6IHRydWUsICJjb2xvciI6ICIjRkYwMDAwIiwgImRhc2hBcnJheSI6IG51bGwsICJkYXNoT2Zmc2V0IjogbnVsbCwgImZpbGwiOiBmYWxzZSwgImZpbGxDb2xvciI6ICIjRkYwMDAwIiwgImZpbGxPcGFjaXR5IjogMC4yLCAiZmlsbFJ1bGUiOiAiZXZlbm9kZCIsICJsaW5lQ2FwIjogInJvdW5kIiwgImxpbmVKb2luIjogInJvdW5kIiwgIm5vQ2xpcCI6IGZhbHNlLCAib3BhY2l0eSI6IDEuMCwgInNtb290aEZhY3RvciI6IDEuMCwgInN0cm9rZSI6IHRydWUsICJ3ZWlnaHQiOiA1fQogICAgICAgICAgICApLmFkZFRvKG1hcF9jYmFkYmY0YjNlNDY0NjAyOWU1Nzg4Mjk3ZGE5YzBkZik7CiAgICAgICAgCiAgICAKICAgICAgICAgICAgdmFyIHBvbHlfbGluZV9mZDJlMDMxMjg1NDg0YTRlOGIwNWY5NjU5ZGIyYzc3ZSA9IEwucG9seWxpbmUoCiAgICAgICAgICAgICAgICBbWzQxLjk1MzE3MzkwMDY0MTU4LCAtODcuNzc5Mzg2ODIwNzM1NDFdLCBbNDEuOTY3NTk3MzkxODI5NzgsIC04Ny43NjE1NTQyNjIzMjcyMV1dLAogICAgICAgICAgICAgICAgeyJidWJibGluZ01vdXNlRXZlbnRzIjogdHJ1ZSwgImNvbG9yIjogIiNGRjAwMDAiLCAiZGFzaEFycmF5IjogbnVsbCwgImRhc2hPZmZzZXQiOiBudWxsLCAiZmlsbCI6IGZhbHNlLCAiZmlsbENvbG9yIjogIiNGRjAwMDAiLCAiZmlsbE9wYWNpdHkiOiAwLjIsICJmaWxsUnVsZSI6ICJldmVub2RkIiwgImxpbmVDYXAiOiAicm91bmQiLCAibGluZUpvaW4iOiAicm91bmQiLCAibm9DbGlwIjogZmFsc2UsICJvcGFjaXR5IjogMS4wLCAic21vb3RoRmFjdG9yIjogMS4wLCAic3Ryb2tlIjogdHJ1ZSwgIndlaWdodCI6IDV9CiAgICAgICAgICAgICkuYWRkVG8obWFwX2NiYWRiZjRiM2U0NjQ2MDI5ZTU3ODgyOTdkYTljMGRmKTsKICAgICAgICAKICAgIAogICAgICAgICAgICB2YXIgcG9seV9saW5lX2M0NGZkODRjZTAyZjRiZDFhMzU2MDJkNTMzYWJiNDcyID0gTC5wb2x5bGluZSgKICAgICAgICAgICAgICAgIFtbNDEuODgxMTg1NzA0MTUxODcsIC04Ny42NzkxNDIxMTExMTc3Nl0sIFs0MS44ODExODU3MDQxNTE4NywgLTg3LjY3OTE0MjExMTExNzc2XV0sCiAgICAgICAgICAgICAgICB7ImJ1YmJsaW5nTW91c2VFdmVudHMiOiB0cnVlLCAiY29sb3IiOiAiI0ZGMDAwMCIsICJkYXNoQXJyYXkiOiBudWxsLCAiZGFzaE9mZnNldCI6IG51bGwsICJmaWxsIjogZmFsc2UsICJmaWxsQ29sb3IiOiAiI0ZGMDAwMCIsICJmaWxsT3BhY2l0eSI6IDAuMiwgImZpbGxSdWxlIjogImV2ZW5vZGQiLCAibGluZUNhcCI6ICJyb3VuZCIsICJsaW5lSm9pbiI6ICJyb3VuZCIsICJub0NsaXAiOiBmYWxzZSwgIm9wYWNpdHkiOiAxLjAsICJzbW9vdGhGYWN0b3IiOiAxLjAsICJzdHJva2UiOiB0cnVlLCAid2VpZ2h0IjogNX0KICAgICAgICAgICAgKS5hZGRUbyhtYXBfY2JhZGJmNGIzZTQ2NDYwMjllNTc4ODI5N2RhOWMwZGYpOwogICAgICAgIAogICAgCiAgICAgICAgICAgIHZhciBwb2x5X2xpbmVfNTRjYzZlOGMyOWQ0NDY0NWE1YTdlNTk3NDI4MGQ0YTkgPSBMLnBvbHlsaW5lKAogICAgICAgICAgICAgICAgW1s0MS44MDgzODQ0MjM2NjYzNTQsIC04Ny42Nzc1Njk2Mzg3NDE5Nl0sIFs0MS44MTUxMzg3ODkzMjgyNjYsIC04Ny43MDI2NTQzMTYxNDkwN11dLAogICAgICAgICAgICAgICAgeyJidWJibGluZ01vdXNlRXZlbnRzIjogdHJ1ZSwgImNvbG9yIjogIiNGRjAwMDAiLCAiZGFzaEFycmF5IjogbnVsbCwgImRhc2hPZmZzZXQiOiBudWxsLCAiZmlsbCI6IGZhbHNlLCAiZmlsbENvbG9yIjogIiNGRjAwMDAiLCAiZmlsbE9wYWNpdHkiOiAwLjIsICJmaWxsUnVsZSI6ICJldmVub2RkIiwgImxpbmVDYXAiOiAicm91bmQiLCAibGluZUpvaW4iOiAicm91bmQiLCAibm9DbGlwIjogZmFsc2UsICJvcGFjaXR5IjogMS4wLCAic21vb3RoRmFjdG9yIjogMS4wLCAic3Ryb2tlIjogdHJ1ZSwgIndlaWdodCI6IDV9CiAgICAgICAgICAgICkuYWRkVG8obWFwX2NiYWRiZjRiM2U0NjQ2MDI5ZTU3ODgyOTdkYTljMGRmKTsKICAgICAgICAKICAgIAogICAgICAgICAgICB2YXIgcG9seV9saW5lX2NjNjBhNGQxNmEzNTQ4M2FiNmRhZjI4ZWZjMzAyZDFkID0gTC5wb2x5bGluZSgKICAgICAgICAgICAgICAgIFtbNDEuOTUzMTczOTAwNjQxNTgsIC04Ny43NzkzODY4MjA3MzU0MV0sIFs0MS45MzY2NjIxMTg2OTMxNSwgLTg3Ljc4NTg5MTQ1MDA2Mzk2XV0sCiAgICAgICAgICAgICAgICB7ImJ1YmJsaW5nTW91c2VFdmVudHMiOiB0cnVlLCAiY29sb3IiOiAiI0ZGMDAwMCIsICJkYXNoQXJyYXkiOiBudWxsLCAiZGFzaE9mZnNldCI6IG51bGwsICJmaWxsIjogZmFsc2UsICJmaWxsQ29sb3IiOiAiI0ZGMDAwMCIsICJmaWxsT3BhY2l0eSI6IDAuMiwgImZpbGxSdWxlIjogImV2ZW5vZGQiLCAibGluZUNhcCI6ICJyb3VuZCIsICJsaW5lSm9pbiI6ICJyb3VuZCIsICJub0NsaXAiOiBmYWxzZSwgIm9wYWNpdHkiOiAxLjAsICJzbW9vdGhGYWN0b3IiOiAxLjAsICJzdHJva2UiOiB0cnVlLCAid2VpZ2h0IjogNX0KICAgICAgICAgICAgKS5hZGRUbyhtYXBfY2JhZGJmNGIzZTQ2NDYwMjllNTc4ODI5N2RhOWMwZGYpOwogICAgICAgIAogICAgCiAgICAgICAgICAgIHZhciBwb2x5X2xpbmVfM2UwYjBkY2M2MmMxNDcyZGJkOTg5NWEyOTAxZDU4MjcgPSBMLnBvbHlsaW5lKAogICAgICAgICAgICAgICAgW1s0MS44MDgzODQ0MjM2NjYzNTQsIC04Ny42Nzc1Njk2Mzg3NDE5Nl0sIFs0MS44MzIyODcwMzM0NjMwOCwgLTg3LjY0NjQ4NTAxMTI0NTQ1XV0sCiAgICAgICAgICAgICAgICB7ImJ1YmJsaW5nTW91c2VFdmVudHMiOiB0cnVlLCAiY29sb3IiOiAiI0ZGMDAwMCIsICJkYXNoQXJyYXkiOiBudWxsLCAiZGFzaE9mZnNldCI6IG51bGwsICJmaWxsIjogZmFsc2UsICJmaWxsQ29sb3IiOiAiI0ZGMDAwMCIsICJmaWxsT3BhY2l0eSI6IDAuMiwgImZpbGxSdWxlIjogImV2ZW5vZGQiLCAibGluZUNhcCI6ICJyb3VuZCIsICJsaW5lSm9pbiI6ICJyb3VuZCIsICJub0NsaXAiOiBmYWxzZSwgIm9wYWNpdHkiOiAxLjAsICJzbW9vdGhGYWN0b3IiOiAxLjAsICJzdHJva2UiOiB0cnVlLCAid2VpZ2h0IjogNX0KICAgICAgICAgICAgKS5hZGRUbyhtYXBfY2JhZGJmNGIzZTQ2NDYwMjllNTc4ODI5N2RhOWMwZGYpOwogICAgICAgIAogICAgCiAgICAgICAgICAgIHZhciBwb2x5X2xpbmVfMmRmMjBhZTRlYjMwNDY3MGI1ZTlkNzA3NGFlNmUwYmEgPSBMLnBvbHlsaW5lKAogICAgICAgICAgICAgICAgW1s0MS44ODExODU3MDQxNTE4NywgLTg3LjY3OTE0MjExMTExNzc2XSwgWzQxLjg5NTA0NjUwODc5MDgzNCwgLTg3Ljc0NzMyOTU0MDAwODQxXV0sCiAgICAgICAgICAgICAgICB7ImJ1YmJsaW5nTW91c2VFdmVudHMiOiB0cnVlLCAiY29sb3IiOiAiI0ZGMDAwMCIsICJkYXNoQXJyYXkiOiBudWxsLCAiZGFzaE9mZnNldCI6IG51bGwsICJmaWxsIjogZmFsc2UsICJmaWxsQ29sb3IiOiAiI0ZGMDAwMCIsICJmaWxsT3BhY2l0eSI6IDAuMiwgImZpbGxSdWxlIjogImV2ZW5vZGQiLCAibGluZUNhcCI6ICJyb3VuZCIsICJsaW5lSm9pbiI6ICJyb3VuZCIsICJub0NsaXAiOiBmYWxzZSwgIm9wYWNpdHkiOiAxLjAsICJzbW9vdGhGYWN0b3IiOiAxLjAsICJzdHJva2UiOiB0cnVlLCAid2VpZ2h0IjogNX0KICAgICAgICAgICAgKS5hZGRUbyhtYXBfY2JhZGJmNGIzZTQ2NDYwMjllNTc4ODI5N2RhOWMwZGYpOwogICAgICAgIAogICAgCiAgICAgICAgICAgIHZhciBwb2x5X2xpbmVfMDkxM2Q2YWUyNTk3NDVjMGJkN2UxNGVhOGFkNTYzYjggPSBMLnBvbHlsaW5lKAogICAgICAgICAgICAgICAgW1s0MS44MDgzODQ0MjM2NjYzNTQsIC04Ny42Nzc1Njk2Mzg3NDE5Nl0sIFs0MS44MTU1MDU2ODQzOTYzMzUsIC04Ny42NDI1MDEwMTQ2NTU2NV1dLAogICAgICAgICAgICAgICAgeyJidWJibGluZ01vdXNlRXZlbnRzIjogdHJ1ZSwgImNvbG9yIjogIiNGRjAwMDAiLCAiZGFzaEFycmF5IjogbnVsbCwgImRhc2hPZmZzZXQiOiBudWxsLCAiZmlsbCI6IGZhbHNlLCAiZmlsbENvbG9yIjogIiNGRjAwMDAiLCAiZmlsbE9wYWNpdHkiOiAwLjIsICJmaWxsUnVsZSI6ICJldmVub2RkIiwgImxpbmVDYXAiOiAicm91bmQiLCAibGluZUpvaW4iOiAicm91bmQiLCAibm9DbGlwIjogZmFsc2UsICJvcGFjaXR5IjogMS4wLCAic21vb3RoRmFjdG9yIjogMS4wLCAic3Ryb2tlIjogdHJ1ZSwgIndlaWdodCI6IDV9CiAgICAgICAgICAgICkuYWRkVG8obWFwX2NiYWRiZjRiM2U0NjQ2MDI5ZTU3ODgyOTdkYTljMGRmKTsKICAgICAgICAKICAgIAogICAgICAgICAgICB2YXIgcG9seV9saW5lXzRjMWZmZWUzMDU2MTRmMDc4NDBhNjNlZDM1YWYxYTBhID0gTC5wb2x5bGluZSgKICAgICAgICAgICAgICAgIFtbNDEuODgxMTg1NzA0MTUxODcsIC04Ny42NzkxNDIxMTExMTc3Nl0sIFs0MS44NDk1MzMxLCAtODcuNzA1MTIxNV1dLAogICAgICAgICAgICAgICAgeyJidWJibGluZ01vdXNlRXZlbnRzIjogdHJ1ZSwgImNvbG9yIjogIiNGRjAwMDAiLCAiZGFzaEFycmF5IjogbnVsbCwgImRhc2hPZmZzZXQiOiBudWxsLCAiZmlsbCI6IGZhbHNlLCAiZmlsbENvbG9yIjogIiNGRjAwMDAiLCAiZmlsbE9wYWNpdHkiOiAwLjIsICJmaWxsUnVsZSI6ICJldmVub2RkIiwgImxpbmVDYXAiOiAicm91bmQiLCAibGluZUpvaW4iOiAicm91bmQiLCAibm9DbGlwIjogZmFsc2UsICJvcGFjaXR5IjogMS4wLCAic21vb3RoRmFjdG9yIjogMS4wLCAic3Ryb2tlIjogdHJ1ZSwgIndlaWdodCI6IDV9CiAgICAgICAgICAgICkuYWRkVG8obWFwX2NiYWRiZjRiM2U0NjQ2MDI5ZTU3ODgyOTdkYTljMGRmKTsKICAgICAgICAKICAgIAogICAgICAgICAgICB2YXIgcG9seV9saW5lXzEyYTgxYmQ0MzJlYjRkODZhNmE5ZjhmN2M1MjhmMjU0ID0gTC5wb2x5bGluZSgKICAgICAgICAgICAgICAgIFtbNDEuOTUzMTczOTAwNjQxNTgsIC04Ny43NzkzODY4MjA3MzU0MV0sIFs0MS45OTE5MTc1MjQ5NDIzMiwgLTg3Ljc5ODMwMTg5ODY0NTgzXV0sCiAgICAgICAgICAgICAgICB7ImJ1YmJsaW5nTW91c2VFdmVudHMiOiB0cnVlLCAiY29sb3IiOiAiI0ZGMDAwMCIsICJkYXNoQXJyYXkiOiBudWxsLCAiZGFzaE9mZnNldCI6IG51bGwsICJmaWxsIjogZmFsc2UsICJmaWxsQ29sb3IiOiAiI0ZGMDAwMCIsICJmaWxsT3BhY2l0eSI6IDAuMiwgImZpbGxSdWxlIjogImV2ZW5vZGQiLCAibGluZUNhcCI6ICJyb3VuZCIsICJsaW5lSm9pbiI6ICJyb3VuZCIsICJub0NsaXAiOiBmYWxzZSwgIm9wYWNpdHkiOiAxLjAsICJzbW9vdGhGYWN0b3IiOiAxLjAsICJzdHJva2UiOiB0cnVlLCAid2VpZ2h0IjogNX0KICAgICAgICAgICAgKS5hZGRUbyhtYXBfY2JhZGJmNGIzZTQ2NDYwMjllNTc4ODI5N2RhOWMwZGYpOwogICAgICAgIAogICAgCiAgICAgICAgICAgIHZhciBwb2x5X2xpbmVfNDkyMTUwM2VhZTM2NDliYmI1MTk3YjkyYmE0MmIyMjggPSBMLnBvbHlsaW5lKAogICAgICAgICAgICAgICAgW1s0MS45NjI0MDM1ODEwODE2OSwgLTg3LjY4NDQxNjg0OTQ2NTMxXSwgWzQxLjk0MDMxMzU5NTYyMjU5LCAtODcuNjcwNzU3NzEyODE2MjVdXSwKICAgICAgICAgICAgICAgIHsiYnViYmxpbmdNb3VzZUV2ZW50cyI6IHRydWUsICJjb2xvciI6ICIjRkYwMDAwIiwgImRhc2hBcnJheSI6IG51bGwsICJkYXNoT2Zmc2V0IjogbnVsbCwgImZpbGwiOiBmYWxzZSwgImZpbGxDb2xvciI6ICIjRkYwMDAwIiwgImZpbGxPcGFjaXR5IjogMC4yLCAiZmlsbFJ1bGUiOiAiZXZlbm9kZCIsICJsaW5lQ2FwIjogInJvdW5kIiwgImxpbmVKb2luIjogInJvdW5kIiwgIm5vQ2xpcCI6IGZhbHNlLCAib3BhY2l0eSI6IDEuMCwgInNtb290aEZhY3RvciI6IDEuMCwgInN0cm9rZSI6IHRydWUsICJ3ZWlnaHQiOiA1fQogICAgICAgICAgICApLmFkZFRvKG1hcF9jYmFkYmY0YjNlNDY0NjAyOWU1Nzg4Mjk3ZGE5YzBkZik7CiAgICAgICAgCiAgICAKICAgICAgICAgICAgdmFyIHBvbHlfbGluZV8yOGYzZWQ0Yjg5YTc0ZjFiYjMwMzRkMDc5MGE4MGI3NyA9IEwucG9seWxpbmUoCiAgICAgICAgICAgICAgICBbWzQxLjk1MzE3MzkwMDY0MTU4LCAtODcuNzc5Mzg2ODIwNzM1NDFdLCBbNDEuOTA5NDI5MTk3OTg0MjgsIC04Ny43Njg3OTg5ODg4ODI2NV1dLAogICAgICAgICAgICAgICAgeyJidWJibGluZ01vdXNlRXZlbnRzIjogdHJ1ZSwgImNvbG9yIjogIiNGRjAwMDAiLCAiZGFzaEFycmF5IjogbnVsbCwgImRhc2hPZmZzZXQiOiBudWxsLCAiZmlsbCI6IGZhbHNlLCAiZmlsbENvbG9yIjogIiNGRjAwMDAiLCAiZmlsbE9wYWNpdHkiOiAwLjIsICJmaWxsUnVsZSI6ICJldmVub2RkIiwgImxpbmVDYXAiOiAicm91bmQiLCAibGluZUpvaW4iOiAicm91bmQiLCAibm9DbGlwIjogZmFsc2UsICJvcGFjaXR5IjogMS4wLCAic21vb3RoRmFjdG9yIjogMS4wLCAic3Ryb2tlIjogdHJ1ZSwgIndlaWdodCI6IDV9CiAgICAgICAgICAgICkuYWRkVG8obWFwX2NiYWRiZjRiM2U0NjQ2MDI5ZTU3ODgyOTdkYTljMGRmKTsKICAgICAgICAKICAgIAogICAgICAgICAgICB2YXIgcG9seV9saW5lXzg3ODJiNzg1Y2Y2YTQ4ZTM5Y2NiODJmMDZmOWUwNGUzID0gTC5wb2x5bGluZSgKICAgICAgICAgICAgICAgIFtbNDEuOTYyNDAzNTgxMDgxNjksIC04Ny42ODQ0MTY4NDk0NjUzMV0sIFs0MS45MjUwNTIxMDA3ODUzNywgLTg3LjcwMzM5NDEwOTI1OTU1XV0sCiAgICAgICAgICAgICAgICB7ImJ1YmJsaW5nTW91c2VFdmVudHMiOiB0cnVlLCAiY29sb3IiOiAiI0ZGMDAwMCIsICJkYXNoQXJyYXkiOiBudWxsLCAiZGFzaE9mZnNldCI6IG51bGwsICJmaWxsIjogZmFsc2UsICJmaWxsQ29sb3IiOiAiI0ZGMDAwMCIsICJmaWxsT3BhY2l0eSI6IDAuMiwgImZpbGxSdWxlIjogImV2ZW5vZGQiLCAibGluZUNhcCI6ICJyb3VuZCIsICJsaW5lSm9pbiI6ICJyb3VuZCIsICJub0NsaXAiOiBmYWxzZSwgIm9wYWNpdHkiOiAxLjAsICJzbW9vdGhGYWN0b3IiOiAxLjAsICJzdHJva2UiOiB0cnVlLCAid2VpZ2h0IjogNX0KICAgICAgICAgICAgKS5hZGRUbyhtYXBfY2JhZGJmNGIzZTQ2NDYwMjllNTc4ODI5N2RhOWMwZGYpOwogICAgICAgIAogICAgCiAgICAgICAgICAgIHZhciBwb2x5X2xpbmVfYWU2MTQ2YWQ3NTlmNDMzNDg0OTljMTlmNjBiOTliNTUgPSBMLnBvbHlsaW5lKAogICAgICAgICAgICAgICAgW1s0MS43MjA5MzQ4MTI4NjczNiwgLTg3LjY0MzA5Mzk1MjE2NTQyXSwgWzQxLjY3Nzg1MDg3MTc4OTgyLCAtODcuNjQyOTk5NjgzMjYxOTNdXSwKICAgICAgICAgICAgICAgIHsiYnViYmxpbmdNb3VzZUV2ZW50cyI6IHRydWUsICJjb2xvciI6ICIjRkYwMDAwIiwgImRhc2hBcnJheSI6IG51bGwsICJkYXNoT2Zmc2V0IjogbnVsbCwgImZpbGwiOiBmYWxzZSwgImZpbGxDb2xvciI6ICIjRkYwMDAwIiwgImZpbGxPcGFjaXR5IjogMC4yLCAiZmlsbFJ1bGUiOiAiZXZlbm9kZCIsICJsaW5lQ2FwIjogInJvdW5kIiwgImxpbmVKb2luIjogInJvdW5kIiwgIm5vQ2xpcCI6IGZhbHNlLCAib3BhY2l0eSI6IDEuMCwgInNtb290aEZhY3RvciI6IDEuMCwgInN0cm9rZSI6IHRydWUsICJ3ZWlnaHQiOiA1fQogICAgICAgICAgICApLmFkZFRvKG1hcF9jYmFkYmY0YjNlNDY0NjAyOWU1Nzg4Mjk3ZGE5YzBkZik7CiAgICAgICAgCiAgICAKICAgICAgICAgICAgdmFyIHBvbHlfbGluZV9mMGU4OWNiZTM3OTY0ZWVhODRmOTM0ZjBiMmU3OTMyZSA9IEwucG9seWxpbmUoCiAgICAgICAgICAgICAgICBbWzQxLjgwODM4NDQyMzY2NjM1NCwgLTg3LjY3NzU2OTYzODc0MTk2XSwgWzQxLjc5MzY5NzIzMjcxMzgyLCAtODcuNjk0MDQ2NDU0NjI4OTVdXSwKICAgICAgICAgICAgICAgIHsiYnViYmxpbmdNb3VzZUV2ZW50cyI6IHRydWUsICJjb2xvciI6ICIjRkYwMDAwIiwgImRhc2hBcnJheSI6IG51bGwsICJkYXNoT2Zmc2V0IjogbnVsbCwgImZpbGwiOiBmYWxzZSwgImZpbGxDb2xvciI6ICIjRkYwMDAwIiwgImZpbGxPcGFjaXR5IjogMC4yLCAiZmlsbFJ1bGUiOiAiZXZlbm9kZCIsICJsaW5lQ2FwIjogInJvdW5kIiwgImxpbmVKb2luIjogInJvdW5kIiwgIm5vQ2xpcCI6IGZhbHNlLCAib3BhY2l0eSI6IDEuMCwgInNtb290aEZhY3RvciI6IDEuMCwgInN0cm9rZSI6IHRydWUsICJ3ZWlnaHQiOiA1fQogICAgICAgICAgICApLmFkZFRvKG1hcF9jYmFkYmY0YjNlNDY0NjAyOWU1Nzg4Mjk3ZGE5YzBkZik7CiAgICAgICAgCiAgICAKICAgICAgICAgICAgdmFyIHBvbHlfbGluZV9hOTk4YmNjODM0MjY0N2E4YTFkYzEyNWIyNGZlNmU4YiA9IEwucG9seWxpbmUoCiAgICAgICAgICAgICAgICBbWzQxLjk2MjQwMzU4MTA4MTY5LCAtODcuNjg0NDE2ODQ5NDY1MzFdLCBbNDEuOTkwOTk2LCAtODcuNjYwNzU3XV0sCiAgICAgICAgICAgICAgICB7ImJ1YmJsaW5nTW91c2VFdmVudHMiOiB0cnVlLCAiY29sb3IiOiAiI0ZGMDAwMCIsICJkYXNoQXJyYXkiOiBudWxsLCAiZGFzaE9mZnNldCI6IG51bGwsICJmaWxsIjogZmFsc2UsICJmaWxsQ29sb3IiOiAiI0ZGMDAwMCIsICJmaWxsT3BhY2l0eSI6IDAuMiwgImZpbGxSdWxlIjogImV2ZW5vZGQiLCAibGluZUNhcCI6ICJyb3VuZCIsICJsaW5lSm9pbiI6ICJyb3VuZCIsICJub0NsaXAiOiBmYWxzZSwgIm9wYWNpdHkiOiAxLjAsICJzbW9vdGhGYWN0b3IiOiAxLjAsICJzdHJva2UiOiB0cnVlLCAid2VpZ2h0IjogNX0KICAgICAgICAgICAgKS5hZGRUbyhtYXBfY2JhZGJmNGIzZTQ2NDYwMjllNTc4ODI5N2RhOWMwZGYpOwogICAgICAgIAogICAgCiAgICAgICAgICAgIHZhciBwb2x5X2xpbmVfYmY2YjNmZTVmMDEzNGJkYWJlZTk3YTZlZGQ3Mzk0MDggPSBMLnBvbHlsaW5lKAogICAgICAgICAgICAgICAgW1s0MS44ODExODU3MDQxNTE4NywgLTg3LjY3OTE0MjExMTExNzc2XSwgWzQxLjg2NDUwMDc1OTc0MjYwNCwgLTg3LjcwOTY4NTQ4OTMzOTk2XV0sCiAgICAgICAgICAgICAgICB7ImJ1YmJsaW5nTW91c2VFdmVudHMiOiB0cnVlLCAiY29sb3IiOiAiI0ZGMDAwMCIsICJkYXNoQXJyYXkiOiBudWxsLCAiZGFzaE9mZnNldCI6IG51bGwsICJmaWxsIjogZmFsc2UsICJmaWxsQ29sb3IiOiAiI0ZGMDAwMCIsICJmaWxsT3BhY2l0eSI6IDAuMiwgImZpbGxSdWxlIjogImV2ZW5vZGQiLCAibGluZUNhcCI6ICJyb3VuZCIsICJsaW5lSm9pbiI6ICJyb3VuZCIsICJub0NsaXAiOiBmYWxzZSwgIm9wYWNpdHkiOiAxLjAsICJzbW9vdGhGYWN0b3IiOiAxLjAsICJzdHJva2UiOiB0cnVlLCAid2VpZ2h0IjogNX0KICAgICAgICAgICAgKS5hZGRUbyhtYXBfY2JhZGJmNGIzZTQ2NDYwMjllNTc4ODI5N2RhOWMwZGYpOwogICAgICAgIAogICAgCiAgICAgICAgICAgIHZhciBwb2x5X2xpbmVfNDJjMDRiMTA2ZWEwNDAwYTgxY2Y1MWJjYmY3ZTc3MTUgPSBMLnBvbHlsaW5lKAogICAgICAgICAgICAgICAgW1s0MS45NjI0MDM1ODEwODE2OSwgLTg3LjY4NDQxNjg0OTQ2NTMxXSwgWzQxLjk0MDA4NDIwODYxMzIxNCwgLTg3LjY0NjE0MzIyNjk2NDU0XV0sCiAgICAgICAgICAgICAgICB7ImJ1YmJsaW5nTW91c2VFdmVudHMiOiB0cnVlLCAiY29sb3IiOiAiI0ZGMDAwMCIsICJkYXNoQXJyYXkiOiBudWxsLCAiZGFzaE9mZnNldCI6IG51bGwsICJmaWxsIjogZmFsc2UsICJmaWxsQ29sb3IiOiAiI0ZGMDAwMCIsICJmaWxsT3BhY2l0eSI6IDAuMiwgImZpbGxSdWxlIjogImV2ZW5vZGQiLCAibGluZUNhcCI6ICJyb3VuZCIsICJsaW5lSm9pbiI6ICJyb3VuZCIsICJub0NsaXAiOiBmYWxzZSwgIm9wYWNpdHkiOiAxLjAsICJzbW9vdGhGYWN0b3IiOiAxLjAsICJzdHJva2UiOiB0cnVlLCAid2VpZ2h0IjogNX0KICAgICAgICAgICAgKS5hZGRUbyhtYXBfY2JhZGJmNGIzZTQ2NDYwMjllNTc4ODI5N2RhOWMwZGYpOwogICAgICAgIAogICAgCiAgICAgICAgICAgIHZhciBwb2x5X2xpbmVfNWIxYTE5Y2NiMmQ0NDBiYmE2Mzk5ZmEyZTJjMjNhMzYgPSBMLnBvbHlsaW5lKAogICAgICAgICAgICAgICAgW1s0MS45NTMxNzM5MDA2NDE1OCwgLTg3Ljc3OTM4NjgyMDczNTQxXSwgWzQxLjk3Nzk2MTE0MDE1NjI5NiwgLTg3LjgxMzIwOTEwOTM0NTFdXSwKICAgICAgICAgICAgICAgIHsiYnViYmxpbmdNb3VzZUV2ZW50cyI6IHRydWUsICJjb2xvciI6ICIjRkYwMDAwIiwgImRhc2hBcnJheSI6IG51bGwsICJkYXNoT2Zmc2V0IjogbnVsbCwgImZpbGwiOiBmYWxzZSwgImZpbGxDb2xvciI6ICIjRkYwMDAwIiwgImZpbGxPcGFjaXR5IjogMC4yLCAiZmlsbFJ1bGUiOiAiZXZlbm9kZCIsICJsaW5lQ2FwIjogInJvdW5kIiwgImxpbmVKb2luIjogInJvdW5kIiwgIm5vQ2xpcCI6IGZhbHNlLCAib3BhY2l0eSI6IDEuMCwgInNtb290aEZhY3RvciI6IDEuMCwgInN0cm9rZSI6IHRydWUsICJ3ZWlnaHQiOiA1fQogICAgICAgICAgICApLmFkZFRvKG1hcF9jYmFkYmY0YjNlNDY0NjAyOWU1Nzg4Mjk3ZGE5YzBkZik7CiAgICAgICAgCiAgICAKICAgICAgICAgICAgdmFyIHBvbHlfbGluZV9kNjM1NjY5MmZmZjU0MmU1YjVmMTc4OTc1MjkxNzNmNyA9IEwucG9seWxpbmUoCiAgICAgICAgICAgICAgICBbWzQxLjgwODM4NDQyMzY2NjM1NCwgLTg3LjY3NzU2OTYzODc0MTk2XSwgWzQxLjc4MjE3MTYzMzE1NjUzLCAtODcuNjM3NDA3ODY1MzIxMTddXSwKICAgICAgICAgICAgICAgIHsiYnViYmxpbmdNb3VzZUV2ZW50cyI6IHRydWUsICJjb2xvciI6ICIjRkYwMDAwIiwgImRhc2hBcnJheSI6IG51bGwsICJkYXNoT2Zmc2V0IjogbnVsbCwgImZpbGwiOiBmYWxzZSwgImZpbGxDb2xvciI6ICIjRkYwMDAwIiwgImZpbGxPcGFjaXR5IjogMC4yLCAiZmlsbFJ1bGUiOiAiZXZlbm9kZCIsICJsaW5lQ2FwIjogInJvdW5kIiwgImxpbmVKb2luIjogInJvdW5kIiwgIm5vQ2xpcCI6IGZhbHNlLCAib3BhY2l0eSI6IDEuMCwgInNtb290aEZhY3RvciI6IDEuMCwgInN0cm9rZSI6IHRydWUsICJ3ZWlnaHQiOiA1fQogICAgICAgICAgICApLmFkZFRvKG1hcF9jYmFkYmY0YjNlNDY0NjAyOWU1Nzg4Mjk3ZGE5YzBkZik7CiAgICAgICAgCiAgICAKICAgICAgICAgICAgdmFyIHBvbHlfbGluZV8xNTBjNjU4YThjZTU0NGVhOTMwYWRlYWU0YjU5MjU3MiA9IEwucG9seWxpbmUoCiAgICAgICAgICAgICAgICBbWzQxLjg4MTE4NTcwNDE1MTg3LCAtODcuNjc5MTQyMTExMTE3NzZdLCBbNDEuODU0MTIwNzQxNzM0MzgsIC04Ny42MzE5NTc5MjI0NjI0Nl1dLAogICAgICAgICAgICAgICAgeyJidWJibGluZ01vdXNlRXZlbnRzIjogdHJ1ZSwgImNvbG9yIjogIiNGRjAwMDAiLCAiZGFzaEFycmF5IjogbnVsbCwgImRhc2hPZmZzZXQiOiBudWxsLCAiZmlsbCI6IGZhbHNlLCAiZmlsbENvbG9yIjogIiNGRjAwMDAiLCAiZmlsbE9wYWNpdHkiOiAwLjIsICJmaWxsUnVsZSI6ICJldmVub2RkIiwgImxpbmVDYXAiOiAicm91bmQiLCAibGluZUpvaW4iOiAicm91bmQiLCAibm9DbGlwIjogZmFsc2UsICJvcGFjaXR5IjogMS4wLCAic21vb3RoRmFjdG9yIjogMS4wLCAic3Ryb2tlIjogdHJ1ZSwgIndlaWdodCI6IDV9CiAgICAgICAgICAgICkuYWRkVG8obWFwX2NiYWRiZjRiM2U0NjQ2MDI5ZTU3ODgyOTdkYTljMGRmKTsKICAgICAgICAKICAgIAogICAgICAgICAgICB2YXIgcG9seV9saW5lX2JjZWZmYzMxZGMzNDQ4YWE4MTcxZGYxOGY4ZTU1NWIzID0gTC5wb2x5bGluZSgKICAgICAgICAgICAgICAgIFtbNDEuOTUzMTczOTAwNjQxNTgsIC04Ny43NzkzODY4MjA3MzU0MV0sIFs0MS45NDMzMDgsIC04Ny44MTc0OTddXSwKICAgICAgICAgICAgICAgIHsiYnViYmxpbmdNb3VzZUV2ZW50cyI6IHRydWUsICJjb2xvciI6ICIjRkYwMDAwIiwgImRhc2hBcnJheSI6IG51bGwsICJkYXNoT2Zmc2V0IjogbnVsbCwgImZpbGwiOiBmYWxzZSwgImZpbGxDb2xvciI6ICIjRkYwMDAwIiwgImZpbGxPcGFjaXR5IjogMC4yLCAiZmlsbFJ1bGUiOiAiZXZlbm9kZCIsICJsaW5lQ2FwIjogInJvdW5kIiwgImxpbmVKb2luIjogInJvdW5kIiwgIm5vQ2xpcCI6IGZhbHNlLCAib3BhY2l0eSI6IDEuMCwgInNtb290aEZhY3RvciI6IDEuMCwgInN0cm9rZSI6IHRydWUsICJ3ZWlnaHQiOiA1fQogICAgICAgICAgICApLmFkZFRvKG1hcF9jYmFkYmY0YjNlNDY0NjAyOWU1Nzg4Mjk3ZGE5YzBkZik7CiAgICAgICAgCiAgICAKICAgICAgICAgICAgdmFyIHBvbHlfbGluZV9kMzYxM2FlOWUzODc0Y2QxYjhiNWJjMDcxNzIxZWU0OSA9IEwucG9seWxpbmUoCiAgICAgICAgICAgICAgICBbWzQxLjk1MzE3MzkwMDY0MTU4LCAtODcuNzc5Mzg2ODIwNzM1NDFdLCBbNDEuOTk2OTcwODgzNDY4NSwgLTg3Ljc2MjA0Nzg5MjAxMDVdXSwKICAgICAgICAgICAgICAgIHsiYnViYmxpbmdNb3VzZUV2ZW50cyI6IHRydWUsICJjb2xvciI6ICIjRkYwMDAwIiwgImRhc2hBcnJheSI6IG51bGwsICJkYXNoT2Zmc2V0IjogbnVsbCwgImZpbGwiOiBmYWxzZSwgImZpbGxDb2xvciI6ICIjRkYwMDAwIiwgImZpbGxPcGFjaXR5IjogMC4yLCAiZmlsbFJ1bGUiOiAiZXZlbm9kZCIsICJsaW5lQ2FwIjogInJvdW5kIiwgImxpbmVKb2luIjogInJvdW5kIiwgIm5vQ2xpcCI6IGZhbHNlLCAib3BhY2l0eSI6IDEuMCwgInNtb290aEZhY3RvciI6IDEuMCwgInN0cm9rZSI6IHRydWUsICJ3ZWlnaHQiOiA1fQogICAgICAgICAgICApLmFkZFRvKG1hcF9jYmFkYmY0YjNlNDY0NjAyOWU1Nzg4Mjk3ZGE5YzBkZik7CiAgICAgICAgCiAgICAKICAgICAgICAgICAgdmFyIHBvbHlfbGluZV8zZDc2YjJkMzBlNDE0NTkzYmZjMjMyNjAyYWZiOWUxMyA9IEwucG9seWxpbmUoCiAgICAgICAgICAgICAgICBbWzQxLjcyMDkzNDgxMjg2NzM2LCAtODcuNjQzMDkzOTUyMTY1NDJdLCBbNDEuNzYxNTU1MzU1ODU4NjQsIC04Ny41NjIwODM2Mzg3OTU2NF1dLAogICAgICAgICAgICAgICAgeyJidWJibGluZ01vdXNlRXZlbnRzIjogdHJ1ZSwgImNvbG9yIjogIiNGRjAwMDAiLCAiZGFzaEFycmF5IjogbnVsbCwgImRhc2hPZmZzZXQiOiBudWxsLCAiZmlsbCI6IGZhbHNlLCAiZmlsbENvbG9yIjogIiNGRjAwMDAiLCAiZmlsbE9wYWNpdHkiOiAwLjIsICJmaWxsUnVsZSI6ICJldmVub2RkIiwgImxpbmVDYXAiOiAicm91bmQiLCAibGluZUpvaW4iOiAicm91bmQiLCAibm9DbGlwIjogZmFsc2UsICJvcGFjaXR5IjogMS4wLCAic21vb3RoRmFjdG9yIjogMS4wLCAic3Ryb2tlIjogdHJ1ZSwgIndlaWdodCI6IDV9CiAgICAgICAgICAgICkuYWRkVG8obWFwX2NiYWRiZjRiM2U0NjQ2MDI5ZTU3ODgyOTdkYTljMGRmKTsKICAgICAgICAKICAgIAogICAgICAgICAgICB2YXIgcG9seV9saW5lXzY2N2ZmZDA5MzQ2MjQzNzNiNzkzZGUyMTc5ODY2NDc5ID0gTC5wb2x5bGluZSgKICAgICAgICAgICAgICAgIFtbNDEuOTYyNDAzNTgxMDgxNjksIC04Ny42ODQ0MTY4NDk0NjUzMV0sIFs0MS45NzE2ODE5NDgwMDQ1OCwgLTg3LjY2MDczMDI3MjE4OTU3XV0sCiAgICAgICAgICAgICAgICB7ImJ1YmJsaW5nTW91c2VFdmVudHMiOiB0cnVlLCAiY29sb3IiOiAiI0ZGMDAwMCIsICJkYXNoQXJyYXkiOiBudWxsLCAiZGFzaE9mZnNldCI6IG51bGwsICJmaWxsIjogZmFsc2UsICJmaWxsQ29sb3IiOiAiI0ZGMDAwMCIsICJmaWxsT3BhY2l0eSI6IDAuMiwgImZpbGxSdWxlIjogImV2ZW5vZGQiLCAibGluZUNhcCI6ICJyb3VuZCIsICJsaW5lSm9pbiI6ICJyb3VuZCIsICJub0NsaXAiOiBmYWxzZSwgIm9wYWNpdHkiOiAxLjAsICJzbW9vdGhGYWN0b3IiOiAxLjAsICJzdHJva2UiOiB0cnVlLCAid2VpZ2h0IjogNX0KICAgICAgICAgICAgKS5hZGRUbyhtYXBfY2JhZGJmNGIzZTQ2NDYwMjllNTc4ODI5N2RhOWMwZGYpOwogICAgICAgIAogICAgCiAgICAgICAgICAgIHZhciBwb2x5X2xpbmVfZjY3NGEwNTdhNTA4NDBhZDkzZjdjMGI1N2U2ZGVhMDMgPSBMLnBvbHlsaW5lKAogICAgICAgICAgICAgICAgW1s0MS44ODExODU3MDQxNTE4NywgLTg3LjY3OTE0MjExMTExNzc2XSwgWzQxLjg2NzE2NiwgLTg3LjY2MDYxM11dLAogICAgICAgICAgICAgICAgeyJidWJibGluZ01vdXNlRXZlbnRzIjogdHJ1ZSwgImNvbG9yIjogIiNGRjAwMDAiLCAiZGFzaEFycmF5IjogbnVsbCwgImRhc2hPZmZzZXQiOiBudWxsLCAiZmlsbCI6IGZhbHNlLCAiZmlsbENvbG9yIjogIiNGRjAwMDAiLCAiZmlsbE9wYWNpdHkiOiAwLjIsICJmaWxsUnVsZSI6ICJldmVub2RkIiwgImxpbmVDYXAiOiAicm91bmQiLCAibGluZUpvaW4iOiAicm91bmQiLCAibm9DbGlwIjogZmFsc2UsICJvcGFjaXR5IjogMS4wLCAic21vb3RoRmFjdG9yIjogMS4wLCAic3Ryb2tlIjogdHJ1ZSwgIndlaWdodCI6IDV9CiAgICAgICAgICAgICkuYWRkVG8obWFwX2NiYWRiZjRiM2U0NjQ2MDI5ZTU3ODgyOTdkYTljMGRmKTsKICAgICAgICAKICAgIAogICAgICAgICAgICB2YXIgcG9seV9saW5lXzU2YTAzNGQ3NjlmMjRiZDBhZTJkM2E0MTAwMDNhMmE5ID0gTC5wb2x5bGluZSgKICAgICAgICAgICAgICAgIFtbNDEuODgxMTg1NzA0MTUxODcsIC04Ny42NzkxNDIxMTExMTc3Nl0sIFs0MS44NTc1MjIwMDk2MDUyNCwgLTg3LjY2MDkzNzExNjI1NjNdXSwKICAgICAgICAgICAgICAgIHsiYnViYmxpbmdNb3VzZUV2ZW50cyI6IHRydWUsICJjb2xvciI6ICIjRkYwMDAwIiwgImRhc2hBcnJheSI6IG51bGwsICJkYXNoT2Zmc2V0IjogbnVsbCwgImZpbGwiOiBmYWxzZSwgImZpbGxDb2xvciI6ICIjRkYwMDAwIiwgImZpbGxPcGFjaXR5IjogMC4yLCAiZmlsbFJ1bGUiOiAiZXZlbm9kZCIsICJsaW5lQ2FwIjogInJvdW5kIiwgImxpbmVKb2luIjogInJvdW5kIiwgIm5vQ2xpcCI6IGZhbHNlLCAib3BhY2l0eSI6IDEuMCwgInNtb290aEZhY3RvciI6IDEuMCwgInN0cm9rZSI6IHRydWUsICJ3ZWlnaHQiOiA1fQogICAgICAgICAgICApLmFkZFRvKG1hcF9jYmFkYmY0YjNlNDY0NjAyOWU1Nzg4Mjk3ZGE5YzBkZik7CiAgICAgICAgCiAgICAKICAgICAgICAgICAgdmFyIHBvbHlfbGluZV9jN2JkMWZjMWJmY2Q0ZGZhYjBhNDcxNDhlMjIyOWM0YSA9IEwucG9seWxpbmUoCiAgICAgICAgICAgICAgICBbWzQxLjg4MTE4NTcwNDE1MTg3LCAtODcuNjc5MTQyMTExMTE3NzZdLCBbNDEuODg0MjMyLCAtODcuNjU0MzI0XV0sCiAgICAgICAgICAgICAgICB7ImJ1YmJsaW5nTW91c2VFdmVudHMiOiB0cnVlLCAiY29sb3IiOiAiI0ZGMDAwMCIsICJkYXNoQXJyYXkiOiBudWxsLCAiZGFzaE9mZnNldCI6IG51bGwsICJmaWxsIjogZmFsc2UsICJmaWxsQ29sb3IiOiAiI0ZGMDAwMCIsICJmaWxsT3BhY2l0eSI6IDAuMiwgImZpbGxSdWxlIjogImV2ZW5vZGQiLCAibGluZUNhcCI6ICJyb3VuZCIsICJsaW5lSm9pbiI6ICJyb3VuZCIsICJub0NsaXAiOiBmYWxzZSwgIm9wYWNpdHkiOiAxLjAsICJzbW9vdGhGYWN0b3IiOiAxLjAsICJzdHJva2UiOiB0cnVlLCAid2VpZ2h0IjogNX0KICAgICAgICAgICAgKS5hZGRUbyhtYXBfY2JhZGJmNGIzZTQ2NDYwMjllNTc4ODI5N2RhOWMwZGYpOwogICAgICAgIAogICAgCiAgICAgICAgICAgIHZhciBwb2x5X2xpbmVfNWYwM2IzYzk5M2M3NDU5NWE2M2Y3ZDhmNTk5ZDIyZjIgPSBMLnBvbHlsaW5lKAogICAgICAgICAgICAgICAgW1s0MS44ODExODU3MDQxNTE4NywgLTg3LjY3OTE0MjExMTExNzc2XSwgWzQxLjg5NzU4NDM1Mzk5NzI2LCAtODcuNjIzMTQ4NzcxMTAwNzNdXSwKICAgICAgICAgICAgICAgIHsiYnViYmxpbmdNb3VzZUV2ZW50cyI6IHRydWUsICJjb2xvciI6ICIjRkYwMDAwIiwgImRhc2hBcnJheSI6IG51bGwsICJkYXNoT2Zmc2V0IjogbnVsbCwgImZpbGwiOiBmYWxzZSwgImZpbGxDb2xvciI6ICIjRkYwMDAwIiwgImZpbGxPcGFjaXR5IjogMC4yLCAiZmlsbFJ1bGUiOiAiZXZlbm9kZCIsICJsaW5lQ2FwIjogInJvdW5kIiwgImxpbmVKb2luIjogInJvdW5kIiwgIm5vQ2xpcCI6IGZhbHNlLCAib3BhY2l0eSI6IDEuMCwgInNtb290aEZhY3RvciI6IDEuMCwgInN0cm9rZSI6IHRydWUsICJ3ZWlnaHQiOiA1fQogICAgICAgICAgICApLmFkZFRvKG1hcF9jYmFkYmY0YjNlNDY0NjAyOWU1Nzg4Mjk3ZGE5YzBkZik7CiAgICAgICAgCiAgICAKICAgICAgICAgICAgdmFyIHBvbHlfbGluZV8xNWNlZWY1ZDU0MzI0MzI3YTllZDA3ZDFjZjJmODNmMyA9IEwucG9seWxpbmUoCiAgICAgICAgICAgICAgICBbWzQxLjk2MjQwMzU4MTA4MTY5LCAtODcuNjg0NDE2ODQ5NDY1MzFdLCBbNDEuOTUzOTAzNzIwNzI5OTI2LCAtODcuNzE2OTQyNTUwNDI2NDRdXSwKICAgICAgICAgICAgICAgIHsiYnViYmxpbmdNb3VzZUV2ZW50cyI6IHRydWUsICJjb2xvciI6ICIjRkYwMDAwIiwgImRhc2hBcnJheSI6IG51bGwsICJkYXNoT2Zmc2V0IjogbnVsbCwgImZpbGwiOiBmYWxzZSwgImZpbGxDb2xvciI6ICIjRkYwMDAwIiwgImZpbGxPcGFjaXR5IjogMC4yLCAiZmlsbFJ1bGUiOiAiZXZlbm9kZCIsICJsaW5lQ2FwIjogInJvdW5kIiwgImxpbmVKb2luIjogInJvdW5kIiwgIm5vQ2xpcCI6IGZhbHNlLCAib3BhY2l0eSI6IDEuMCwgInNtb290aEZhY3RvciI6IDEuMCwgInN0cm9rZSI6IHRydWUsICJ3ZWlnaHQiOiA1fQogICAgICAgICAgICApLmFkZFRvKG1hcF9jYmFkYmY0YjNlNDY0NjAyOWU1Nzg4Mjk3ZGE5YzBkZik7CiAgICAgICAgCiAgICAKICAgICAgICAgICAgdmFyIHBvbHlfbGluZV84MjEzNDBkZjFkNzY0ZDAxOWMwZjFjZmNlYjhkMTkxMyA9IEwucG9seWxpbmUoCiAgICAgICAgICAgICAgICBbWzQxLjg4MTE4NTcwNDE1MTg3LCAtODcuNjc5MTQyMTExMTE3NzZdLCBbNDEuOTEyNzIyMzk1NzYzNjcsIC04Ny42ODA1ODczMDI1OTY1XV0sCiAgICAgICAgICAgICAgICB7ImJ1YmJsaW5nTW91c2VFdmVudHMiOiB0cnVlLCAiY29sb3IiOiAiI0ZGMDAwMCIsICJkYXNoQXJyYXkiOiBudWxsLCAiZGFzaE9mZnNldCI6IG51bGwsICJmaWxsIjogZmFsc2UsICJmaWxsQ29sb3IiOiAiI0ZGMDAwMCIsICJmaWxsT3BhY2l0eSI6IDAuMiwgImZpbGxSdWxlIjogImV2ZW5vZGQiLCAibGluZUNhcCI6ICJyb3VuZCIsICJsaW5lSm9pbiI6ICJyb3VuZCIsICJub0NsaXAiOiBmYWxzZSwgIm9wYWNpdHkiOiAxLjAsICJzbW9vdGhGYWN0b3IiOiAxLjAsICJzdHJva2UiOiB0cnVlLCAid2VpZ2h0IjogNX0KICAgICAgICAgICAgKS5hZGRUbyhtYXBfY2JhZGJmNGIzZTQ2NDYwMjllNTc4ODI5N2RhOWMwZGYpOwogICAgICAgIAogICAgCiAgICAgICAgICAgIHZhciBwb2x5X2xpbmVfZGViZTU3ZmY1NmNmNGFlYjk1NTlhMDAwOTBjYmQ2YmYgPSBMLnBvbHlsaW5lKAogICAgICAgICAgICAgICAgW1s0MS43MjA5MzQ4MTI4NjczNiwgLTg3LjY0MzA5Mzk1MjE2NTQyXSwgWzQxLjczMjMxNjc1NzA5NzA0NSwgLTg3LjY1NzIzNDUxNTgxODM1XV0sCiAgICAgICAgICAgICAgICB7ImJ1YmJsaW5nTW91c2VFdmVudHMiOiB0cnVlLCAiY29sb3IiOiAiI0ZGMDAwMCIsICJkYXNoQXJyYXkiOiBudWxsLCAiZGFzaE9mZnNldCI6IG51bGwsICJmaWxsIjogZmFsc2UsICJmaWxsQ29sb3IiOiAiI0ZGMDAwMCIsICJmaWxsT3BhY2l0eSI6IDAuMiwgImZpbGxSdWxlIjogImV2ZW5vZGQiLCAibGluZUNhcCI6ICJyb3VuZCIsICJsaW5lSm9pbiI6ICJyb3VuZCIsICJub0NsaXAiOiBmYWxzZSwgIm9wYWNpdHkiOiAxLjAsICJzbW9vdGhGYWN0b3IiOiAxLjAsICJzdHJva2UiOiB0cnVlLCAid2VpZ2h0IjogNX0KICAgICAgICAgICAgKS5hZGRUbyhtYXBfY2JhZGJmNGIzZTQ2NDYwMjllNTc4ODI5N2RhOWMwZGYpOwogICAgICAgIAogICAgCiAgICAgICAgICAgIHZhciBwb2x5X2xpbmVfZGQ4ZTI5ZjFhNzdjNGViNGI2NTRiZGZmOTFiY2ZjODAgPSBMLnBvbHlsaW5lKAogICAgICAgICAgICAgICAgW1s0MS43MjA5MzQ4MTI4NjczNiwgLTg3LjY0MzA5Mzk1MjE2NTQyXSwgWzQxLjY5NDQwNjQwOTAxNzk1LCAtODcuNjE4MjYwNjYyMjYzNThdXSwKICAgICAgICAgICAgICAgIHsiYnViYmxpbmdNb3VzZUV2ZW50cyI6IHRydWUsICJjb2xvciI6ICIjRkYwMDAwIiwgImRhc2hBcnJheSI6IG51bGwsICJkYXNoT2Zmc2V0IjogbnVsbCwgImZpbGwiOiBmYWxzZSwgImZpbGxDb2xvciI6ICIjRkYwMDAwIiwgImZpbGxPcGFjaXR5IjogMC4yLCAiZmlsbFJ1bGUiOiAiZXZlbm9kZCIsICJsaW5lQ2FwIjogInJvdW5kIiwgImxpbmVKb2luIjogInJvdW5kIiwgIm5vQ2xpcCI6IGZhbHNlLCAib3BhY2l0eSI6IDEuMCwgInNtb290aEZhY3RvciI6IDEuMCwgInN0cm9rZSI6IHRydWUsICJ3ZWlnaHQiOiA1fQogICAgICAgICAgICApLmFkZFRvKG1hcF9jYmFkYmY0YjNlNDY0NjAyOWU1Nzg4Mjk3ZGE5YzBkZik7CiAgICAgICAgCiAgICAKICAgICAgICAgICAgdmFyIHBvbHlfbGluZV9mNDk3ZWJkZGRkMDY0ODZjYWFkZDI0M2NmNzhjNGRiOCA9IEwucG9seWxpbmUoCiAgICAgICAgICAgICAgICBbWzQxLjcyMDkzNDgxMjg2NzM2LCAtODcuNjQzMDkzOTUyMTY1NDJdLCBbNDEuNjU5MTc4ODcwMzM1NDIsIC04Ny41NDgyNDEzMjcyNzQxMV1dLAogICAgICAgICAgICAgICAgeyJidWJibGluZ01vdXNlRXZlbnRzIjogdHJ1ZSwgImNvbG9yIjogIiNGRjAwMDAiLCAiZGFzaEFycmF5IjogbnVsbCwgImRhc2hPZmZzZXQiOiBudWxsLCAiZmlsbCI6IGZhbHNlLCAiZmlsbENvbG9yIjogIiNGRjAwMDAiLCAiZmlsbE9wYWNpdHkiOiAwLjIsICJmaWxsUnVsZSI6ICJldmVub2RkIiwgImxpbmVDYXAiOiAicm91bmQiLCAibGluZUpvaW4iOiAicm91bmQiLCAibm9DbGlwIjogZmFsc2UsICJvcGFjaXR5IjogMS4wLCAic21vb3RoRmFjdG9yIjogMS4wLCAic3Ryb2tlIjogdHJ1ZSwgIndlaWdodCI6IDV9CiAgICAgICAgICAgICkuYWRkVG8obWFwX2NiYWRiZjRiM2U0NjQ2MDI5ZTU3ODgyOTdkYTljMGRmKTsKICAgICAgICAKICAgIAogICAgICAgICAgICB2YXIgcG9seV9saW5lXzBkYjcyODUyZThmYTQ2MDliMjYwNGZjYjIxMTMxNjUyID0gTC5wb2x5bGluZSgKICAgICAgICAgICAgICAgIFtbNDEuOTYyNDAzNTgxMDgxNjksIC04Ny42ODQ0MTY4NDk0NjUzMV0sIFs0MS45NzU0NTYsIC04Ny43MTQwOV1dLAogICAgICAgICAgICAgICAgeyJidWJibGluZ01vdXNlRXZlbnRzIjogdHJ1ZSwgImNvbG9yIjogIiNGRjAwMDAiLCAiZGFzaEFycmF5IjogbnVsbCwgImRhc2hPZmZzZXQiOiBudWxsLCAiZmlsbCI6IGZhbHNlLCAiZmlsbENvbG9yIjogIiNGRjAwMDAiLCAiZmlsbE9wYWNpdHkiOiAwLjIsICJmaWxsUnVsZSI6ICJldmVub2RkIiwgImxpbmVDYXAiOiAicm91bmQiLCAibGluZUpvaW4iOiAicm91bmQiLCAibm9DbGlwIjogZmFsc2UsICJvcGFjaXR5IjogMS4wLCAic21vb3RoRmFjdG9yIjogMS4wLCAic3Ryb2tlIjogdHJ1ZSwgIndlaWdodCI6IDV9CiAgICAgICAgICAgICkuYWRkVG8obWFwX2NiYWRiZjRiM2U0NjQ2MDI5ZTU3ODgyOTdkYTljMGRmKTsKICAgICAgICAKICAgIAogICAgICAgICAgICB2YXIgcG9seV9saW5lX2JmOTkzNmExOTA0YzQwYjViYWY3MDFhNDg5ZWNlNjFiID0gTC5wb2x5bGluZSgKICAgICAgICAgICAgICAgIFtbNDEuNzIwOTM0ODEyODY3MzYsIC04Ny42NDMwOTM5NTIxNjU0Ml0sIFs0MS43MTMyNjE3NjI4ODUyMiwgLTg3LjU2NTQ5MjA2OTI4NjY5XV0sCiAgICAgICAgICAgICAgICB7ImJ1YmJsaW5nTW91c2VFdmVudHMiOiB0cnVlLCAiY29sb3IiOiAiI0ZGMDAwMCIsICJkYXNoQXJyYXkiOiBudWxsLCAiZGFzaE9mZnNldCI6IG51bGwsICJmaWxsIjogZmFsc2UsICJmaWxsQ29sb3IiOiAiI0ZGMDAwMCIsICJmaWxsT3BhY2l0eSI6IDAuMiwgImZpbGxSdWxlIjogImV2ZW5vZGQiLCAibGluZUNhcCI6ICJyb3VuZCIsICJsaW5lSm9pbiI6ICJyb3VuZCIsICJub0NsaXAiOiBmYWxzZSwgIm9wYWNpdHkiOiAxLjAsICJzbW9vdGhGYWN0b3IiOiAxLjAsICJzdHJva2UiOiB0cnVlLCAid2VpZ2h0IjogNX0KICAgICAgICAgICAgKS5hZGRUbyhtYXBfY2JhZGJmNGIzZTQ2NDYwMjllNTc4ODI5N2RhOWMwZGYpOwogICAgICAgIAogICAgCiAgICAgICAgICAgIHZhciBwb2x5X2xpbmVfOWM5MzFjNTEzOWEyNGUwMGFmY2FhZjEyYzM4NmE1ODAgPSBMLnBvbHlsaW5lKAogICAgICAgICAgICAgICAgW1s0MS44MDgzODQ0MjM2NjYzNTQsIC04Ny42Nzc1Njk2Mzg3NDE5Nl0sIFs0MS44MDEyMTM2NTk5MzM1LCAtODcuNzI2NDkwNzE0MzE0NDFdXSwKICAgICAgICAgICAgICAgIHsiYnViYmxpbmdNb3VzZUV2ZW50cyI6IHRydWUsICJjb2xvciI6ICIjRkYwMDAwIiwgImRhc2hBcnJheSI6IG51bGwsICJkYXNoT2Zmc2V0IjogbnVsbCwgImZpbGwiOiBmYWxzZSwgImZpbGxDb2xvciI6ICIjRkYwMDAwIiwgImZpbGxPcGFjaXR5IjogMC4yLCAiZmlsbFJ1bGUiOiAiZXZlbm9kZCIsICJsaW5lQ2FwIjogInJvdW5kIiwgImxpbmVKb2luIjogInJvdW5kIiwgIm5vQ2xpcCI6IGZhbHNlLCAib3BhY2l0eSI6IDEuMCwgInNtb290aEZhY3RvciI6IDEuMCwgInN0cm9rZSI6IHRydWUsICJ3ZWlnaHQiOiA1fQogICAgICAgICAgICApLmFkZFRvKG1hcF9jYmFkYmY0YjNlNDY0NjAyOWU1Nzg4Mjk3ZGE5YzBkZik7CiAgICAgICAgCiAgICAKICAgICAgICAgICAgdmFyIHBvbHlfbGluZV9hMDIxNWVkNTllMGI0NzNiOGFmZGE0NzFiNGQyOTIyNyA9IEwucG9seWxpbmUoCiAgICAgICAgICAgICAgICBbWzQxLjcyMDkzNDgxMjg2NzM2LCAtODcuNjQzMDkzOTUyMTY1NDJdLCBbNDEuNzQ2NzE3MjIxNjAxOTksIC04Ny41ODUzOTY1ODcxOTAwMl1dLAogICAgICAgICAgICAgICAgeyJidWJibGluZ01vdXNlRXZlbnRzIjogdHJ1ZSwgImNvbG9yIjogIiNGRjAwMDAiLCAiZGFzaEFycmF5IjogbnVsbCwgImRhc2hPZmZzZXQiOiBudWxsLCAiZmlsbCI6IGZhbHNlLCAiZmlsbENvbG9yIjogIiNGRjAwMDAiLCAiZmlsbE9wYWNpdHkiOiAwLjIsICJmaWxsUnVsZSI6ICJldmVub2RkIiwgImxpbmVDYXAiOiAicm91bmQiLCAibGluZUpvaW4iOiAicm91bmQiLCAibm9DbGlwIjogZmFsc2UsICJvcGFjaXR5IjogMS4wLCAic21vb3RoRmFjdG9yIjogMS4wLCAic3Ryb2tlIjogdHJ1ZSwgIndlaWdodCI6IDV9CiAgICAgICAgICAgICkuYWRkVG8obWFwX2NiYWRiZjRiM2U0NjQ2MDI5ZTU3ODgyOTdkYTljMGRmKTsKICAgICAgICAKICAgIAogICAgICAgICAgICB2YXIgcG9seV9saW5lX2MzNmIzYTM2ZTE0MjQ4MTY4OGI5YTgzOTBiMGNiNjI3ID0gTC5wb2x5bGluZSgKICAgICAgICAgICAgICAgIFtbNDEuODA4Mzg0NDIzNjY2MzU0LCAtODcuNjc3NTY5NjM4NzQxOTZdLCBbNDEuODA3NDMyOTgyODA5NzQsIC04Ny42MjI3Mzk4MTkzNjgxNV1dLAogICAgICAgICAgICAgICAgeyJidWJibGluZ01vdXNlRXZlbnRzIjogdHJ1ZSwgImNvbG9yIjogIiNGRjAwMDAiLCAiZGFzaEFycmF5IjogbnVsbCwgImRhc2hPZmZzZXQiOiBudWxsLCAiZmlsbCI6IGZhbHNlLCAiZmlsbENvbG9yIjogIiNGRjAwMDAiLCAiZmlsbE9wYWNpdHkiOiAwLjIsICJmaWxsUnVsZSI6ICJldmVub2RkIiwgImxpbmVDYXAiOiAicm91bmQiLCAibGluZUpvaW4iOiAicm91bmQiLCAibm9DbGlwIjogZmFsc2UsICJvcGFjaXR5IjogMS4wLCAic21vb3RoRmFjdG9yIjogMS4wLCAic3Ryb2tlIjogdHJ1ZSwgIndlaWdodCI6IDV9CiAgICAgICAgICAgICkuYWRkVG8obWFwX2NiYWRiZjRiM2U0NjQ2MDI5ZTU3ODgyOTdkYTljMGRmKTsKICAgICAgICAKICAgIAogICAgICAgICAgICB2YXIgcG9seV9saW5lXzk4OGZkZmNkOGQ2YjQxNjVhMTAxN2Q4NzcwMzU5YzJkID0gTC5wb2x5bGluZSgKICAgICAgICAgICAgICAgIFtbNDEuODA4Mzg0NDIzNjY2MzU0LCAtODcuNjc3NTY5NjM4NzQxOTZdLCBbNDEuNzc5MzM0MzU4ODEzMTk1LCAtODcuNjY4MTIxNTkwOTA3NTVdXSwKICAgICAgICAgICAgICAgIHsiYnViYmxpbmdNb3VzZUV2ZW50cyI6IHRydWUsICJjb2xvciI6ICIjRkYwMDAwIiwgImRhc2hBcnJheSI6IG51bGwsICJkYXNoT2Zmc2V0IjogbnVsbCwgImZpbGwiOiBmYWxzZSwgImZpbGxDb2xvciI6ICIjRkYwMDAwIiwgImZpbGxPcGFjaXR5IjogMC4yLCAiZmlsbFJ1bGUiOiAiZXZlbm9kZCIsICJsaW5lQ2FwIjogInJvdW5kIiwgImxpbmVKb2luIjogInJvdW5kIiwgIm5vQ2xpcCI6IGZhbHNlLCAib3BhY2l0eSI6IDEuMCwgInNtb290aEZhY3RvciI6IDEuMCwgInN0cm9rZSI6IHRydWUsICJ3ZWlnaHQiOiA1fQogICAgICAgICAgICApLmFkZFRvKG1hcF9jYmFkYmY0YjNlNDY0NjAyOWU1Nzg4Mjk3ZGE5YzBkZik7CiAgICAgICAgCiAgICAKICAgICAgICAgICAgdmFyIHBvbHlfbGluZV8xMzlhZTEwNDcwY2Y0NjBiYWY2YzZiMDhkZWE4N2U5MSA9IEwucG9seWxpbmUoCiAgICAgICAgICAgICAgICBbWzQxLjcyMDkzNDgxMjg2NzM2LCAtODcuNjQzMDkzOTUyMTY1NDJdLCBbNDEuNzAzMDI3NDc4MTkxNzksIC04Ny41MzM1MDMxODQ3MDQ0OV1dLAogICAgICAgICAgICAgICAgeyJidWJibGluZ01vdXNlRXZlbnRzIjogdHJ1ZSwgImNvbG9yIjogIiNGRjAwMDAiLCAiZGFzaEFycmF5IjogbnVsbCwgImRhc2hPZmZzZXQiOiBudWxsLCAiZmlsbCI6IGZhbHNlLCAiZmlsbENvbG9yIjogIiNGRjAwMDAiLCAiZmlsbE9wYWNpdHkiOiAwLjIsICJmaWxsUnVsZSI6ICJldmVub2RkIiwgImxpbmVDYXAiOiAicm91bmQiLCAibGluZUpvaW4iOiAicm91bmQiLCAibm9DbGlwIjogZmFsc2UsICJvcGFjaXR5IjogMS4wLCAic21vb3RoRmFjdG9yIjogMS4wLCAic3Ryb2tlIjogdHJ1ZSwgIndlaWdodCI6IDV9CiAgICAgICAgICAgICkuYWRkVG8obWFwX2NiYWRiZjRiM2U0NjQ2MDI5ZTU3ODgyOTdkYTljMGRmKTsKICAgICAgICAKICAgIAogICAgICAgICAgICB2YXIgcG9seV9saW5lXzg0Yjk2Y2M1MThhMTRiZjRhYTA3NGQxZjQxY2Y3ZjJmID0gTC5wb2x5bGluZSgKICAgICAgICAgICAgICAgIFtbNDEuODgxMTg1NzA0MTUxODcsIC04Ny42NzkxNDIxMTExMTc3Nl0sIFs0MS45MDM4NjkzODc1NjMwOSwgLTg3LjYzNjQ4OTc5NzkwODk4XV0sCiAgICAgICAgICAgICAgICB7ImJ1YmJsaW5nTW91c2VFdmVudHMiOiB0cnVlLCAiY29sb3IiOiAiI0ZGMDAwMCIsICJkYXNoQXJyYXkiOiBudWxsLCAiZGFzaE9mZnNldCI6IG51bGwsICJmaWxsIjogZmFsc2UsICJmaWxsQ29sb3IiOiAiI0ZGMDAwMCIsICJmaWxsT3BhY2l0eSI6IDAuMiwgImZpbGxSdWxlIjogImV2ZW5vZGQiLCAibGluZUNhcCI6ICJyb3VuZCIsICJsaW5lSm9pbiI6ICJyb3VuZCIsICJub0NsaXAiOiBmYWxzZSwgIm9wYWNpdHkiOiAxLjAsICJzbW9vdGhGYWN0b3IiOiAxLjAsICJzdHJva2UiOiB0cnVlLCAid2VpZ2h0IjogNX0KICAgICAgICAgICAgKS5hZGRUbyhtYXBfY2JhZGJmNGIzZTQ2NDYwMjllNTc4ODI5N2RhOWMwZGYpOwogICAgICAgIAogICAgCiAgICAgICAgICAgIHZhciBwb2x5X2xpbmVfOWI1YWZiMWFkOWUzNDJlODliZWU3YjhhMzc0YTRhNTggPSBMLnBvbHlsaW5lKAogICAgICAgICAgICAgICAgW1s0MS45NjI0MDM1ODEwODE2OSwgLTg3LjY4NDQxNjg0OTQ2NTMxXSwgWzQxLjkyNTU5MTY5NDAwMjk1NCwgLTg3LjY1ODExMzI0NTA4NDNdXSwKICAgICAgICAgICAgICAgIHsiYnViYmxpbmdNb3VzZUV2ZW50cyI6IHRydWUsICJjb2xvciI6ICIjRkYwMDAwIiwgImRhc2hBcnJheSI6IG51bGwsICJkYXNoT2Zmc2V0IjogbnVsbCwgImZpbGwiOiBmYWxzZSwgImZpbGxDb2xvciI6ICIjRkYwMDAwIiwgImZpbGxPcGFjaXR5IjogMC4yLCAiZmlsbFJ1bGUiOiAiZXZlbm9kZCIsICJsaW5lQ2FwIjogInJvdW5kIiwgImxpbmVKb2luIjogInJvdW5kIiwgIm5vQ2xpcCI6IGZhbHNlLCAib3BhY2l0eSI6IDEuMCwgInNtb290aEZhY3RvciI6IDEuMCwgInN0cm9rZSI6IHRydWUsICJ3ZWlnaHQiOiA1fQogICAgICAgICAgICApLmFkZFRvKG1hcF9jYmFkYmY0YjNlNDY0NjAyOWU1Nzg4Mjk3ZGE5YzBkZik7CiAgICAgICAgCiAgICAKICAgICAgICAgICAgdmFyIHBvbHlfbGluZV85NzQyNzRjMDcyZGQ0ZWVhYTA3YTJjNTYyYjhlMzA5MCA9IEwucG9seWxpbmUoCiAgICAgICAgICAgICAgICBbWzQxLjgwODM4NDQyMzY2NjM1NCwgLTg3LjY3NzU2OTYzODc0MTk2XSwgWzQxLjc4MDM3MzAxMDk1NDEyLCAtODcuNjA3MTU3MjQyODAwMTRdXSwKICAgICAgICAgICAgICAgIHsiYnViYmxpbmdNb3VzZUV2ZW50cyI6IHRydWUsICJjb2xvciI6ICIjRkYwMDAwIiwgImRhc2hBcnJheSI6IG51bGwsICJkYXNoT2Zmc2V0IjogbnVsbCwgImZpbGwiOiBmYWxzZSwgImZpbGxDb2xvciI6ICIjRkYwMDAwIiwgImZpbGxPcGFjaXR5IjogMC4yLCAiZmlsbFJ1bGUiOiAiZXZlbm9kZCIsICJsaW5lQ2FwIjogInJvdW5kIiwgImxpbmVKb2luIjogInJvdW5kIiwgIm5vQ2xpcCI6IGZhbHNlLCAib3BhY2l0eSI6IDEuMCwgInNtb290aEZhY3RvciI6IDEuMCwgInN0cm9rZSI6IHRydWUsICJ3ZWlnaHQiOiA1fQogICAgICAgICAgICApLmFkZFRvKG1hcF9jYmFkYmY0YjNlNDY0NjAyOWU1Nzg4Mjk3ZGE5YzBkZik7CiAgICAgICAgCiAgICAKICAgICAgICAgICAgdmFyIHBvbHlfbGluZV82MWE2ZGJjODg2ZTM0NmQ0Yjc1ZDNlM2E5YTdiMTVkMyA9IEwucG9seWxpbmUoCiAgICAgICAgICAgICAgICBbWzQxLjk2MjQwMzU4MTA4MTY5LCAtODcuNjg0NDE2ODQ5NDY1MzFdLCBbNDEuOTg0NTcyMjY0MzcyNzUsIC04Ny42OTc3MzQ0OTIzNjcxMl1dLAogICAgICAgICAgICAgICAgeyJidWJibGluZ01vdXNlRXZlbnRzIjogdHJ1ZSwgImNvbG9yIjogIiNGRjAwMDAiLCAiZGFzaEFycmF5IjogbnVsbCwgImRhc2hPZmZzZXQiOiBudWxsLCAiZmlsbCI6IGZhbHNlLCAiZmlsbENvbG9yIjogIiNGRjAwMDAiLCAiZmlsbE9wYWNpdHkiOiAwLjIsICJmaWxsUnVsZSI6ICJldmVub2RkIiwgImxpbmVDYXAiOiAicm91bmQiLCAibGluZUpvaW4iOiAicm91bmQiLCAibm9DbGlwIjogZmFsc2UsICJvcGFjaXR5IjogMS4wLCAic21vb3RoRmFjdG9yIjogMS4wLCAic3Ryb2tlIjogdHJ1ZSwgIndlaWdodCI6IDV9CiAgICAgICAgICAgICkuYWRkVG8obWFwX2NiYWRiZjRiM2U0NjQ2MDI5ZTU3ODgyOTdkYTljMGRmKTsKICAgICAgICAKICAgIAogICAgICAgICAgICB2YXIgcG9seV9saW5lXzA4NDM1N2ZhYWJjMDRmYzU4Njc5OTJjZTAyOTk4MmI4ID0gTC5wb2x5bGluZSgKICAgICAgICAgICAgICAgIFtbNDEuOTUzMTczOTAwNjQxNTgsIC04Ny43NzkzODY4MjA3MzU0MV0sIFs0MS45NTMxNzM5MDA2NDE1OCwgLTg3Ljc3OTM4NjgyMDczNTQxXV0sCiAgICAgICAgICAgICAgICB7ImJ1YmJsaW5nTW91c2VFdmVudHMiOiB0cnVlLCAiY29sb3IiOiAiI0ZGMDAwMCIsICJkYXNoQXJyYXkiOiBudWxsLCAiZGFzaE9mZnNldCI6IG51bGwsICJmaWxsIjogZmFsc2UsICJmaWxsQ29sb3IiOiAiI0ZGMDAwMCIsICJmaWxsT3BhY2l0eSI6IDAuMiwgImZpbGxSdWxlIjogImV2ZW5vZGQiLCAibGluZUNhcCI6ICJyb3VuZCIsICJsaW5lSm9pbiI6ICJyb3VuZCIsICJub0NsaXAiOiBmYWxzZSwgIm9wYWNpdHkiOiAxLjAsICJzbW9vdGhGYWN0b3IiOiAxLjAsICJzdHJva2UiOiB0cnVlLCAid2VpZ2h0IjogNX0KICAgICAgICAgICAgKS5hZGRUbyhtYXBfY2JhZGJmNGIzZTQ2NDYwMjllNTc4ODI5N2RhOWMwZGYpOwogICAgICAgIAogICAgCiAgICAgICAgICAgIHZhciBwb2x5X2xpbmVfNjY2MDhlNjc2ZGEyNDYyOWJmZWUzMDVjNWY1YmRjMDcgPSBMLnBvbHlsaW5lKAogICAgICAgICAgICAgICAgW1s0MS44MDgzODQ0MjM2NjYzNTQsIC04Ny42Nzc1Njk2Mzg3NDE5Nl0sIFs0MS44MDgzODQ0MjM2NjYzNTQsIC04Ny42Nzc1Njk2Mzg3NDE5Nl1dLAogICAgICAgICAgICAgICAgeyJidWJibGluZ01vdXNlRXZlbnRzIjogdHJ1ZSwgImNvbG9yIjogIiNGRjAwMDAiLCAiZGFzaEFycmF5IjogbnVsbCwgImRhc2hPZmZzZXQiOiBudWxsLCAiZmlsbCI6IGZhbHNlLCAiZmlsbENvbG9yIjogIiNGRjAwMDAiLCAiZmlsbE9wYWNpdHkiOiAwLjIsICJmaWxsUnVsZSI6ICJldmVub2RkIiwgImxpbmVDYXAiOiAicm91bmQiLCAibGluZUpvaW4iOiAicm91bmQiLCAibm9DbGlwIjogZmFsc2UsICJvcGFjaXR5IjogMS4wLCAic21vb3RoRmFjdG9yIjogMS4wLCAic3Ryb2tlIjogdHJ1ZSwgIndlaWdodCI6IDV9CiAgICAgICAgICAgICkuYWRkVG8obWFwX2NiYWRiZjRiM2U0NjQ2MDI5ZTU3ODgyOTdkYTljMGRmKTsKICAgICAgICAKICAgIAogICAgICAgICAgICB2YXIgcG9seV9saW5lX2JlZTYxNzk5YzdiYTQwMDBiOWRmMDhlMGU5MTYzNDRjID0gTC5wb2x5bGluZSgKICAgICAgICAgICAgICAgIFtbNDEuNzIwOTM0ODEyODY3MzYsIC04Ny42NDMwOTM5NTIxNjU0Ml0sIFs0MS43MjA5MzQ4MTI4NjczNiwgLTg3LjY0MzA5Mzk1MjE2NTQyXV0sCiAgICAgICAgICAgICAgICB7ImJ1YmJsaW5nTW91c2VFdmVudHMiOiB0cnVlLCAiY29sb3IiOiAiI0ZGMDAwMCIsICJkYXNoQXJyYXkiOiBudWxsLCAiZGFzaE9mZnNldCI6IG51bGwsICJmaWxsIjogZmFsc2UsICJmaWxsQ29sb3IiOiAiI0ZGMDAwMCIsICJmaWxsT3BhY2l0eSI6IDAuMiwgImZpbGxSdWxlIjogImV2ZW5vZGQiLCAibGluZUNhcCI6ICJyb3VuZCIsICJsaW5lSm9pbiI6ICJyb3VuZCIsICJub0NsaXAiOiBmYWxzZSwgIm9wYWNpdHkiOiAxLjAsICJzbW9vdGhGYWN0b3IiOiAxLjAsICJzdHJva2UiOiB0cnVlLCAid2VpZ2h0IjogNX0KICAgICAgICAgICAgKS5hZGRUbyhtYXBfY2JhZGJmNGIzZTQ2NDYwMjllNTc4ODI5N2RhOWMwZGYpOwogICAgICAgIAogICAgCiAgICAgICAgICAgIHZhciBwb2x5X2xpbmVfOWI0MDk4ODQ5ZGNiNGEzMmEyYmM3MTA3ZWYzMjg5NDYgPSBMLnBvbHlsaW5lKAogICAgICAgICAgICAgICAgW1s0MS44MDgzODQ0MjM2NjYzNTQsIC04Ny42Nzc1Njk2Mzg3NDE5Nl0sIFs0MS43Nzg2NjIyMTk1NTk3ODQsIC04Ny43MjM1Mzg1NzA1MDU2XV0sCiAgICAgICAgICAgICAgICB7ImJ1YmJsaW5nTW91c2VFdmVudHMiOiB0cnVlLCAiY29sb3IiOiAiI0ZGMDAwMCIsICJkYXNoQXJyYXkiOiBudWxsLCAiZGFzaE9mZnNldCI6IG51bGwsICJmaWxsIjogZmFsc2UsICJmaWxsQ29sb3IiOiAiI0ZGMDAwMCIsICJmaWxsT3BhY2l0eSI6IDAuMiwgImZpbGxSdWxlIjogImV2ZW5vZGQiLCAibGluZUNhcCI6ICJyb3VuZCIsICJsaW5lSm9pbiI6ICJyb3VuZCIsICJub0NsaXAiOiBmYWxzZSwgIm9wYWNpdHkiOiAxLjAsICJzbW9vdGhGYWN0b3IiOiAxLjAsICJzdHJva2UiOiB0cnVlLCAid2VpZ2h0IjogNX0KICAgICAgICAgICAgKS5hZGRUbyhtYXBfY2JhZGJmNGIzZTQ2NDYwMjllNTc4ODI5N2RhOWMwZGYpOwogICAgICAgIAogICAgCiAgICAgICAgICAgIHZhciBwb2x5X2xpbmVfNzNlNzM5NGFlYzYxNGYxZGJkOGQ1ZGVhMDViOTRhNjkgPSBMLnBvbHlsaW5lKAogICAgICAgICAgICAgICAgW1s0MS45NTMxNzM5MDA2NDE1OCwgLTg3Ljc3OTM4NjgyMDczNTQxXSwgWzQxLjk2ODM1NDQ1NjQ5NjE2NSwgLTg3LjczODE2MTg5ODkxMjNdXSwKICAgICAgICAgICAgICAgIHsiYnViYmxpbmdNb3VzZUV2ZW50cyI6IHRydWUsICJjb2xvciI6ICIjRkYwMDAwIiwgImRhc2hBcnJheSI6IG51bGwsICJkYXNoT2Zmc2V0IjogbnVsbCwgImZpbGwiOiBmYWxzZSwgImZpbGxDb2xvciI6ICIjRkYwMDAwIiwgImZpbGxPcGFjaXR5IjogMC4yLCAiZmlsbFJ1bGUiOiAiZXZlbm9kZCIsICJsaW5lQ2FwIjogInJvdW5kIiwgImxpbmVKb2luIjogInJvdW5kIiwgIm5vQ2xpcCI6IGZhbHNlLCAib3BhY2l0eSI6IDEuMCwgInNtb290aEZhY3RvciI6IDEuMCwgInN0cm9rZSI6IHRydWUsICJ3ZWlnaHQiOiA1fQogICAgICAgICAgICApLmFkZFRvKG1hcF9jYmFkYmY0YjNlNDY0NjAyOWU1Nzg4Mjk3ZGE5YzBkZik7CiAgICAgICAgCiAgICAKICAgICAgICAgICAgdmFyIHBvbHlfbGluZV9kNGZmZTU2ZWE2MzU0OWFkOWI4ZmJjOTc0YTNmNzEyMiA9IEwucG9seWxpbmUoCiAgICAgICAgICAgICAgICBbWzQxLjcyMDkzNDgxMjg2NzM2LCAtODcuNjQzMDkzOTUyMTY1NDJdLCBbNDEuNjU0NzMwMjE4Mzc3NzYsIC04Ny42MDIyMzAyNjA5ODM1XV0sCiAgICAgICAgICAgICAgICB7ImJ1YmJsaW5nTW91c2VFdmVudHMiOiB0cnVlLCAiY29sb3IiOiAiI0ZGMDAwMCIsICJkYXNoQXJyYXkiOiBudWxsLCAiZGFzaE9mZnNldCI6IG51bGwsICJmaWxsIjogZmFsc2UsICJmaWxsQ29sb3IiOiAiI0ZGMDAwMCIsICJmaWxsT3BhY2l0eSI6IDAuMiwgImZpbGxSdWxlIjogImV2ZW5vZGQiLCAibGluZUNhcCI6ICJyb3VuZCIsICJsaW5lSm9pbiI6ICJyb3VuZCIsICJub0NsaXAiOiBmYWxzZSwgIm9wYWNpdHkiOiAxLjAsICJzbW9vdGhGYWN0b3IiOiAxLjAsICJzdHJva2UiOiB0cnVlLCAid2VpZ2h0IjogNX0KICAgICAgICAgICAgKS5hZGRUbyhtYXBfY2JhZGJmNGIzZTQ2NDYwMjllNTc4ODI5N2RhOWMwZGYpOwogICAgICAgIAogICAgCiAgICAgICAgICAgIHZhciBwb2x5X2xpbmVfM2FkYmVhNWI0NjQ5NGEwZGI4ZmViMzQxYWU4OGQ1ZDQgPSBMLnBvbHlsaW5lKAogICAgICAgICAgICAgICAgW1s0MS44MDgzODQ0MjM2NjYzNTQsIC04Ny42Nzc1Njk2Mzg3NDE5Nl0sIFs0MS44Mjg0MjY4Njk4OTg4LCAtODcuNjI2NDAyMjE2NDQ3MTldXSwKICAgICAgICAgICAgICAgIHsiYnViYmxpbmdNb3VzZUV2ZW50cyI6IHRydWUsICJjb2xvciI6ICIjRkYwMDAwIiwgImRhc2hBcnJheSI6IG51bGwsICJkYXNoT2Zmc2V0IjogbnVsbCwgImZpbGwiOiBmYWxzZSwgImZpbGxDb2xvciI6ICIjRkYwMDAwIiwgImZpbGxPcGFjaXR5IjogMC4yLCAiZmlsbFJ1bGUiOiAiZXZlbm9kZCIsICJsaW5lQ2FwIjogInJvdW5kIiwgImxpbmVKb2luIjogInJvdW5kIiwgIm5vQ2xpcCI6IGZhbHNlLCAib3BhY2l0eSI6IDEuMCwgInNtb290aEZhY3RvciI6IDEuMCwgInN0cm9rZSI6IHRydWUsICJ3ZWlnaHQiOiA1fQogICAgICAgICAgICApLmFkZFRvKG1hcF9jYmFkYmY0YjNlNDY0NjAyOWU1Nzg4Mjk3ZGE5YzBkZik7CiAgICAgICAgCiAgICAKICAgICAgICAgICAgdmFyIHBvbHlfbGluZV8wNWY3Yjk3ZjcyYWM0MTcwODc1MjQzNmFlNWYwZTRjNCA9IEwucG9seWxpbmUoCiAgICAgICAgICAgICAgICBbWzQxLjcyMDkzNDgxMjg2NzM2LCAtODcuNjQzMDkzOTUyMTY1NDJdLCBbNDEuNzQ5MzYxNjgzNDEwNzU0LCAtODcuNzI0Mzk1NTc1NzA0NDJdXSwKICAgICAgICAgICAgICAgIHsiYnViYmxpbmdNb3VzZUV2ZW50cyI6IHRydWUsICJjb2xvciI6ICIjRkYwMDAwIiwgImRhc2hBcnJheSI6IG51bGwsICJkYXNoT2Zmc2V0IjogbnVsbCwgImZpbGwiOiBmYWxzZSwgImZpbGxDb2xvciI6ICIjRkYwMDAwIiwgImZpbGxPcGFjaXR5IjogMC4yLCAiZmlsbFJ1bGUiOiAiZXZlbm9kZCIsICJsaW5lQ2FwIjogInJvdW5kIiwgImxpbmVKb2luIjogInJvdW5kIiwgIm5vQ2xpcCI6IGZhbHNlLCAib3BhY2l0eSI6IDEuMCwgInNtb290aEZhY3RvciI6IDEuMCwgInN0cm9rZSI6IHRydWUsICJ3ZWlnaHQiOiA1fQogICAgICAgICAgICApLmFkZFRvKG1hcF9jYmFkYmY0YjNlNDY0NjAyOWU1Nzg4Mjk3ZGE5YzBkZik7CiAgICAgICAgCiAgICAKICAgICAgICAgICAgdmFyIHBvbHlfbGluZV84MDBmMDk4MGZkNzk0NDI5YjYwYmRiM2VmYmFlYWEyOSA9IEwucG9seWxpbmUoCiAgICAgICAgICAgICAgICBbWzQxLjk2MjQwMzU4MTA4MTY5LCAtODcuNjg0NDE2ODQ5NDY1MzFdLCBbNDEuOTU4NDQ1MjA3NTE0Mjk1LCAtODcuNjUzNTEwMTIyNjg5MzhdXSwKICAgICAgICAgICAgICAgIHsiYnViYmxpbmdNb3VzZUV2ZW50cyI6IHRydWUsICJjb2xvciI6ICIjRkYwMDAwIiwgImRhc2hBcnJheSI6IG51bGwsICJkYXNoT2Zmc2V0IjogbnVsbCwgImZpbGwiOiBmYWxzZSwgImZpbGxDb2xvciI6ICIjRkYwMDAwIiwgImZpbGxPcGFjaXR5IjogMC4yLCAiZmlsbFJ1bGUiOiAiZXZlbm9kZCIsICJsaW5lQ2FwIjogInJvdW5kIiwgImxpbmVKb2luIjogInJvdW5kIiwgIm5vQ2xpcCI6IGZhbHNlLCAib3BhY2l0eSI6IDEuMCwgInNtb290aEZhY3RvciI6IDEuMCwgInN0cm9rZSI6IHRydWUsICJ3ZWlnaHQiOiA1fQogICAgICAgICAgICApLmFkZFRvKG1hcF9jYmFkYmY0YjNlNDY0NjAyOWU1Nzg4Mjk3ZGE5YzBkZik7CiAgICAgICAgCiAgICAKICAgICAgICAgICAgdmFyIHBvbHlfbGluZV8zMTI1NGU0N2Y2ZjM0NTc2OTBhMGI1ODg0MzIyYzRkNSA9IEwucG9seWxpbmUoCiAgICAgICAgICAgICAgICBbWzQxLjcyMDkzNDgxMjg2NzM2LCAtODcuNjQzMDkzOTUyMTY1NDJdLCBbNDEuNzUxMDYzNjA5NzM2MzEsIC04Ny42MTQ5NTA2NTM2MTkzM11dLAogICAgICAgICAgICAgICAgeyJidWJibGluZ01vdXNlRXZlbnRzIjogdHJ1ZSwgImNvbG9yIjogIiNGRjAwMDAiLCAiZGFzaEFycmF5IjogbnVsbCwgImRhc2hPZmZzZXQiOiBudWxsLCAiZmlsbCI6IGZhbHNlLCAiZmlsbENvbG9yIjogIiNGRjAwMDAiLCAiZmlsbE9wYWNpdHkiOiAwLjIsICJmaWxsUnVsZSI6ICJldmVub2RkIiwgImxpbmVDYXAiOiAicm91bmQiLCAibGluZUpvaW4iOiAicm91bmQiLCAibm9DbGlwIjogZmFsc2UsICJvcGFjaXR5IjogMS4wLCAic21vb3RoRmFjdG9yIjogMS4wLCAic3Ryb2tlIjogdHJ1ZSwgIndlaWdodCI6IDV9CiAgICAgICAgICAgICkuYWRkVG8obWFwX2NiYWRiZjRiM2U0NjQ2MDI5ZTU3ODgyOTdkYTljMGRmKTsKICAgICAgICAKICAgIAogICAgICAgICAgICB2YXIgcG9seV9saW5lXzc3NzcwNTQyY2NlNzQzOWZhZTBmYTBkOGU0YWJlYWVkID0gTC5wb2x5bGluZSgKICAgICAgICAgICAgICAgIFtbNDEuODA4Mzg0NDIzNjY2MzU0LCAtODcuNjc3NTY5NjM4NzQxOTZdLCBbNDEuNzk1Mjc5NDIxMjE0ODg2LCAtODcuNjU0OTIwNzE5MzAxMTVdXSwKICAgICAgICAgICAgICAgIHsiYnViYmxpbmdNb3VzZUV2ZW50cyI6IHRydWUsICJjb2xvciI6ICIjRkYwMDAwIiwgImRhc2hBcnJheSI6IG51bGwsICJkYXNoT2Zmc2V0IjogbnVsbCwgImZpbGwiOiBmYWxzZSwgImZpbGxDb2xvciI6ICIjRkYwMDAwIiwgImZpbGxPcGFjaXR5IjogMC4yLCAiZmlsbFJ1bGUiOiAiZXZlbm9kZCIsICJsaW5lQ2FwIjogInJvdW5kIiwgImxpbmVKb2luIjogInJvdW5kIiwgIm5vQ2xpcCI6IGZhbHNlLCAib3BhY2l0eSI6IDEuMCwgInNtb290aEZhY3RvciI6IDEuMCwgInN0cm9rZSI6IHRydWUsICJ3ZWlnaHQiOiA1fQogICAgICAgICAgICApLmFkZFRvKG1hcF9jYmFkYmY0YjNlNDY0NjAyOWU1Nzg4Mjk3ZGE5YzBkZik7CiAgICAgICAgCiAgICAKICAgICAgICAgICAgdmFyIHBvbHlfbGluZV84Y2YwNWJjOTExOWM0Mzk1OTNmY2Y3ZTlhNmRmYzM0OCA9IEwucG9seWxpbmUoCiAgICAgICAgICAgICAgICBbWzQxLjcyMDkzNDgxMjg2NzM2LCAtODcuNjQzMDkzOTUyMTY1NDJdLCBbNDEuNzYyMywgLTg3LjYwMDVdXSwKICAgICAgICAgICAgICAgIHsiYnViYmxpbmdNb3VzZUV2ZW50cyI6IHRydWUsICJjb2xvciI6ICIjRkYwMDAwIiwgImRhc2hBcnJheSI6IG51bGwsICJkYXNoT2Zmc2V0IjogbnVsbCwgImZpbGwiOiBmYWxzZSwgImZpbGxDb2xvciI6ICIjRkYwMDAwIiwgImZpbGxPcGFjaXR5IjogMC4yLCAiZmlsbFJ1bGUiOiAiZXZlbm9kZCIsICJsaW5lQ2FwIjogInJvdW5kIiwgImxpbmVKb2luIjogInJvdW5kIiwgIm5vQ2xpcCI6IGZhbHNlLCAib3BhY2l0eSI6IDEuMCwgInNtb290aEZhY3RvciI6IDEuMCwgInN0cm9rZSI6IHRydWUsICJ3ZWlnaHQiOiA1fQogICAgICAgICAgICApLmFkZFRvKG1hcF9jYmFkYmY0YjNlNDY0NjAyOWU1Nzg4Mjk3ZGE5YzBkZik7CiAgICAgICAgCiAgICAKICAgICAgICAgICAgdmFyIHBvbHlfbGluZV9kMjFiODYwNGRlMjM0ZWYxYmM1ODU3ODg1NWYwYjI3NiA9IEwucG9seWxpbmUoCiAgICAgICAgICAgICAgICBbWzQxLjgwODM4NDQyMzY2NjM1NCwgLTg3LjY3NzU2OTYzODc0MTk2XSwgWzQxLjgzMTgwMTM5OTU2NzI2LCAtODcuNjE3NzYwNjY1NjI5Nl1dLAogICAgICAgICAgICAgICAgeyJidWJibGluZ01vdXNlRXZlbnRzIjogdHJ1ZSwgImNvbG9yIjogIiNGRjAwMDAiLCAiZGFzaEFycmF5IjogbnVsbCwgImRhc2hPZmZzZXQiOiBudWxsLCAiZmlsbCI6IGZhbHNlLCAiZmlsbENvbG9yIjogIiNGRjAwMDAiLCAiZmlsbE9wYWNpdHkiOiAwLjIsICJmaWxsUnVsZSI6ICJldmVub2RkIiwgImxpbmVDYXAiOiAicm91bmQiLCAibGluZUpvaW4iOiAicm91bmQiLCAibm9DbGlwIjogZmFsc2UsICJvcGFjaXR5IjogMS4wLCAic21vb3RoRmFjdG9yIjogMS4wLCAic3Ryb2tlIjogdHJ1ZSwgIndlaWdodCI6IDV9CiAgICAgICAgICAgICkuYWRkVG8obWFwX2NiYWRiZjRiM2U0NjQ2MDI5ZTU3ODgyOTdkYTljMGRmKTsKICAgICAgICAKICAgIAogICAgICAgICAgICB2YXIgcG9seV9saW5lX2Q0MmUyZmQ2MzMxNjQxZWQ4NDNmY2E3YTI3YTJiZmVhID0gTC5wb2x5bGluZSgKICAgICAgICAgICAgICAgIFtbNDEuODA4Mzg0NDIzNjY2MzU0LCAtODcuNjc3NTY5NjM4NzQxOTZdLCBbNDEuNzkyOTg2NjYwNzgyNjcsIC04Ny43ODAxMzMyNTgwMTk3Ml1dLAogICAgICAgICAgICAgICAgeyJidWJibGluZ01vdXNlRXZlbnRzIjogdHJ1ZSwgImNvbG9yIjogIiNGRjAwMDAiLCAiZGFzaEFycmF5IjogbnVsbCwgImRhc2hPZmZzZXQiOiBudWxsLCAiZmlsbCI6IGZhbHNlLCAiZmlsbENvbG9yIjogIiNGRjAwMDAiLCAiZmlsbE9wYWNpdHkiOiAwLjIsICJmaWxsUnVsZSI6ICJldmVub2RkIiwgImxpbmVDYXAiOiAicm91bmQiLCAibGluZUpvaW4iOiAicm91bmQiLCAibm9DbGlwIjogZmFsc2UsICJvcGFjaXR5IjogMS4wLCAic21vb3RoRmFjdG9yIjogMS4wLCAic3Ryb2tlIjogdHJ1ZSwgIndlaWdodCI6IDV9CiAgICAgICAgICAgICkuYWRkVG8obWFwX2NiYWRiZjRiM2U0NjQ2MDI5ZTU3ODgyOTdkYTljMGRmKTsKICAgICAgICAKICAgIAogICAgICAgICAgICB2YXIgcG9seV9saW5lXzJlM2FmNTlhY2QxZjRkYTY5YWVjZGE0ZjY0OTllNTZmID0gTC5wb2x5bGluZSgKICAgICAgICAgICAgICAgIFtbNDEuOTYyNDAzNTgxMDgxNjksIC04Ny42ODQ0MTY4NDk0NjUzMV0sIFs0Mi4wMDY3MDc2MzY1Njk3NiwgLTg3LjY3MzQwNzY3MjY4NTM5XV0sCiAgICAgICAgICAgICAgICB7ImJ1YmJsaW5nTW91c2VFdmVudHMiOiB0cnVlLCAiY29sb3IiOiAiI0ZGMDAwMCIsICJkYXNoQXJyYXkiOiBudWxsLCAiZGFzaE9mZnNldCI6IG51bGwsICJmaWxsIjogZmFsc2UsICJmaWxsQ29sb3IiOiAiI0ZGMDAwMCIsICJmaWxsT3BhY2l0eSI6IDAuMiwgImZpbGxSdWxlIjogImV2ZW5vZGQiLCAibGluZUNhcCI6ICJyb3VuZCIsICJsaW5lSm9pbiI6ICJyb3VuZCIsICJub0NsaXAiOiBmYWxzZSwgIm9wYWNpdHkiOiAxLjAsICJzbW9vdGhGYWN0b3IiOiAxLjAsICJzdHJva2UiOiB0cnVlLCAid2VpZ2h0IjogNX0KICAgICAgICAgICAgKS5hZGRUbyhtYXBfY2JhZGJmNGIzZTQ2NDYwMjllNTc4ODI5N2RhOWMwZGYpOwogICAgICAgIAogICAgCiAgICAgICAgICAgIHZhciBwb2x5X2xpbmVfMjdhOWMyODNhNDE4NDM3ZWE5NjI5MjRjOWY1MmJkM2EgPSBMLnBvbHlsaW5lKAogICAgICAgICAgICAgICAgW1s0MS44ODExODU3MDQxNTE4NywgLTg3LjY3OTE0MjExMTExNzc2XSwgWzQxLjg5NDM3MDcsIC04Ny43MDY0NjA3XV0sCiAgICAgICAgICAgICAgICB7ImJ1YmJsaW5nTW91c2VFdmVudHMiOiB0cnVlLCAiY29sb3IiOiAiI0ZGMDAwMCIsICJkYXNoQXJyYXkiOiBudWxsLCAiZGFzaE9mZnNldCI6IG51bGwsICJmaWxsIjogZmFsc2UsICJmaWxsQ29sb3IiOiAiI0ZGMDAwMCIsICJmaWxsT3BhY2l0eSI6IDAuMiwgImZpbGxSdWxlIjogImV2ZW5vZGQiLCAibGluZUNhcCI6ICJyb3VuZCIsICJsaW5lSm9pbiI6ICJyb3VuZCIsICJub0NsaXAiOiBmYWxzZSwgIm9wYWNpdHkiOiAxLjAsICJzbW9vdGhGYWN0b3IiOiAxLjAsICJzdHJva2UiOiB0cnVlLCAid2VpZ2h0IjogNX0KICAgICAgICAgICAgKS5hZGRUbyhtYXBfY2JhZGJmNGIzZTQ2NDYwMjllNTc4ODI5N2RhOWMwZGYpOwogICAgICAgIAogICAgCiAgICAgICAgICAgIHZhciBwb2x5X2xpbmVfMzRlM2VjMjVlMDA1NDlhZWExN2UxODk0ZTUzYzM5OGIgPSBMLnBvbHlsaW5lKAogICAgICAgICAgICAgICAgW1s0MS43MjA5MzQ4MTI4NjczNiwgLTg3LjY0MzA5Mzk1MjE2NTQyXSwgWzQxLjY5MjQ0MTY5MjQyNTg5LCAtODcuNjc0MTMyODY1NTU3MThdXSwKICAgICAgICAgICAgICAgIHsiYnViYmxpbmdNb3VzZUV2ZW50cyI6IHRydWUsICJjb2xvciI6ICIjRkYwMDAwIiwgImRhc2hBcnJheSI6IG51bGwsICJkYXNoT2Zmc2V0IjogbnVsbCwgImZpbGwiOiBmYWxzZSwgImZpbGxDb2xvciI6ICIjRkYwMDAwIiwgImZpbGxPcGFjaXR5IjogMC4yLCAiZmlsbFJ1bGUiOiAiZXZlbm9kZCIsICJsaW5lQ2FwIjogInJvdW5kIiwgImxpbmVKb2luIjogInJvdW5kIiwgIm5vQ2xpcCI6IGZhbHNlLCAib3BhY2l0eSI6IDEuMCwgInNtb290aEZhY3RvciI6IDEuMCwgInN0cm9rZSI6IHRydWUsICJ3ZWlnaHQiOiA1fQogICAgICAgICAgICApLmFkZFRvKG1hcF9jYmFkYmY0YjNlNDY0NjAyOWU1Nzg4Mjk3ZGE5YzBkZik7CiAgICAgICAgCiAgICAKICAgICAgICAgICAgdmFyIHBvbHlfbGluZV9jNjMzNzQ2MmZlMzM0ZjA4YWFiZWYzYWYwM2JiYjAxMSA9IEwucG9seWxpbmUoCiAgICAgICAgICAgICAgICBbWzQxLjcyMDkzNDgxMjg2NzM2LCAtODcuNjQzMDkzOTUyMTY1NDJdLCBbNDEuNzM4MzIzOTk3OTEwNjQsIC04Ny43MDIxMzAxMDU2MTkyM11dLAogICAgICAgICAgICAgICAgeyJidWJibGluZ01vdXNlRXZlbnRzIjogdHJ1ZSwgImNvbG9yIjogIiNGRjAwMDAiLCAiZGFzaEFycmF5IjogbnVsbCwgImRhc2hPZmZzZXQiOiBudWxsLCAiZmlsbCI6IGZhbHNlLCAiZmlsbENvbG9yIjogIiNGRjAwMDAiLCAiZmlsbE9wYWNpdHkiOiAwLjIsICJmaWxsUnVsZSI6ICJldmVub2RkIiwgImxpbmVDYXAiOiAicm91bmQiLCAibGluZUpvaW4iOiAicm91bmQiLCAibm9DbGlwIjogZmFsc2UsICJvcGFjaXR5IjogMS4wLCAic21vb3RoRmFjdG9yIjogMS4wLCAic3Ryb2tlIjogdHJ1ZSwgIndlaWdodCI6IDV9CiAgICAgICAgICAgICkuYWRkVG8obWFwX2NiYWRiZjRiM2U0NjQ2MDI5ZTU3ODgyOTdkYTljMGRmKTsKICAgICAgICAKICAgIAogICAgICAgICAgICB2YXIgcG9seV9saW5lXzgyNDk1ZjkwMTk1NTQ2MzE5ZWIwZTVlMWE1YjRjMGU2ID0gTC5wb2x5bGluZSgKICAgICAgICAgICAgICAgIFtbNDEuODA4Mzg0NDIzNjY2MzU0LCAtODcuNjc3NTY5NjM4NzQxOTZdLCBbNDEuODMwNDQ3NTAwMTcwODU1LCAtODcuNjczMzkxNjU0MzAyNTVdXSwKICAgICAgICAgICAgICAgIHsiYnViYmxpbmdNb3VzZUV2ZW50cyI6IHRydWUsICJjb2xvciI6ICIjRkYwMDAwIiwgImRhc2hBcnJheSI6IG51bGwsICJkYXNoT2Zmc2V0IjogbnVsbCwgImZpbGwiOiBmYWxzZSwgImZpbGxDb2xvciI6ICIjRkYwMDAwIiwgImZpbGxPcGFjaXR5IjogMC4yLCAiZmlsbFJ1bGUiOiAiZXZlbm9kZCIsICJsaW5lQ2FwIjogInJvdW5kIiwgImxpbmVKb2luIjogInJvdW5kIiwgIm5vQ2xpcCI6IGZhbHNlLCAib3BhY2l0eSI6IDEuMCwgInNtb290aEZhY3RvciI6IDEuMCwgInN0cm9rZSI6IHRydWUsICJ3ZWlnaHQiOiA1fQogICAgICAgICAgICApLmFkZFRvKG1hcF9jYmFkYmY0YjNlNDY0NjAyOWU1Nzg4Mjk3ZGE5YzBkZik7CiAgICAgICAgCiAgICAKICAgICAgICAgICAgdmFyIHBvbHlfbGluZV83NTJiNWE0YWNhOTM0NzlkYjVmZWQ1MmViYzY5MDY5MiA9IEwucG9seWxpbmUoCiAgICAgICAgICAgICAgICBbWzQxLjgwODM4NDQyMzY2NjM1NCwgLTg3LjY3NzU2OTYzODc0MTk2XSwgWzQxLjgwNTg0MDMwOTg1MDMsIC04Ny41ODkzNDE4MjIxMjU5Ml1dLAogICAgICAgICAgICAgICAgeyJidWJibGluZ01vdXNlRXZlbnRzIjogdHJ1ZSwgImNvbG9yIjogIiNGRjAwMDAiLCAiZGFzaEFycmF5IjogbnVsbCwgImRhc2hPZmZzZXQiOiBudWxsLCAiZmlsbCI6IGZhbHNlLCAiZmlsbENvbG9yIjogIiNGRjAwMDAiLCAiZmlsbE9wYWNpdHkiOiAwLjIsICJmaWxsUnVsZSI6ICJldmVub2RkIiwgImxpbmVDYXAiOiAicm91bmQiLCAibGluZUpvaW4iOiAicm91bmQiLCAibm9DbGlwIjogZmFsc2UsICJvcGFjaXR5IjogMS4wLCAic21vb3RoRmFjdG9yIjogMS4wLCAic3Ryb2tlIjogdHJ1ZSwgIndlaWdodCI6IDV9CiAgICAgICAgICAgICkuYWRkVG8obWFwX2NiYWRiZjRiM2U0NjQ2MDI5ZTU3ODgyOTdkYTljMGRmKTsKICAgICAgICAKICAgIAogICAgICAgICAgICB2YXIgcG9seV9saW5lX2Q3OTYwZTE0NDdlNjRlNmRhMTgzNTZmYTFjMGRhNzM5ID0gTC5wb2x5bGluZSgKICAgICAgICAgICAgICAgIFtbNDEuOTYyNDAzNTgxMDgxNjksIC04Ny42ODQ0MTY4NDk0NjUzMV0sIFs0MS45NjI0MDM1ODEwODE2OSwgLTg3LjY4NDQxNjg0OTQ2NTMxXV0sCiAgICAgICAgICAgICAgICB7ImJ1YmJsaW5nTW91c2VFdmVudHMiOiB0cnVlLCAiY29sb3IiOiAiI0ZGMDAwMCIsICJkYXNoQXJyYXkiOiBudWxsLCAiZGFzaE9mZnNldCI6IG51bGwsICJmaWxsIjogZmFsc2UsICJmaWxsQ29sb3IiOiAiI0ZGMDAwMCIsICJmaWxsT3BhY2l0eSI6IDAuMiwgImZpbGxSdWxlIjogImV2ZW5vZGQiLCAibGluZUNhcCI6ICJyb3VuZCIsICJsaW5lSm9pbiI6ICJyb3VuZCIsICJub0NsaXAiOiBmYWxzZSwgIm9wYWNpdHkiOiAxLjAsICJzbW9vdGhGYWN0b3IiOiAxLjAsICJzdHJva2UiOiB0cnVlLCAid2VpZ2h0IjogNX0KICAgICAgICAgICAgKS5hZGRUbyhtYXBfY2JhZGJmNGIzZTQ2NDYwMjllNTc4ODI5N2RhOWMwZGYpOwogICAgICAgIAogICAgCiAgICAgICAgICAgIHZhciBwb2x5X2xpbmVfNmU1MjI0Yjk4YTE0NDBlOWE1ZjQ5NzU5NDgxOTY2MWYgPSBMLnBvbHlsaW5lKAogICAgICAgICAgICAgICAgW1s0MS44MDgzODQ0MjM2NjYzNTQsIC04Ny42Nzc1Njk2Mzg3NDE5Nl0sIFs0MS43NzY3ODIwNTYyMTY0NiwgLTg3Ljc4MTgxOTc4NzU1MTE2XV0sCiAgICAgICAgICAgICAgICB7ImJ1YmJsaW5nTW91c2VFdmVudHMiOiB0cnVlLCAiY29sb3IiOiAiI0ZGMDAwMCIsICJkYXNoQXJyYXkiOiBudWxsLCAiZGFzaE9mZnNldCI6IG51bGwsICJmaWxsIjogZmFsc2UsICJmaWxsQ29sb3IiOiAiI0ZGMDAwMCIsICJmaWxsT3BhY2l0eSI6IDAuMiwgImZpbGxSdWxlIjogImV2ZW5vZGQiLCAibGluZUNhcCI6ICJyb3VuZCIsICJsaW5lSm9pbiI6ICJyb3VuZCIsICJub0NsaXAiOiBmYWxzZSwgIm9wYWNpdHkiOiAxLjAsICJzbW9vdGhGYWN0b3IiOiAxLjAsICJzdHJva2UiOiB0cnVlLCAid2VpZ2h0IjogNX0KICAgICAgICAgICAgKS5hZGRUbyhtYXBfY2JhZGJmNGIzZTQ2NDYwMjllNTc4ODI5N2RhOWMwZGYpOwogICAgICAgIAogICAgCiAgICAgICAgICAgIHZhciBwb2x5X2xpbmVfODU3YjJlMTZhMTY4NDRmNjgyNzg2ZGVlOGEzOTQxNWYgPSBMLnBvbHlsaW5lKAogICAgICAgICAgICAgICAgW1s0MS44ODExODU3MDQxNTE4NywgLTg3LjY3OTE0MjExMTExNzc2XSwgWzQxLjkxMDMyOCwgLTg3LjcwNTQyN11dLAogICAgICAgICAgICAgICAgeyJidWJibGluZ01vdXNlRXZlbnRzIjogdHJ1ZSwgImNvbG9yIjogIiNGRjAwMDAiLCAiZGFzaEFycmF5IjogbnVsbCwgImRhc2hPZmZzZXQiOiBudWxsLCAiZmlsbCI6IGZhbHNlLCAiZmlsbENvbG9yIjogIiNGRjAwMDAiLCAiZmlsbE9wYWNpdHkiOiAwLjIsICJmaWxsUnVsZSI6ICJldmVub2RkIiwgImxpbmVDYXAiOiAicm91bmQiLCAibGluZUpvaW4iOiAicm91bmQiLCAibm9DbGlwIjogZmFsc2UsICJvcGFjaXR5IjogMS4wLCAic21vb3RoRmFjdG9yIjogMS4wLCAic3Ryb2tlIjogdHJ1ZSwgIndlaWdodCI6IDV9CiAgICAgICAgICAgICkuYWRkVG8obWFwX2NiYWRiZjRiM2U0NjQ2MDI5ZTU3ODgyOTdkYTljMGRmKTsKICAgICAgICAKICAgIAogICAgICAgICAgICB2YXIgcG9seV9saW5lXzRiZTdiNTJjZGI4MjQzZDY5OGYyM2QwMTI1NDM1N2E2ID0gTC5wb2x5bGluZSgKICAgICAgICAgICAgICAgIFtbNDEuNzIwOTM0ODEyODY3MzYsIC04Ny42NDMwOTM5NTIxNjU0Ml0sIFs0MS42OTI5MTkwOTg1ODI0NiwgLTg3LjcwMTAzNzg4NTU0Mjc5XV0sCiAgICAgICAgICAgICAgICB7ImJ1YmJsaW5nTW91c2VFdmVudHMiOiB0cnVlLCAiY29sb3IiOiAiI0ZGMDAwMCIsICJkYXNoQXJyYXkiOiBudWxsLCAiZGFzaE9mZnNldCI6IG51bGwsICJmaWxsIjogZmFsc2UsICJmaWxsQ29sb3IiOiAiI0ZGMDAwMCIsICJmaWxsT3BhY2l0eSI6IDAuMiwgImZpbGxSdWxlIjogImV2ZW5vZGQiLCAibGluZUNhcCI6ICJyb3VuZCIsICJsaW5lSm9pbiI6ICJyb3VuZCIsICJub0NsaXAiOiBmYWxzZSwgIm9wYWNpdHkiOiAxLjAsICJzbW9vdGhGYWN0b3IiOiAxLjAsICJzdHJva2UiOiB0cnVlLCAid2VpZ2h0IjogNX0KICAgICAgICAgICAgKS5hZGRUbyhtYXBfY2JhZGJmNGIzZTQ2NDYwMjllNTc4ODI5N2RhOWMwZGYpOwogICAgICAgIAogICAgCiAgICAgICAgICAgIHZhciBwb2x5X2xpbmVfNDBhZDQ4MjZiM2MzNDY3Y2EwZjVlZjA2ZjVkYzViYzkgPSBMLnBvbHlsaW5lKAogICAgICAgICAgICAgICAgW1s0MS44ODExODU3MDQxNTE4NywgLTg3LjY3OTE0MjExMTExNzc2XSwgWzQxLjg5NTc1MjE4OTA3MDc4NCwgLTg3LjY2ODI2NjU5MDc5NTFdXSwKICAgICAgICAgICAgICAgIHsiYnViYmxpbmdNb3VzZUV2ZW50cyI6IHRydWUsICJjb2xvciI6ICIjRkYwMDAwIiwgImRhc2hBcnJheSI6IG51bGwsICJkYXNoT2Zmc2V0IjogbnVsbCwgImZpbGwiOiBmYWxzZSwgImZpbGxDb2xvciI6ICIjRkYwMDAwIiwgImZpbGxPcGFjaXR5IjogMC4yLCAiZmlsbFJ1bGUiOiAiZXZlbm9kZCIsICJsaW5lQ2FwIjogInJvdW5kIiwgImxpbmVKb2luIjogInJvdW5kIiwgIm5vQ2xpcCI6IGZhbHNlLCAib3BhY2l0eSI6IDEuMCwgInNtb290aEZhY3RvciI6IDEuMCwgInN0cm9rZSI6IHRydWUsICJ3ZWlnaHQiOiA1fQogICAgICAgICAgICApLmFkZFRvKG1hcF9jYmFkYmY0YjNlNDY0NjAyOWU1Nzg4Mjk3ZGE5YzBkZik7CiAgICAgICAgCiAgICAKICAgICAgICAgICAgdmFyIHBvbHlfbGluZV80MzUxZDhlMzI2YTA0OTkzYjVlMzlmMmJhZjgyYTZhZCA9IEwucG9seWxpbmUoCiAgICAgICAgICAgICAgICBbWzQxLjgwODM4NDQyMzY2NjM1NCwgLTg3LjY3NzU2OTYzODc0MTk2XSwgWzQxLjg0MjA1MzY3MDcwMTI4LCAtODcuNzI0OTY4ODQ0NzQyNDZdXSwKICAgICAgICAgICAgICAgIHsiYnViYmxpbmdNb3VzZUV2ZW50cyI6IHRydWUsICJjb2xvciI6ICIjRkYwMDAwIiwgImRhc2hBcnJheSI6IG51bGwsICJkYXNoT2Zmc2V0IjogbnVsbCwgImZpbGwiOiBmYWxzZSwgImZpbGxDb2xvciI6ICIjRkYwMDAwIiwgImZpbGxPcGFjaXR5IjogMC4yLCAiZmlsbFJ1bGUiOiAiZXZlbm9kZCIsICJsaW5lQ2FwIjogInJvdW5kIiwgImxpbmVKb2luIjogInJvdW5kIiwgIm5vQ2xpcCI6IGZhbHNlLCAib3BhY2l0eSI6IDEuMCwgInNtb290aEZhY3RvciI6IDEuMCwgInN0cm9rZSI6IHRydWUsICJ3ZWlnaHQiOiA1fQogICAgICAgICAgICApLmFkZFRvKG1hcF9jYmFkYmY0YjNlNDY0NjAyOWU1Nzg4Mjk3ZGE5YzBkZik7CiAgICAgICAgCiAgICAKICAgICAgICAgICAgdmFyIHBvbHlfbGluZV9iOWYwNmJlMGQyYmQ0YTUyOTNhNTgwZWY3NzhkMDZiMiA9IEwucG9seWxpbmUoCiAgICAgICAgICAgICAgICBbWzQxLjg4MTE4NTcwNDE1MTg3LCAtODcuNjc5MTQyMTExMTE3NzZdLCBbNDEuOTEwMDQyNDE2MTE2MzYsIC04Ny43MzM5MjYwOTIxNTQyOV1dLAogICAgICAgICAgICAgICAgeyJidWJibGluZ01vdXNlRXZlbnRzIjogdHJ1ZSwgImNvbG9yIjogIiNGRjAwMDAiLCAiZGFzaEFycmF5IjogbnVsbCwgImRhc2hPZmZzZXQiOiBudWxsLCAiZmlsbCI6IGZhbHNlLCAiZmlsbENvbG9yIjogIiNGRjAwMDAiLCAiZmlsbE9wYWNpdHkiOiAwLjIsICJmaWxsUnVsZSI6ICJldmVub2RkIiwgImxpbmVDYXAiOiAicm91bmQiLCAibGluZUpvaW4iOiAicm91bmQiLCAibm9DbGlwIjogZmFsc2UsICJvcGFjaXR5IjogMS4wLCAic21vb3RoRmFjdG9yIjogMS4wLCAic3Ryb2tlIjogdHJ1ZSwgIndlaWdodCI6IDV9CiAgICAgICAgICAgICkuYWRkVG8obWFwX2NiYWRiZjRiM2U0NjQ2MDI5ZTU3ODgyOTdkYTljMGRmKTsKICAgICAgICAKICAgIAogICAgICAgICAgICB2YXIgcG9seV9saW5lX2NjZGY0MzA5YTdhZDRiOThiOTJjMWNlODVmYWYxOTA3ID0gTC5wb2x5bGluZSgKICAgICAgICAgICAgICAgIFtbNDEuODA4Mzg0NDIzNjY2MzU0LCAtODcuNjc3NTY5NjM4NzQxOTZdLCBbNDEuNzgxODA3ODc3ODcyODIsIC04Ny43MDMyNjE2MjIxMTc1OF1dLAogICAgICAgICAgICAgICAgeyJidWJibGluZ01vdXNlRXZlbnRzIjogdHJ1ZSwgImNvbG9yIjogIiNGRjAwMDAiLCAiZGFzaEFycmF5IjogbnVsbCwgImRhc2hPZmZzZXQiOiBudWxsLCAiZmlsbCI6IGZhbHNlLCAiZmlsbENvbG9yIjogIiNGRjAwMDAiLCAiZmlsbE9wYWNpdHkiOiAwLjIsICJmaWxsUnVsZSI6ICJldmVub2RkIiwgImxpbmVDYXAiOiAicm91bmQiLCAibGluZUpvaW4iOiAicm91bmQiLCAibm9DbGlwIjogZmFsc2UsICJvcGFjaXR5IjogMS4wLCAic21vb3RoRmFjdG9yIjogMS4wLCAic3Ryb2tlIjogdHJ1ZSwgIndlaWdodCI6IDV9CiAgICAgICAgICAgICkuYWRkVG8obWFwX2NiYWRiZjRiM2U0NjQ2MDI5ZTU3ODgyOTdkYTljMGRmKTsKICAgICAgICAKICAgIAogICAgICAgICAgICB2YXIgcG9seV9saW5lXzljNTNhYTM1ZmI0MDRlNzg4NjEzMDZjY2ZmZDc2N2YwID0gTC5wb2x5bGluZSgKICAgICAgICAgICAgICAgIFtbNDEuNzIwOTM0ODEyODY3MzYsIC04Ny42NDMwOTM5NTIxNjU0Ml0sIFs0MS43MzA1NzQ4MzQ2MDkzOCwgLTg3LjU0OTgwNjk0MDAzOTE5XV0sCiAgICAgICAgICAgICAgICB7ImJ1YmJsaW5nTW91c2VFdmVudHMiOiB0cnVlLCAiY29sb3IiOiAiI0ZGMDAwMCIsICJkYXNoQXJyYXkiOiBudWxsLCAiZGFzaE9mZnNldCI6IG51bGwsICJmaWxsIjogZmFsc2UsICJmaWxsQ29sb3IiOiAiI0ZGMDAwMCIsICJmaWxsT3BhY2l0eSI6IDAuMiwgImZpbGxSdWxlIjogImV2ZW5vZGQiLCAibGluZUNhcCI6ICJyb3VuZCIsICJsaW5lSm9pbiI6ICJyb3VuZCIsICJub0NsaXAiOiBmYWxzZSwgIm9wYWNpdHkiOiAxLjAsICJzbW9vdGhGYWN0b3IiOiAxLjAsICJzdHJva2UiOiB0cnVlLCAid2VpZ2h0IjogNX0KICAgICAgICAgICAgKS5hZGRUbyhtYXBfY2JhZGJmNGIzZTQ2NDYwMjllNTc4ODI5N2RhOWMwZGYpOwogICAgICAgIAogICAgCiAgICAgICAgICAgIHZhciBwb2x5X2xpbmVfMWNkOWFiMDE1OWQwNGUxNWFjZTYwNTVjNWE0ZDk4MzMgPSBMLnBvbHlsaW5lKAogICAgICAgICAgICAgICAgW1s0MS44ODExODU3MDQxNTE4NywgLTg3LjY3OTE0MjExMTExNzc2XSwgWzQxLjg3OTMzODY1ODQ5MDc5LCAtODcuNzI1NTYwMzQ2MjAwNzRdXSwKICAgICAgICAgICAgICAgIHsiYnViYmxpbmdNb3VzZUV2ZW50cyI6IHRydWUsICJjb2xvciI6ICIjRkYwMDAwIiwgImRhc2hBcnJheSI6IG51bGwsICJkYXNoT2Zmc2V0IjogbnVsbCwgImZpbGwiOiBmYWxzZSwgImZpbGxDb2xvciI6ICIjRkYwMDAwIiwgImZpbGxPcGFjaXR5IjogMC4yLCAiZmlsbFJ1bGUiOiAiZXZlbm9kZCIsICJsaW5lQ2FwIjogInJvdW5kIiwgImxpbmVKb2luIjogInJvdW5kIiwgIm5vQ2xpcCI6IGZhbHNlLCAib3BhY2l0eSI6IDEuMCwgInNtb290aEZhY3RvciI6IDEuMCwgInN0cm9rZSI6IHRydWUsICJ3ZWlnaHQiOiA1fQogICAgICAgICAgICApLmFkZFRvKG1hcF9jYmFkYmY0YjNlNDY0NjAyOWU1Nzg4Mjk3ZGE5YzBkZik7CiAgICAgICAgCiAgICAKICAgICAgICAgICAgdmFyIHBvbHlfbGluZV8xNWVmM2FlMjVlNWQ0MTFkOGM1NzFhNTZjNzg0YjUxZiA9IEwucG9seWxpbmUoCiAgICAgICAgICAgICAgICBbWzQxLjcyMDkzNDgxMjg2NzM2LCAtODcuNjQzMDkzOTUyMTY1NDJdLCBbNDEuNzU3ODAxNzUxNjI4NzU1LCAtODcuNjUzOTgxNTUzMDk4NjJdXSwKICAgICAgICAgICAgICAgIHsiYnViYmxpbmdNb3VzZUV2ZW50cyI6IHRydWUsICJjb2xvciI6ICIjRkYwMDAwIiwgImRhc2hBcnJheSI6IG51bGwsICJkYXNoT2Zmc2V0IjogbnVsbCwgImZpbGwiOiBmYWxzZSwgImZpbGxDb2xvciI6ICIjRkYwMDAwIiwgImZpbGxPcGFjaXR5IjogMC4yLCAiZmlsbFJ1bGUiOiAiZXZlbm9kZCIsICJsaW5lQ2FwIjogInJvdW5kIiwgImxpbmVKb2luIjogInJvdW5kIiwgIm5vQ2xpcCI6IGZhbHNlLCAib3BhY2l0eSI6IDEuMCwgInNtb290aEZhY3RvciI6IDEuMCwgInN0cm9rZSI6IHRydWUsICJ3ZWlnaHQiOiA1fQogICAgICAgICAgICApLmFkZFRvKG1hcF9jYmFkYmY0YjNlNDY0NjAyOWU1Nzg4Mjk3ZGE5YzBkZik7CiAgICAgICAgCiAgICAKICAgICAgICAgICAgdmFyIHBvbHlfbGluZV9jNDlhY2JjMzExMzQ0YWY0ODAwYTQ2MWIzNWM4OTg4MSA9IEwucG9seWxpbmUoCiAgICAgICAgICAgICAgICBbWzQxLjcyMDkzNDgxMjg2NzM2LCAtODcuNjQzMDkzOTUyMTY1NDJdLCBbNDEuNzIxMTgwNTA1NDU2NDk1LCAtODcuNjcxOTQ2NDYxMzg4OF1dLAogICAgICAgICAgICAgICAgeyJidWJibGluZ01vdXNlRXZlbnRzIjogdHJ1ZSwgImNvbG9yIjogIiNGRjAwMDAiLCAiZGFzaEFycmF5IjogbnVsbCwgImRhc2hPZmZzZXQiOiBudWxsLCAiZmlsbCI6IGZhbHNlLCAiZmlsbENvbG9yIjogIiNGRjAwMDAiLCAiZmlsbE9wYWNpdHkiOiAwLjIsICJmaWxsUnVsZSI6ICJldmVub2RkIiwgImxpbmVDYXAiOiAicm91bmQiLCAibGluZUpvaW4iOiAicm91bmQiLCAibm9DbGlwIjogZmFsc2UsICJvcGFjaXR5IjogMS4wLCAic21vb3RoRmFjdG9yIjogMS4wLCAic3Ryb2tlIjogdHJ1ZSwgIndlaWdodCI6IDV9CiAgICAgICAgICAgICkuYWRkVG8obWFwX2NiYWRiZjRiM2U0NjQ2MDI5ZTU3ODgyOTdkYTljMGRmKTsKICAgICAgICAKICAgIAogICAgICAgICAgICB2YXIgcG9seV9saW5lXzljNmY4YjAwZWVkZDQwNDVhNGVlNWJhZDExYmVmM2FmID0gTC5wb2x5bGluZSgKICAgICAgICAgICAgICAgIFtbNDEuOTUzMTczOTAwNjQxNTgsIC04Ny43NzkzODY4MjA3MzU0MV0sIFs0MS44ODkyNzIxNTM1MTQ1MjYsIC04Ny43NjU3MTE4NjcyMjgxOF1dLAogICAgICAgICAgICAgICAgeyJidWJibGluZ01vdXNlRXZlbnRzIjogdHJ1ZSwgImNvbG9yIjogIiNGRjAwMDAiLCAiZGFzaEFycmF5IjogbnVsbCwgImRhc2hPZmZzZXQiOiBudWxsLCAiZmlsbCI6IGZhbHNlLCAiZmlsbENvbG9yIjogIiNGRjAwMDAiLCAiZmlsbE9wYWNpdHkiOiAwLjIsICJmaWxsUnVsZSI6ICJldmVub2RkIiwgImxpbmVDYXAiOiAicm91bmQiLCAibGluZUpvaW4iOiAicm91bmQiLCAibm9DbGlwIjogZmFsc2UsICJvcGFjaXR5IjogMS4wLCAic21vb3RoRmFjdG9yIjogMS4wLCAic3Ryb2tlIjogdHJ1ZSwgIndlaWdodCI6IDV9CiAgICAgICAgICAgICkuYWRkVG8obWFwX2NiYWRiZjRiM2U0NjQ2MDI5ZTU3ODgyOTdkYTljMGRmKTsKICAgICAgICAKPC9zY3JpcHQ+ onload=\"this.contentDocument.open();this.contentDocument.write(atob(this.getAttribute('data-html')));this.contentDocument.close();\" allowfullscreen webkitallowfullscreen mozallowfullscreen></iframe></div></div>"
      ],
      "text/plain": [
       "<folium.folium.Map at 0x233c81be6c8>"
      ]
     },
     "execution_count": 119,
     "metadata": {},
     "output_type": "execute_result"
    }
   ],
   "source": [
    "import folium\n",
    "map_osm = folium.Map(location=[41.878, -87.629], zoom_start=11)\n",
    "for coffeeshop in open_coffeeshops:\n",
    "    lt = coffeeshop.y\n",
    "    lg = coffeeshop.x\n",
    "    folium.Marker([lt, lg], icon=folium.Icon(color='red',icon='info-sign')).add_to(map_osm)\n",
    "    \n",
    "for b in libraries:\n",
    "    if b not in open_coffeeshops:\n",
    "        lt = b.y\n",
    "        lg = b.x\n",
    "        folium.Marker([lt, lg]).add_to(map_osm)\n",
    "    \n",
    "\n",
    "for (c, b) in edges:\n",
    "    coordinates = [[c.y, c.x], [b.y, b.x]]\n",
    "    map_osm.add_child(folium.PolyLine(coordinates, color='#FF0000', weight=5))\n",
    "\n",
    "map_osm"
   ]
  },
  {
   "cell_type": "markdown",
   "metadata": {
    "collapsed": true
   },
   "source": [
    "## Summary\n",
    "\n",
    "\n",
    "You learned how to set up and use IBM Decision Optimization CPLEX Modeling for Python to formulate a Mathematical Programming model and solve it with IBM Decision Optimization on Cloud."
   ]
  },
  {
   "cell_type": "markdown",
   "metadata": {
    "collapsed": true
   },
   "source": [
    "## References\n",
    "* [CPLEX Modeling for Python documentation](http://ibmdecisionoptimization.github.io/docplex-doc/)\n",
    "* [Decision Optimization on Cloud](https://developer.ibm.com/docloud/)\n",
    "* Need help with DOcplex or to report a bug? Please go [here](https://developer.ibm.com/answers/smartspace/docloud).\n",
    "* Contact us at dofeedback@wwpdl.vnet.ibm.com."
   ]
  },
  {
   "cell_type": "markdown",
   "metadata": {},
   "source": [
    "Copyright © 2017-2018 IBM. IPLA licensed Sample Materials."
   ]
  }
 ],
 "metadata": {
  "anaconda-cloud": {},
  "celltoolbar": "Dashboard",
  "kernelspec": {
   "display_name": "Python 3",
   "language": "python",
   "name": "python3"
  },
  "language_info": {
   "codemirror_mode": {
    "name": "ipython",
    "version": 3
   },
   "file_extension": ".py",
   "mimetype": "text/x-python",
   "name": "python",
   "nbconvert_exporter": "python",
   "pygments_lexer": "ipython3",
   "version": "3.7.7"
  }
 },
 "nbformat": 4,
 "nbformat_minor": 1
}
